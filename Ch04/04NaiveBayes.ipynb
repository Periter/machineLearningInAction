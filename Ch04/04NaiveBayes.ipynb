{
 "cells": [
  {
   "cell_type": "markdown",
   "metadata": {
    "toc": true
   },
   "source": [
    "<h1>Table of Contents<span class=\"tocSkip\"></span></h1>\n",
    "<div class=\"toc\"><ul class=\"toc-item\"><li><span><a href=\"#4.1-基于贝叶斯决策理论的分类方法\" data-toc-modified-id=\"4.1-基于贝叶斯决策理论的分类方法-1\">4.1 基于贝叶斯决策理论的分类方法</a></span></li><li><span><a href=\"#4.2-条件概率\" data-toc-modified-id=\"4.2-条件概率-2\">4.2 条件概率</a></span></li><li><span><a href=\"#4.3-使用条件概率来分类\" data-toc-modified-id=\"4.3-使用条件概率来分类-3\">4.3 使用条件概率来分类</a></span></li><li><span><a href=\"#4.4-使用朴素贝叶斯进行文档分类\" data-toc-modified-id=\"4.4-使用朴素贝叶斯进行文档分类-4\">4.4 使用朴素贝叶斯进行文档分类</a></span></li><li><span><a href=\"#4.5-使用Python进行文本分类\" data-toc-modified-id=\"4.5-使用Python进行文本分类-5\">4.5 使用Python进行文本分类</a></span><ul class=\"toc-item\"><li><span><a href=\"#4.5.1-准备数据：从文本中构建词向量\" data-toc-modified-id=\"4.5.1-准备数据：从文本中构建词向量-5.1\">4.5.1 准备数据：从文本中构建词向量</a></span></li><li><span><a href=\"#4.5.2-训练算法：从词向量计算概率\" data-toc-modified-id=\"4.5.2-训练算法：从词向量计算概率-5.2\">4.5.2 训练算法：从词向量计算概率</a></span></li><li><span><a href=\"#4.5.3测试算法：根据现实情况修改分类器\" data-toc-modified-id=\"4.5.3测试算法：根据现实情况修改分类器-5.3\">4.5.3测试算法：根据现实情况修改分类器</a></span></li><li><span><a href=\"#4.5.4-准备数据：文档词袋模型\" data-toc-modified-id=\"4.5.4-准备数据：文档词袋模型-5.4\">4.5.4 准备数据：文档词袋模型</a></span></li></ul></li><li><span><a href=\"#4.6-示例：使用朴素贝叶斯过滤垃圾邮件\" data-toc-modified-id=\"4.6-示例：使用朴素贝叶斯过滤垃圾邮件-6\">4.6 示例：使用朴素贝叶斯过滤垃圾邮件</a></span><ul class=\"toc-item\"><li><span><a href=\"#4.6.1准备数据：切分文本\" data-toc-modified-id=\"4.6.1准备数据：切分文本-6.1\">4.6.1准备数据：切分文本</a></span></li><li><span><a href=\"#4.6.2-测试算法：使用朴素贝叶斯进行交叉验证\" data-toc-modified-id=\"4.6.2-测试算法：使用朴素贝叶斯进行交叉验证-6.2\">4.6.2 测试算法：使用朴素贝叶斯进行交叉验证</a></span></li></ul></li><li><span><a href=\"#4.7-示例：略\" data-toc-modified-id=\"4.7-示例：略-7\">4.7 示例：略</a></span></li><li><span><a href=\"#4.8-本章小结\" data-toc-modified-id=\"4.8-本章小结-8\">4.8 本章小结</a></span></li></ul></div>"
   ]
  },
  {
   "cell_type": "markdown",
   "metadata": {},
   "source": [
    "# 朴素贝叶斯\n",
    "## 4.1 基于贝叶斯决策理论的分类方法\n",
    "- 优点：在数据较少的情况下仍然有效，可以处理多类别问题\n",
    "- 缺点：对于输入数据的准备方式较为敏感\n",
    "- 适用数据类型：标称型数据\n",
    "\n",
    "贝叶斯决策的核心思想是选择具有最高概率的决策"
   ]
  },
  {
   "cell_type": "markdown",
   "metadata": {},
   "source": [
    "## 4.2 条件概率\n",
    "贝叶斯法则，描述交换条件概率中的条件与结果的情况：\n",
    "$$p(c|x) = {{p(x|c)p(c)}\\over{p(x)}}$$"
   ]
  },
  {
   "cell_type": "markdown",
   "metadata": {},
   "source": [
    "## 4.3 使用条件概率来分类\n",
    "贝叶斯决策理论：\n",
    "- 如果$p_1(x,y) > p_2(x,y)$,那么输入类别1\n",
    "- 如果$p_1(x,y) < p_2(x,y)$,那么输入类别2\n",
    "\n",
    "但是这两个公式并不是贝叶斯决策的全部内容，使用$p_1()$和$p_2()$是为了尽可能简单的描述，真正需要计算和比较的是$p(c_1|x,y)$和$p(c_2|x,y)$,这些公式具有的含义是，给定某个有$x，y$表示的数据点，那么该数据点来自$c_1$的概率是多少，而来自$c_2$的概率又是多少，这些概率与刚给出的$p(x,y|c_1)$不同，通过贝叶斯概率公式能够转换：\n",
    "$$p(c_i|x) = {{p(x|c_i)p(c_i)}\\over{p(x)}}$$\n",
    "根据上边的公式，贝叶斯分类的准则为：\n",
    "- 如果$p(c_1|x,y) > p(c_2|x,y)$,那么输入类别1\n",
    "- 如果$p(c_1|x,y) < p(c_2|x,y)$,那么输入类别2"
   ]
  },
  {
   "cell_type": "markdown",
   "metadata": {},
   "source": [
    "## 4.4 使用朴素贝叶斯进行文档分类\n",
    "**一般流程:**\n",
    "1. 收集数据：可以是任何方法，本章使用RSS源\n",
    "2. 准备数据：需要数值型或者布尔型数据\n",
    "3. 分析数据：有大量特征时，绘制特征作用不大，此时使用直方图效果更好\n",
    "4. 训练算法：计算不同的独立特征的条件概率\n",
    "5. 测试算法：计算错误率\n",
    "6. 使用算法：一个常见的贝叶斯应用是文本分类\n",
    "\n",
    "由统计学知，如果每个特征需要N个样本，那么对于10个特征需要$N^10$个样本，对于1000个特征的数据集，需要$N^1000$个样本，可以发现，需哎哟的样本数会随着特征的数目指数级增加。\n",
    "如果特征之间相互独立，那么需要的样本数就由$N^{1000}$下降到$1000N$,这里的独立性指的是一个特征或者单词出现的可能性跟它的邻居没有关系;另一个假设是，每个特征同等重要，这两个假设就是navie 贝叶斯算法的朴素所在。\n",
    "\n",
    "\n",
    ">朴素：__特征独立性和同等重要性__"
   ]
  },
  {
   "cell_type": "markdown",
   "metadata": {},
   "source": [
    "## 4.5 使用Python进行文本分类\n",
    "从分本中获取特征，需要先拆分文本，然后将词条转化为词条向量，其中值为1代表该词条出现在该文档当中，0代表该词条未出现。"
   ]
  },
  {
   "cell_type": "markdown",
   "metadata": {},
   "source": [
    "### 4.5.1 准备数据：从文本中构建词向量\n",
    "我们把文本看成单词向量或者词条向量，也就是说将句子转换为向量。采用如下代码："
   ]
  },
  {
   "cell_type": "code",
   "execution_count": 1,
   "metadata": {},
   "outputs": [],
   "source": [
    "def loadDataSet():\n",
    "    '''加载数据集\n",
    "    返回：\n",
    "    postingList：单词矩阵\n",
    "    classVec：类标列表'''\n",
    "    postingList = [['my', 'dog', 'has', 'flea', 'problems', 'help', 'please'],\n",
    "                   ['maybe', 'not', 'take', 'him', 'to', 'dog', 'park', 'stupid'],\n",
    "                   ['my', 'dalmation', 'is', 'so', 'cute', 'I', 'love', 'him'],\n",
    "                   ['stop', 'posting', 'stupid', 'worthless', 'garbage'],\n",
    "                   ['mr', 'licks', 'ate', 'my', 'steak', 'how', 'to', 'stop', 'him'],\n",
    "                   ['quit', 'buying', 'worthless', 'dog', 'food', 'stupid']]\n",
    "    classVec = [0, 1, 0, 1, 0, 1]\n",
    "    return postingList, classVec\n",
    "\n",
    "def createVocabList(dataSet):\n",
    "    '''创建单词列表\n",
    "    传入：\n",
    "    dataSet：数据集\n",
    "    返回：\n",
    "    list(vocabSet)：非重复的单词list'''\n",
    "    vocabSet = set([])\n",
    "    for document in dataSet:\n",
    "        vocabSet = vocabSet | set(document)    # 两个集合去重\n",
    "    return list(vocabSet)    # 唯一出现的单词list\n",
    "\n",
    "def setOfWords2Vec(vocabList, inputSet):\n",
    "    '''单词列表转向量，存在于vocabList记为1,否则为0\n",
    "    传入：\n",
    "    vocabList：单词列表\n",
    "    inputSet：需要转换的列表\n",
    "    返回：\n",
    "    returnVec：转换后的向量\n",
    "    '''\n",
    "    returnVec = [0]*len(vocabList)    # 创建长度和单词表一样的list\n",
    "    for word in inputSet:\n",
    "        if word in vocabList:\n",
    "            returnVec[vocabList.index(word)] = 1    #出现过记为1\n",
    "        else:\n",
    "            print \"the word: %s is not in my Vocabulary!\" % word\n",
    "    return returnVec"
   ]
  },
  {
   "cell_type": "code",
   "execution_count": 2,
   "metadata": {},
   "outputs": [
    {
     "name": "stdout",
     "output_type": "stream",
     "text": [
      "['cute', 'love', 'help', 'garbage', 'quit', 'I', 'problems', 'is', 'park', 'stop', 'flea', 'dalmation', 'licks', 'food', 'not', 'him', 'buying', 'posting', 'has', 'worthless', 'ate', 'to', 'maybe', 'please', 'dog', 'how', 'stupid', 'so', 'take', 'mr', 'steak', 'my']\n"
     ]
    }
   ],
   "source": [
    "listOPosts, listClasses = loadDataSet()\n",
    "myVocabList = createVocabList(listOPosts)    # 非重复单词列表\n",
    "print myVocabList"
   ]
  },
  {
   "cell_type": "code",
   "execution_count": 3,
   "metadata": {},
   "outputs": [
    {
     "data": {
      "text/plain": [
       "[0,\n",
       " 0,\n",
       " 1,\n",
       " 0,\n",
       " 0,\n",
       " 0,\n",
       " 1,\n",
       " 0,\n",
       " 0,\n",
       " 0,\n",
       " 1,\n",
       " 0,\n",
       " 0,\n",
       " 0,\n",
       " 0,\n",
       " 0,\n",
       " 0,\n",
       " 0,\n",
       " 1,\n",
       " 0,\n",
       " 0,\n",
       " 0,\n",
       " 0,\n",
       " 1,\n",
       " 1,\n",
       " 0,\n",
       " 0,\n",
       " 0,\n",
       " 0,\n",
       " 0,\n",
       " 0,\n",
       " 1]"
      ]
     },
     "execution_count": 3,
     "metadata": {},
     "output_type": "execute_result"
    }
   ],
   "source": [
    "setOfWords2Vec(myVocabList, listOPosts[0])"
   ]
  },
  {
   "cell_type": "markdown",
   "metadata": {},
   "source": [
    "### 4.5.2 训练算法：从词向量计算概率\n",
    "我们重写贝叶斯准则，将x、y替换为$w$， $w$表示一个向量，它由很多个数值组成。在这个例子中，数值个数和词汇表的词个数相同。\n",
    "$$p(c_i|w)={p(w|c_i)p(c_i)\\over p(w)}$$\n",
    "利用上面的公式，对每个类计算其概率值，然后比较两个概率的大小。"
   ]
  },
  {
   "cell_type": "code",
   "execution_count": 4,
   "metadata": {},
   "outputs": [],
   "source": [
    "def trainNB0(trainMatrix, trainCategory):\n",
    "    '''训练NB分类器\n",
    "    传入：\n",
    "    trainMatrix：训练矩阵\n",
    "    trainCategory：训练真是类标\n",
    "    返回：\n",
    "    p0Vec：0类单词概率向量\n",
    "    p1Vec：1类单词概率向量\n",
    "    pAbusive：侮辱类概率\n",
    "    '''\n",
    "    numTrainDocs = len(trainMatrix)    # 文档样本数\n",
    "    numWords = len(trainMatrix[0])    # 样本单词数\n",
    "    pAbusive = sum(trainCategory) / float(numTrainDocs)    # 侮辱性文档的概率\n",
    "    # 防止连乘为0,修改初始化方式\n",
    "#     p0Num = zeros(numWords)\n",
    "#     p1Num = zeros(numWords)\n",
    "#     p0Denom, p1Denom = 0.0, 0.0\n",
    "    p0Num = ones(numWords)\n",
    "    p1Num = ones(numWords)\n",
    "    p0Denom, p1Denom = 2.0, 2.0\n",
    "    for i in range(numTrainDocs):    # 遍历所有样本\n",
    "        if trainCategory[i] == 1:    # 样本分类为侮辱类别\n",
    "            p1Num += trainMatrix[i]    # 向量相加，代表每个单词出现的次数\n",
    "            p1Denom += sum(trainMatrix[i])    # 总单词量\n",
    "        else:\n",
    "            p0Num += trainMatrix[i]\n",
    "            p0Denom += sum(trainMatrix[i])\n",
    "    # 对每个元素做除法\n",
    "#     p1Vect = p1Num/p1Denom    # change to log()\n",
    "#     p0Vect = p0Num/p0Denom    # change to log()\n",
    "    p1Vect = log(p1Num/p1Denom)    # 每个单词数量除以总单词量，得到每个单词的概率\n",
    "    p0Vect = log(p0Num/p0Denom)\n",
    "    return p0Vect, p1Vect, pAbusive"
   ]
  },
  {
   "cell_type": "code",
   "execution_count": 5,
   "metadata": {},
   "outputs": [
    {
     "name": "stdout",
     "output_type": "stream",
     "text": [
      "shape of trainMatrix:  (6, 32)\n",
      "[0, 0, 1, 0, 0, 0, 1, 0, 0, 0, 1, 0, 0, 0, 0, 0, 0, 0, 1, 0, 0, 0, 0, 1, 1, 0, 0, 0, 0, 0, 0, 1]\n"
     ]
    }
   ],
   "source": [
    "from numpy import *\n",
    "listOPosts, listClasses = loadDataSet()\n",
    "myVocabList = createVocabList(listOPosts)\n",
    "trainMat = []\n",
    "for postingDoc in listOPosts:    # 遍历所有样本\n",
    "    trainMat.append(setOfWords2Vec(myVocabList, postingDoc))    # 文本转向量后赋值给训练矩阵\n",
    "print \"shape of trainMatrix: \", shape(trainMat)\n",
    "print trainMat[0]"
   ]
  },
  {
   "cell_type": "code",
   "execution_count": 6,
   "metadata": {},
   "outputs": [],
   "source": [
    "poV, p1V, PAb = trainNB0(trainMat, listClasses)"
   ]
  },
  {
   "cell_type": "code",
   "execution_count": 7,
   "metadata": {},
   "outputs": [
    {
     "data": {
      "text/plain": [
       "array([-2.56494936, -2.56494936, -2.56494936, -3.25809654, -3.25809654,\n",
       "       -2.56494936, -2.56494936, -2.56494936, -3.25809654, -2.56494936,\n",
       "       -2.56494936, -2.56494936, -2.56494936, -3.25809654, -3.25809654,\n",
       "       -2.15948425, -3.25809654, -3.25809654, -2.56494936, -3.25809654,\n",
       "       -2.56494936, -2.56494936, -3.25809654, -2.56494936, -2.56494936,\n",
       "       -2.56494936, -3.25809654, -2.56494936, -3.25809654, -2.56494936,\n",
       "       -2.56494936, -1.87180218])"
      ]
     },
     "execution_count": 7,
     "metadata": {},
     "output_type": "execute_result"
    }
   ],
   "source": [
    "poV"
   ]
  },
  {
   "cell_type": "markdown",
   "metadata": {},
   "source": [
    "### 4.5.3测试算法：根据现实情况修改分类器\n",
    "计算多个概率乘积以获得文档某个类别的概述，即计算$p(w_o|1)p(w_2|1)p(w_3|1)$,如果一个概率为0,最后的结果也会为0,修改初始化方式，所有词出现的次数为1,分母初始化为2。小数连乘容易出现下溢，对这两行代码进行如下修改;\n",
    "```\n",
    "#     p1Vect = p1Num/p1Denom    # change to log()\n",
    "#     p0Vect = p0Num/p0Denom    # change to log()\n",
    "    p1Vect = log(p1Num/p1Denom)\n",
    "    p0Vect = log(p0Num/p0Denom)\n",
    "```"
   ]
  },
  {
   "cell_type": "code",
   "execution_count": 8,
   "metadata": {},
   "outputs": [],
   "source": [
    "def classifyNB(vec2Classify, p0Vec, p1Vec, pClass1):\n",
    "    '''根据公式计算各个类别的输出概率，然后比较概率的到预测类别\n",
    "    传入：\n",
    "    vec2Classify: 测试用例\n",
    "    p0Vec：0类概率向量\n",
    "    p1Vec：1类概率向量\n",
    "    pClass1：1类概率\n",
    "    '''\n",
    "    p1 = sum(vec2Classify * p1Vec) + log(pClass1)\n",
    "    p0 = sum(vec2Classify * p0Vec) + log(1.0-pClass1)\n",
    "    if p1 > p0:\n",
    "        return 1\n",
    "    else: \n",
    "        return 0\n",
    "def testingNB():\n",
    "    '''测试NB算法\n",
    "    '''\n",
    "    listOPosts, listClasses = loadDataSet()    # 准备训练数据\n",
    "    myVocabList = createVocabList(listOPosts)    # 准备词汇表\n",
    "    trainMat=[]    # 构建训练矩阵\n",
    "    for postinDoc in listOPosts:    # 遍历每个样本\n",
    "        trainMat.append(setOfWords2Vec(myVocabList, postinDoc))    # 文本转向量后赋值给训练矩阵\n",
    "        p0V, p1V, pAb = trainNB0(array(trainMat), array(listClasses))    # 计算概率\n",
    "    testEntry = ['love', 'my', 'dalmation']    # 测试用例\n",
    "    thisDoc = array(setOfWords2Vec(myVocabList, testEntry))    # 文本转向量\n",
    "    print testEntry, 'classified as: ', classifyNB(thisDoc, p0V, p1V, pAb)    # 输出分类预测结果\n",
    "    testEntry = ['stupid', 'garbage']\n",
    "    thisDoc = array(setOfWords2Vec(myVocabList, testEntry))    # 文本转向量\n",
    "    print testEntry, 'classified as: ', classifyNB(thisDoc, p0V, p1V, pAb)    # 输出分类预测结果"
   ]
  },
  {
   "cell_type": "code",
   "execution_count": 9,
   "metadata": {},
   "outputs": [
    {
     "name": "stdout",
     "output_type": "stream",
     "text": [
      "['love', 'my', 'dalmation'] classified as:  0\n",
      "['stupid', 'garbage'] classified as:  1\n"
     ]
    }
   ],
   "source": [
    "testingNB()"
   ]
  },
  {
   "cell_type": "markdown",
   "metadata": {},
   "source": [
    "### 4.5.4 准备数据：文档词袋模型\n",
    "一个词在文档中出现不止一次，这种方法称为词袋模型，而在词集中，每个词出现一次，为了适应词袋模型，我们需要将setOfWords2Vec() 修改为bagOfWords2Vec()."
   ]
  },
  {
   "cell_type": "code",
   "execution_count": 10,
   "metadata": {},
   "outputs": [],
   "source": [
    "def bagOfWords2VecMN(vocabList, inputSet):\n",
    "    '''词袋模型，可以统计单词出现的次数\n",
    "    '''\n",
    "    returnVec = [0]*len(vocabList)\n",
    "    for word in inputSet:\n",
    "        if word in vocabList:\n",
    "            returnVec[vocabList.index[word]] += 1    # 每出现一次自加1一次\n",
    "    return returnVec"
   ]
  },
  {
   "cell_type": "markdown",
   "metadata": {},
   "source": [
    "## 4.6 示例：使用朴素贝叶斯过滤垃圾邮件\n",
    "1. 收集数据：提供文本文件\n",
    "2. 准备数据：将文本文件解析成词条向量\n",
    "3. 分析数据：检查词条确保解析的正确性\n",
    "4. 训练算法：使用我们之间建立的trainNB0()函数\n",
    "5. 测试算法：使用classifyNB(),并构建一个新的数据集来测试性能\n",
    "6. 使用算法：构建一个完整的程序对一组文档进行分类，将错分的文档输出到屏幕上"
   ]
  },
  {
   "cell_type": "markdown",
   "metadata": {},
   "source": [
    "### 4.6.1准备数据：切分文本\n",
    "输入一行文本，可以使用Python的string.split()进行切分。"
   ]
  },
  {
   "cell_type": "code",
   "execution_count": 11,
   "metadata": {},
   "outputs": [
    {
     "data": {
      "text/plain": [
       "['This',\n",
       " 'book',\n",
       " 'is',\n",
       " 'the',\n",
       " 'best',\n",
       " 'book',\n",
       " 'on',\n",
       " 'python',\n",
       " 'or',\n",
       " 'M.L.',\n",
       " 'I',\n",
       " 'have',\n",
       " 'ever',\n",
       " 'laid',\n",
       " 'eyes',\n",
       " 'upon.']"
      ]
     },
     "execution_count": 11,
     "metadata": {},
     "output_type": "execute_result"
    }
   ],
   "source": [
    "mySent = 'This book is the best book on python or M.L. I have ever laid eyes upon.'\n",
    "mySent.split()"
   ]
  },
  {
   "cell_type": "markdown",
   "metadata": {},
   "source": [
    "切分之后标点符号也被当作了一部分，需要使用正则表达式进行单词的匹配"
   ]
  },
  {
   "cell_type": "code",
   "execution_count": 12,
   "metadata": {},
   "outputs": [
    {
     "data": {
      "text/plain": [
       "['This',\n",
       " 'book',\n",
       " 'is',\n",
       " 'the',\n",
       " 'best',\n",
       " 'book',\n",
       " 'on',\n",
       " 'python',\n",
       " 'or',\n",
       " 'M',\n",
       " 'L',\n",
       " 'I',\n",
       " 'have',\n",
       " 'ever',\n",
       " 'laid',\n",
       " 'eyes',\n",
       " 'upon',\n",
       " '']"
      ]
     },
     "execution_count": 12,
     "metadata": {},
     "output_type": "execute_result"
    }
   ],
   "source": [
    "import re\n",
    "regEx = re.compile('\\\\W*')\n",
    "listOfTokens = regEx.split(mySent)\n",
    "listOfTokens"
   ]
  },
  {
   "cell_type": "markdown",
   "metadata": {},
   "source": [
    "里边存在空的字符串，计算每个字符串的长度将其去掉"
   ]
  },
  {
   "cell_type": "code",
   "execution_count": 13,
   "metadata": {},
   "outputs": [
    {
     "data": {
      "text/plain": [
       "['This',\n",
       " 'book',\n",
       " 'is',\n",
       " 'the',\n",
       " 'best',\n",
       " 'book',\n",
       " 'on',\n",
       " 'python',\n",
       " 'or',\n",
       " 'M',\n",
       " 'L',\n",
       " 'I',\n",
       " 'have',\n",
       " 'ever',\n",
       " 'laid',\n",
       " 'eyes',\n",
       " 'upon']"
      ]
     },
     "execution_count": 13,
     "metadata": {},
     "output_type": "execute_result"
    }
   ],
   "source": [
    "[tok for tok in listOfTokens if len(tok)>0]"
   ]
  },
  {
   "cell_type": "markdown",
   "metadata": {},
   "source": [
    "句子开头单词是大写的，词带模型不需要记忆开头单词位置信息，调用lower()改成小写"
   ]
  },
  {
   "cell_type": "code",
   "execution_count": 14,
   "metadata": {},
   "outputs": [
    {
     "data": {
      "text/plain": [
       "['this',\n",
       " 'book',\n",
       " 'is',\n",
       " 'the',\n",
       " 'best',\n",
       " 'book',\n",
       " 'on',\n",
       " 'python',\n",
       " 'or',\n",
       " 'm',\n",
       " 'l',\n",
       " 'i',\n",
       " 'have',\n",
       " 'ever',\n",
       " 'laid',\n",
       " 'eyes',\n",
       " 'upon']"
      ]
     },
     "execution_count": 14,
     "metadata": {},
     "output_type": "execute_result"
    }
   ],
   "source": [
    "[tok.lower() for tok in listOfTokens if len(tok)>0]"
   ]
  },
  {
   "cell_type": "code",
   "execution_count": 15,
   "metadata": {},
   "outputs": [],
   "source": [
    "emailText = open('email/ham/6.txt').read()\n",
    "listOfTokens=regEx.split(emailText)"
   ]
  },
  {
   "cell_type": "markdown",
   "metadata": {},
   "source": [
    "### 4.6.2 测试算法：使用朴素贝叶斯进行交叉验证\n"
   ]
  },
  {
   "cell_type": "code",
   "execution_count": 16,
   "metadata": {},
   "outputs": [],
   "source": [
    "def textParse(bigString):\n",
    "    '''文本处理，将输入文本按空格切分，转换成小写后输出单词list\n",
    "    '''\n",
    "    import re \n",
    "    listOfTokens = re.split(r'\\W*', bigString)\n",
    "    return [tok.lower() for tok in listOfTokens if len(tok) > 2]\n",
    "\n",
    "def spamTest():\n",
    "    '''测试垃圾邮件分类\n",
    "    '''\n",
    "    docList, classList, fullText=[], [], []\n",
    "    for i in range(1, 26):    # 遍历所有样本\n",
    "        wordList = textParse(open('email/spam/%d.txt' % i).read())\n",
    "        docList.append(wordList)\n",
    "        # 追加，元素数目不变\n",
    "        fullText.extend(wordList)\n",
    "        classList.append(1)    # \n",
    "        wordList = textParse(open('email/ham/%d.txt' % i).read())\n",
    "        docList.append(wordList)\n",
    "        # 追加，元素数目不变\n",
    "        fullText.extend(wordList)\n",
    "        classList.append(0)\n",
    "    vocabList = createVocabList(docList)\n",
    "    \n",
    "    trainingSet, testSet = range(50), []\n",
    "    for i in range(10):\n",
    "        randIndex = int(random.uniform(0, len(trainingSet)))\n",
    "        testSet.append(trainingSet[randIndex])\n",
    "        del(trainingSet[randIndex])\n",
    "    trainMat, trainClasses = [], []\n",
    "    for docIndex in trainingSet:\n",
    "        trainMat.append(setOfWords2Vec(vocabList, docList[docIndex]))\n",
    "        trainClasses.append(classList[docIndex])\n",
    "    print len(trainMat), len(trainClasses)\n",
    "    p0V, p1V, pSpam = trainNB0(array(trainMat), array(trainClasses))\n",
    "    errorCount = 0\n",
    "    for docIndex in testSet:\n",
    "        wordVector = setOfWords2Vec(vocabList, docList[docIndex])\n",
    "        if classifyNB(array(wordVector), p0V, p1V, pSpam) != classList[docIndex]:\n",
    "            errorCount += 1\n",
    "    print 'the error rate is: ', float(errorCount)/len(testSet)"
   ]
  },
  {
   "cell_type": "code",
   "execution_count": 17,
   "metadata": {
    "scrolled": true
   },
   "outputs": [
    {
     "name": "stdout",
     "output_type": "stream",
     "text": [
      "40 40\n",
      "the error rate is:  0.0\n"
     ]
    }
   ],
   "source": [
    "spamTest()"
   ]
  },
  {
   "cell_type": "markdown",
   "metadata": {
    "heading_collapsed": true
   },
   "source": [
    "## 4.7 示例：略"
   ]
  },
  {
   "cell_type": "markdown",
   "metadata": {},
   "source": [
    "## 4.8 本章小结\n",
    "对于分类而言，使用概率有时要比硬规则更加有效。朴素贝叶斯通过特征之间的条件独立性假设，降低对数据的需求。\n",
    "依据概率转移公式进行统计，计算出每个分类的预测概率，输出概率最大的候选。\n",
    "\n",
    "词袋模型和词集模型的区别：\n",
    "- 词集：统计单词是否出现\n",
    "+ 词袋：统计单词出现的次数"
   ]
  }
 ],
 "metadata": {
  "kernelspec": {
   "display_name": "Python [conda env:py2.7]",
   "language": "python",
   "name": "conda-env-py2.7-py"
  },
  "language_info": {
   "codemirror_mode": {
    "name": "ipython",
    "version": 2
   },
   "file_extension": ".py",
   "mimetype": "text/x-python",
   "name": "python",
   "nbconvert_exporter": "python",
   "pygments_lexer": "ipython2",
   "version": "2.7.16"
  },
  "toc": {
   "base_numbering": 1,
   "nav_menu": {},
   "number_sections": false,
   "sideBar": true,
   "skip_h1_title": true,
   "title_cell": "Table of Contents",
   "title_sidebar": "Contents",
   "toc_cell": true,
   "toc_position": {},
   "toc_section_display": true,
   "toc_window_display": true
  }
 },
 "nbformat": 4,
 "nbformat_minor": 2
}
