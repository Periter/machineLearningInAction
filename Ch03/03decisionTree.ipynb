{
 "cells": [
  {
   "cell_type": "markdown",
   "metadata": {
    "toc": true
   },
   "source": [
    "<h1>Table of Contents<span class=\"tocSkip\"></span></h1>\n",
    "<div class=\"toc\"><ul class=\"toc-item\"><li><span><a href=\"#3.1-决策树构造\" data-toc-modified-id=\"3.1-决策树构造-1\">3.1 决策树构造</a></span><ul class=\"toc-item\"><li><span><a href=\"#3.1.1-信息增益\" data-toc-modified-id=\"3.1.1-信息增益-1.1\">3.1.1 信息增益</a></span></li><li><span><a href=\"#3.1.2-划分数据集\" data-toc-modified-id=\"3.1.2-划分数据集-1.2\">3.1.2 划分数据集</a></span></li><li><span><a href=\"#3.1.3-递归构造决策树\" data-toc-modified-id=\"3.1.3-递归构造决策树-1.3\">3.1.3 递归构造决策树</a></span></li></ul></li><li><span><a href=\"#3.2-在Python中使用Matplotlib注解绘制树形图\" data-toc-modified-id=\"3.2-在Python中使用Matplotlib注解绘制树形图-2\">3.2 在Python中使用Matplotlib注解绘制树形图</a></span><ul class=\"toc-item\"><li><span><a href=\"#3.2.1-Matplotlib注解\" data-toc-modified-id=\"3.2.1-Matplotlib注解-2.1\">3.2.1 Matplotlib注解</a></span></li></ul></li><li><span><a href=\"#3.3-测试和存储分类器\" data-toc-modified-id=\"3.3-测试和存储分类器-3\">3.3 测试和存储分类器</a></span><ul class=\"toc-item\"><li><span><a href=\"#3.3.1-测试算法：使用决策树执行分类\" data-toc-modified-id=\"3.3.1-测试算法：使用决策树执行分类-3.1\">3.3.1 测试算法：使用决策树执行分类</a></span></li><li><span><a href=\"#3.3.2-使用算法：决策树的存储\" data-toc-modified-id=\"3.3.2-使用算法：决策树的存储-3.2\">3.3.2 使用算法：决策树的存储</a></span></li></ul></li><li><span><a href=\"#3.4-示例：使用决策树预测隐形眼镜类型\" data-toc-modified-id=\"3.4-示例：使用决策树预测隐形眼镜类型-4\">3.4 示例：使用决策树预测隐形眼镜类型</a></span></li><li><span><a href=\"#本章小结\" data-toc-modified-id=\"本章小结-5\">本章小结</a></span></li></ul></div>"
   ]
  },
  {
   "cell_type": "markdown",
   "metadata": {},
   "source": [
    "# 决策树\n",
    "\n",
    "![jupyter](https://ws1.sinaimg.cn/large/005HdPy4gy1g5lq3r042tj30l30i1n1t.jpg)\n",
    "如上图，通过推断分析，逐步缩小待猜测事物的范围。前面介绍的KNN算法，最大的缺点是无法给出数据的内在含义，决策树主要优势是数据形式非常容易理解。"
   ]
  },
  {
   "cell_type": "markdown",
   "metadata": {},
   "source": [
    "## 3.1 决策树构造\n",
    "- 优点： 计算复杂度不高，输出结果易于理解，对中间值的缺失不敏感，可以处理不相关特征数据\n",
    "\n",
    "- 缺点： 可能会产生过度匹配问题\n",
    "\n",
    "- 适用数据类型： 数值型和标称型\n",
    "\n",
    "构建决策树时需要解决一个问题，当前数据集上那个特征在划分数据分类时起了决定性作用。为了找到决定性特征，我们需要对特征进行评估。训练和测试都需要对数据进行类型的划分分支操作。\n",
    "\n",
    "__决策树一般流程__\n",
    "1. 收集数据：可以使用任何方法\n",
    "2. 准备数据：树构造算法只适用于标称型数据，因此数字型数据必须离散化\n",
    "3. 分析数据：可以使用任何方法，构造树完成之后，我们应该检查图形是否符合预期\n",
    "4. 训练算法：构造树的数据结构\n",
    "5. 测试算法：使用经验树计算错误率\n",
    "6. 使用算法：适用于任何监督学习算法，使用决策树能够更好地理解数据内在含义。\n",
    "\n",
    "树的划分有二分法，如果根据属性的取值范围可以有n个分支。本书将使用ID3算法划分数据集，该算法如何划分数据集，何时停止划分数据，可以参考统计机器学习。\n",
    "\n",
    "现有如下数据：\n",
    "\n",
    "__表3-1 海洋生物数据__\n",
    "\n",
    "|序号| 不浮出水面能否生存|是否有脚趾|属于鱼类|\n",
    "|:-:|:-:              |:-:     |:-:   |\n",
    "|1  |是               |是       |是    |\n",
    "|2  |是               |是       |是    |\n",
    "|3  |是               |否       |否    |\n",
    "|4  |否               |是       |否    |\n",
    "|5  |否               |是       |否    |"
   ]
  },
  {
   "cell_type": "markdown",
   "metadata": {},
   "source": [
    "### 3.1.1 信息增益\n",
    "划分数据集的大致原则是：将无序对的数据变得更加有序。组织杂乱无章数据的一种方法是使用信息论度量信息，信息论是量化处理信息的分支科学。\n",
    "\n",
    "在划分数据集前后信息发生的变化称为信息增益，知道如何计算信息增益我们就知道每个特征值划分数据集获得的信息增益，获得增益最高的特征就是最好的选择。\n",
    "\n",
    "熵定义为信息的期望值，首先我们要知悉什么称为信息。如果待分类任务可划分在多个类别中，则类别$x_i$的信息定义为$$l(x_i)=-log_2p(x_i)$$\n",
    "其中$p(x_i)$是选择该类别的概率，有了信息之后，对所有信息求期望就得到了熵$$H=-\\sum_{i=1}^{n}{p(x_i)log_2p(x_i)}$$\n",
    "\n",
    "下面我们将用Python实现熵的计算。"
   ]
  },
  {
   "cell_type": "code",
   "execution_count": 1,
   "metadata": {},
   "outputs": [],
   "source": [
    "from math import log\n",
    "def calcShannonEnt(dataSet):\n",
    "    '''信息熵计算\n",
    "    传入：\n",
    "    dataSet：数据矩阵\n",
    "    返回：\n",
    "    shannonEng：信息熵\n",
    "    '''\n",
    "    numEntries = len(dataSet)    # 样本数\n",
    "    labelCounts = {}\n",
    "    # 为所有分类可能创建字典\n",
    "    for featVec in dataSet:\n",
    "        currentLabel = featVec[-1]    # 每个数据最后一列也就是类别标记\n",
    "        if currentLabel not in labelCounts.keys():    # 当前label不在字典里，则创建以当前label为键的键值对\n",
    "            labelCounts[currentLabel]=0\n",
    "        labelCounts[currentLabel] += 1    # 存在，则计数加1\n",
    "    shannonEnt = 0.0\n",
    "    for key in labelCounts:    # 遍历所有分类情况\n",
    "        prob = float(labelCounts[key])/numEntries    # 某个类别占全部数据的比例\n",
    "        shannonEnt -= prob * log(prob, 2)    # 以2为底的对数\n",
    "    return shannonEnt"
   ]
  },
  {
   "cell_type": "code",
   "execution_count": 2,
   "metadata": {},
   "outputs": [],
   "source": [
    "# 创建表格3-1的数据\n",
    "def createDataSet():\n",
    "    dataSet =[\n",
    "        [1,1,'yes'],\n",
    "        [1,1,'yes'],\n",
    "        [1,0,'no'],\n",
    "        [0,1,'no'],\n",
    "        [0,1,'no']\n",
    "    ]\n",
    "    labels = ['no surfacing', 'flippers']\n",
    "    return dataSet, labels"
   ]
  },
  {
   "cell_type": "code",
   "execution_count": 3,
   "metadata": {},
   "outputs": [
    {
     "name": "stdout",
     "output_type": "stream",
     "text": [
      "[[1, 1, 'yes'], [1, 1, 'yes'], [1, 0, 'no'], [0, 1, 'no'], [0, 1, 'no']]\n"
     ]
    },
    {
     "data": {
      "text/plain": [
       "0.9709505944546686"
      ]
     },
     "execution_count": 3,
     "metadata": {},
     "output_type": "execute_result"
    }
   ],
   "source": [
    "myDat,labels = createDataSet()\n",
    "# 输出划分数据\n",
    "print myDat\n",
    "# 输出信息熵\n",
    "calcShannonEnt(myDat)"
   ]
  },
  {
   "cell_type": "code",
   "execution_count": 4,
   "metadata": {},
   "outputs": [
    {
     "name": "stdout",
     "output_type": "stream",
     "text": [
      "[[1, 1, 'maybe'], [1, 1, 'yes'], [1, 0, 'no'], [0, 1, 'no'], [0, 1, 'no']]\n"
     ]
    },
    {
     "data": {
      "text/plain": [
       "1.3709505944546687"
      ]
     },
     "execution_count": 4,
     "metadata": {},
     "output_type": "execute_result"
    }
   ],
   "source": [
    "# 加入更多的分类，观察熵的变化\n",
    "myDat[0][-1] = 'maybe'\n",
    "print myDat\n",
    "calcShannonEnt(myDat)"
   ]
  },
  {
   "cell_type": "markdown",
   "metadata": {},
   "source": [
    "通过这个变化，我们可以按照获取最大信息增益的方法划分数据集。另一个度量集合无序程度的方法是基尼不纯度(Gini impurity) 简单地说，就是从一个数据集中随机选取子项，度量其被错误分类的概率。"
   ]
  },
  {
   "cell_type": "markdown",
   "metadata": {},
   "source": [
    "### 3.1.2 划分数据集\n",
    "从上一节，我们知道了如何计算信息熵，这一节将利用这个度量来划分数据集。我们将对每个特征划分数据集的结果计算一次信息熵，然后判断按照哪个特征划分数据集最好的方式。"
   ]
  },
  {
   "cell_type": "code",
   "execution_count": 5,
   "metadata": {},
   "outputs": [],
   "source": [
    "def splitDataSet(dataSet, axis, value):\n",
    "    '''划分数据集函数\n",
    "    传入：\n",
    "    dataSet：待划分数据集\n",
    "    axis：划分数据集特征\n",
    "    value：特征值\n",
    "    返回：\n",
    "    retDataSet：划分后数据集\n",
    "    '''\n",
    "    retDataSet = []\n",
    "    for featVec in dataSet:    # 遍历所有特征\n",
    "        # 按照第axis列属性，值为value的数据抽取出来，利用切片操作处理掉axis这一列\n",
    "        if featVec[axis] == value:\n",
    "            reducedFeatVec = featVec[:axis]\n",
    "            reducedFeatVec.extend(featVec[axis+1:])\n",
    "            retDataSet.append(reducedFeatVec)    # 将移除特征值为value之后的list放入retDataSet\n",
    "    return retDataSet"
   ]
  },
  {
   "cell_type": "code",
   "execution_count": 6,
   "metadata": {},
   "outputs": [
    {
     "name": "stdout",
     "output_type": "stream",
     "text": [
      "[[1, 1, 'maybe'], [1, 1, 'yes'], [1, 0, 'no'], [0, 1, 'no'], [0, 1, 'no']]\n"
     ]
    },
    {
     "data": {
      "text/plain": [
       "[[1, 'maybe'], [1, 'yes'], [0, 'no']]"
      ]
     },
     "execution_count": 6,
     "metadata": {},
     "output_type": "execute_result"
    }
   ],
   "source": [
    "# test\n",
    "print myDat\n",
    "splitDataSet(myDat, 0, 1)    # 输入数据，第1列特征，特征值为1的列将会被删除，并作为返回"
   ]
  },
  {
   "cell_type": "code",
   "execution_count": 7,
   "metadata": {},
   "outputs": [],
   "source": [
    "def chooseBestFeatureToSplit(dataSet):\n",
    "    '''选择特征\n",
    "    传入：\n",
    "    dataSet：数据矩阵\n",
    "    返回：\n",
    "    bestFeature：信息增益最大的特征\n",
    "    '''\n",
    "    numFeatures = len(dataSet[0])-1    # 最后一列是label，故需要减1\n",
    "    baseEntropy = calcShannonEnt(dataSet)    # 计算数据集原始信息熵\n",
    "    bestInfoGain, bestFeature = 0.0, -1    # 初始化计算需要的变量\n",
    "    for i in range(numFeatures):    # 遍历所有属性\n",
    "        # 创建唯一的属性取值，用set()\n",
    "        featList = [example[i] for example in dataSet]    # 获取第i个属性的属性值\n",
    "        uniqueVals = set(featList)    # 用set去重\n",
    "        # 计算每一个属性取值加起来的信息熵\n",
    "        newEntropy = 0.0\n",
    "        for value in uniqueVals:    # 遍历第i个属性可取的属性值\n",
    "            subDataSet = splitDataSet(dataSet, i, value)    # 根据第i个属性且属性值为value获取数据子集\n",
    "            prob = len(subDataSet)/float(len(dataSet))    # 计算子集占全集的比例\n",
    "            newEntropy += prob * calcShannonEnt(subDataSet)    # 计算属性i不同value划分子集后信息熵加权和\n",
    "        infoGain = baseEntropy - newEntropy    # 用原始整个数据集的信息熵减去去掉第i个属性的信息熵就是信息增益\n",
    "        # 选取最大的信息增益，把第i列记为最佳属性\n",
    "        if (infoGain > bestInfoGain):\n",
    "            bestInfoGain = infoGain    # 更新最优信息增益\n",
    "            bestFeature = i    # 更新最优选取特征\n",
    "    return bestFeature"
   ]
  },
  {
   "cell_type": "code",
   "execution_count": 8,
   "metadata": {},
   "outputs": [
    {
     "data": {
      "text/plain": [
       "0"
      ]
     },
     "execution_count": 8,
     "metadata": {},
     "output_type": "execute_result"
    }
   ],
   "source": [
    "# test\n",
    "myDat,labels = createDataSet()\n",
    "chooseBestFeatureToSplit(myDat)"
   ]
  },
  {
   "cell_type": "markdown",
   "metadata": {},
   "source": [
    "### 3.1.3 递归构造决策树\n",
    "目前我们已经学习了从数据集构造决策树算法的子模块，其流程大致如下;\n",
    "\n",
    "后续还会介绍其他决策树算法，C4.5和CART，这些算法在划分时不总是消耗特征，在每次划分中特征数目不一定减小，因此在使用中可能会引起一定地问题。现在先不考虑这种情况的问题。\n",
    "\n",
    "下面来解决这样一种问题，如果所有特征都处理完了，但是类标签依然不是唯一的，此时我们要怎么定义叶节点，我们通常采用多数表决的方法。代码如下："
   ]
  },
  {
   "cell_type": "code",
   "execution_count": 9,
   "metadata": {},
   "outputs": [],
   "source": [
    "import operator\n",
    "def majorityCnt(classList):\n",
    "    '''投票决策\n",
    "    传入：\n",
    "    classList：类标列表\n",
    "    返回：\n",
    "    对数对应的类标\n",
    "    '''\n",
    "    classCount={}    # 投票字典\n",
    "    for vote in classList:    # 遍历所有类标\n",
    "        if vote not in classCount.keys():    # 如果投票字典里没有当前类标值，以当前类标值为键，创建键值对\n",
    "            classCount[vote] = 0\n",
    "        classCount[vote] += 1    # 类标计数自加1\n",
    "    sortedClassCount = sorted(classCount.iteritems(), key=operator.itemgetter(1), reverse=True)    # 以类标计数为键，逆序排序\n",
    "    return sortedClassCount[0][0]    # sorted 函数会返回一个list，里边的元素是tuple[('yes', 3), ('no', 1)]"
   ]
  },
  {
   "cell_type": "code",
   "execution_count": 10,
   "metadata": {},
   "outputs": [],
   "source": [
    "def createTree(dataSet, labels):\n",
    "    '''创建决策树\n",
    "    传入：\n",
    "    dataSet：数据矩阵\n",
    "    labels：真实类标列表\n",
    "    返回：\n",
    "    myTree：决策树字典\n",
    "    '''\n",
    "    classList = [example[-1] for example in dataSet]    # 数据集里class类别\n",
    "    # 两种递归基本情况\n",
    "    if classList.count(classList[0]) == len(classList):    # 类别完全相同则停止继续划分\n",
    "        return classList[0]    # 直接返回这个类别\n",
    "    if len(dataSet[0]) == 1:    # 递归遍历剩最后一个特征返回出现次数最多的类别\n",
    "        return majorityCnt(classList)    # 调用多数表决\n",
    "    bestFeat = chooseBestFeatureToSplit(dataSet)    # 当前最好的特征索引\n",
    "    bestFeatLabel = labels[bestFeat]    # 当前最好特征的类标是一个list\n",
    "    myTree = {bestFeatLabel:{}}    # 存树的所有信息\n",
    "    del(labels[bestFeat])    # 删除labels里的bestFeat\n",
    "    featValues = [example[bestFeat] for example in dataSet]    # bestFeat里存在的所有取值情况\n",
    "    uniqueVals = set(featValues)    # 获取无重复的取值\n",
    "    for value in uniqueVals:\n",
    "        subLabels = labels[:]   # 复制类的标签， python中是引用传递，使用[:]能够赋值而不会改变原始的labels     \n",
    "        myTree[bestFeatLabel][value] = createTree(splitDataSet(dataSet,bestFeat,value),\\\n",
    "                                                  subLabels)    # 递归构建myTree字典\n",
    "    return myTree"
   ]
  },
  {
   "cell_type": "code",
   "execution_count": 11,
   "metadata": {},
   "outputs": [
    {
     "name": "stdout",
     "output_type": "stream",
     "text": [
      "[[1, 1, 'yes'], [1, 1, 'yes'], [1, 0, 'no'], [0, 1, 'no'], [0, 1, 'no']]\n"
     ]
    },
    {
     "data": {
      "text/plain": [
       "{'no surfacing': {0: 'no', 1: {'flippers': {0: 'no', 1: 'yes'}}}}"
      ]
     },
     "execution_count": 11,
     "metadata": {},
     "output_type": "execute_result"
    }
   ],
   "source": [
    "# 测试树的生成\n",
    "myDat, labels = createDataSet()\n",
    "print myDat\n",
    "createTree(myDat, labels)"
   ]
  },
  {
   "cell_type": "markdown",
   "metadata": {},
   "source": [
    "## 3.2 在Python中使用Matplotlib注解绘制树形图\n",
    "### 3.2.1 Matplotlib注解\n",
    "Matplotlib里有一个非常有用的注解工具annotations，他可以在数据图形上添加文本注解。"
   ]
  },
  {
   "cell_type": "code",
   "execution_count": 35,
   "metadata": {},
   "outputs": [],
   "source": [
    "import matplotlib.pyplot as plt\n",
    "%matplotlib inline\n",
    "\n",
    "decisionNode = dict(boxstyle=\"sawtooth\", fc=\"0.8\")    # 非叶节点\n",
    "leafNode = dict(boxstyle=\"round4\", fc=\"0.8\")    # 叶节点\n",
    "arrow_args = dict(arrowstyle=\"<-\")    # 连接箭头\n",
    "\n",
    "def plotNode(nodeTxt, centerPt, parentPt, nodeType):\n",
    "    '''绘图\n",
    "    传入：\n",
    "    nodeTxt：节点文本\n",
    "    centerPt：中心坐标\n",
    "    parentPt：父节点中心坐标\n",
    "    nodeType：决策节点或叶节点\n",
    "    '''\n",
    "    createPlot.ax1.annotate(nodeTxt, xy=parentPt, xycoords='axes fraction',xytext=centerPt,\\\n",
    "                           textcoords='axes fraction', va=\"center\", ha=\"center\", bbox=nodeType,\\\n",
    "                           arrowprops=arrow_args)\n"
   ]
  },
  {
   "cell_type": "code",
   "execution_count": 36,
   "metadata": {},
   "outputs": [],
   "source": [
    "def createPlot():\n",
    "    fig = plt.figure(1, facecolor='white')\n",
    "    fig.clf()\n",
    "    createPlot.ax1 = plt.subplot(111, frameon=False)    # 绘图区，是一个全局变量，会传入内部函数\n",
    "    plotNode('DecisionNode', (0.5, 0.1), (0.1, 0.5), decisionNode)\n",
    "    plotNode('LeafNode', (0.8, 0.1), (0.3, 0.8), leafNode)\n",
    "    plt.show()"
   ]
  },
  {
   "cell_type": "code",
   "execution_count": 37,
   "metadata": {},
   "outputs": [
    {
     "data": {
      "image/png": "[encoded data removed]",
      "text/plain": [
       "<Figure size 432x288 with 1 Axes>"
      ]
     },
     "metadata": {},
     "output_type": "display_data"
    }
   ],
   "source": [
    "createPlot()\n"
   ]
  },
  {
   "cell_type": "code",
   "execution_count": 38,
   "metadata": {},
   "outputs": [],
   "source": [
    "def getNumLeafs(myTree):\n",
    "    '''获取叶节点数目\n",
    "    传入：\n",
    "    myTree：决策树\n",
    "    返回：\n",
    "    numLeafs：叶节点数目\n",
    "    '''\n",
    "    numLeafs = 0\n",
    "    firstStr = myTree.keys()[0]    # 根节点\n",
    "    secondDict = myTree[firstStr]\n",
    "    for key in secondDict.keys():    # 遍历根节点的孩子节点\n",
    "        if type(secondDict[key]).__name__ == 'dict':    # 判断是否叶节点\n",
    "            numLeafs += getNumLeafs(secondDict[key])    # 非叶节点，递归寻找叶节点\n",
    "        else:\n",
    "            numLeafs += 1\n",
    "    return numLeafs"
   ]
  },
  {
   "cell_type": "code",
   "execution_count": 39,
   "metadata": {},
   "outputs": [],
   "source": [
    "def getTreeDepth(myTree):\n",
    "    '''获取树的高度\n",
    "    传入：\n",
    "    myTree：决策树\n",
    "    返回：\n",
    "    maxDepth：树的高度\n",
    "    '''\n",
    "    maxDepth = 0\n",
    "    firstStr = myTree.keys()[0]    # 根节点\n",
    "    secondDict = myTree[firstStr]\n",
    "    for key in secondDict.keys():    # 遍历根节点的孩子节点\n",
    "        if type(secondDict[key]).__name__ == 'dict':    # 判断是否叶节点\n",
    "            thisDepth = 1 + getTreeDepth(secondDict[key])    # 非叶节点，深度加1,接着递归寻找叶节点\n",
    "        else:\n",
    "            thisDepth = 1\n",
    "        if thisDepth > maxDepth:    # 更新深度\n",
    "            maxDepth = thisDepth\n",
    "    return maxDepth"
   ]
  },
  {
   "cell_type": "markdown",
   "metadata": {},
   "source": [
    "上述程序两个函数具有相同的结构，上面的代码说明了Python字典类型中存储的树的信息。第一个关键字是第一次划分数据集的类别标签，附带的数值表示字节点的取值。从第一个关键字出发，我们可以遍历整棵树的所有字节点。如果字节点的字典类型，则该节点也是一个判断节点，需要调用getNumLeafs()函数。"
   ]
  },
  {
   "cell_type": "code",
   "execution_count": 40,
   "metadata": {},
   "outputs": [],
   "source": [
    "def retrieveTree(i):\n",
    "    '''返回棵树\n",
    "    传入：\n",
    "    i：index\n",
    "    返回：两棵树，根据index返回其中返回一棵\n",
    "    '''\n",
    "    listOfTrees =[{'no surfacing': {0: 'no', 1: {'flippers': {0: 'no', 1: 'yes'}}}},\n",
    "                  {'no surfacing': {0: 'no', 1: {'flippers': {0: {'head': {0: 'no', 1: 'yes'}},\\\n",
    "                                                             1: 'no'}}}}]\n",
    "    return listOfTrees[i]"
   ]
  },
  {
   "cell_type": "code",
   "execution_count": 41,
   "metadata": {},
   "outputs": [
    {
     "name": "stdout",
     "output_type": "stream",
     "text": [
      "the numbers of leaf: 3\n",
      "the height of tree: 2\n"
     ]
    }
   ],
   "source": [
    "myTree = retrieveTree(0)\n",
    "print 'the numbers of leaf:', getNumLeafs(myTree)\n",
    "print 'the height of tree:', getTreeDepth(myTree)"
   ]
  },
  {
   "cell_type": "code",
   "execution_count": 44,
   "metadata": {},
   "outputs": [],
   "source": [
    "def plotMidText(cntrPt, parentPt, txtString):\n",
    "    '''绘制连接线上的文本\n",
    "    cntrPt：子节点坐标\n",
    "    paretPt：父节点坐标\n",
    "    txtString：绘制的文本\n",
    "    '''\n",
    "    # 计算坐标\n",
    "    xMid = (parentPt[0] - cntrPt[0])/2.0 + cntrPt[0]\n",
    "    yMid = (parentPt[1] - cntrPt[1])/2.0 + cntrPt[1]\n",
    "    createPlot.ax1.text(xMid, yMid, txtString)    # 在绘图区域ax1绘制\n",
    "    \n",
    "def plotTree(myTree, parentPt, nodeTxt):\n",
    "    '''绘制决策树\n",
    "    myTree：决策树字典\n",
    "    parentPt：父节点坐标\n",
    "    nodeTxt：节点文本呢\n",
    "    '''\n",
    "    numLeafs = getNumLeafs(myTree)    # 叶节点数目\n",
    "    depth = getTreeDepth(myTree)    # 树的高度\n",
    "    firstStr = myTree.keys()[0]    # 根节点\n",
    "    print \"numberLeaf:\", numLeafs\n",
    "    cntrPt = (plotTree.xOff + (1.0+float(numLeafs))/2.0/plotTree.totalW, plotTree.yOff)    # 节点坐标\n",
    "    plotMidText(cntrPt, parentPt, nodeTxt)    # 绘制节点文本\n",
    "    plotNode(firstStr, cntrPt, parentPt, decisionNode)    # 绘制节点\n",
    "    secondDict = myTree[firstStr]    # 根节点孩子节点\n",
    "    plotTree.yOff = plotTree.yOff - 1.0/plotTree.totalD    # 绘制完叶节点，yOff升一层\n",
    "    for key in secondDict.keys():    # 遍历根节点的孩子节点\n",
    "        if type(secondDict[key]).__name__ == 'dict':    # 是否叶节点\n",
    "            plotTree(secondDict[key], cntrPt, str(key))    # 递归寻找叶节点\n",
    "        else:\n",
    "            plotTree.xOff = plotTree.xOff + 1.0/plotTree.totalW    # 更新横坐标\n",
    "            plotNode(secondDict[key], (plotTree.xOff, plotTree.yOff), cntrPt, leafNode)    # 绘制节点\n",
    "            plotMidText((plotTree.xOff, plotTree.yOff), cntrPt, str(key))    # 绘制箭头文本\n",
    "    plotTree.yOff = plotTree.yOff + 1.0/plotTree.totalD    # 绘制完叶节点，yOff升一层\n",
    "def createPlot(inTree):\n",
    "    '''绘制函数\n",
    "    '''\n",
    "    fig = plt.figure(1, facecolor = 'white')\n",
    "    fig.clf()\n",
    "    axprops = dict(xticks=[], yticks=[])\n",
    "    createPlot.ax1 = plt.subplot(111, frameon= False, **axprops)    #创建绘图区\n",
    "    plotTree.totalW = float(getNumLeafs(inTree))    # 全局变量，叶节点数目\n",
    "    plotTree.totalD = float(getTreeDepth(inTree))    #全局变量，树的高度\n",
    "    plotTree.xOff = -0.5/plotTree.totalW\n",
    "    plotTree.yOff = 1.0\n",
    "    plotTree(inTree, (0.5, 1.0), '')\n",
    "    plt.show()"
   ]
  },
  {
   "cell_type": "code",
   "execution_count": 46,
   "metadata": {},
   "outputs": [
    {
     "name": "stdout",
     "output_type": "stream",
     "text": [
      "numberLeaf: 3\n",
      "numberLeaf: 2\n"
     ]
    },
    {
     "data": {
      "image/png": "[encoded data removed]",
      "text/plain": [
       "<Figure size 432x288 with 1 Axes>"
      ]
     },
     "metadata": {},
     "output_type": "display_data"
    }
   ],
   "source": [
    "myTree = retrieveTree(0)\n",
    "createPlot(myTree)"
   ]
  },
  {
   "cell_type": "markdown",
   "metadata": {},
   "source": [
    "## 3.3 测试和存储分类器\n",
    "下面介绍实际应用中如何使用分类器，在真实数据上使用决策树分类算法，验证它是否可以正确预测出患者应该使用的隐形眼镜类型。\n",
    "### 3.3.1 测试算法：使用决策树执行分类\n",
    "在执行数据分类时，需要使用决策树以及构造决策树的标签向量。程序比较测试数据与决策树上的数值，递归执行该过程知道进入叶子节点，最后将测试数据定义为叶子节点所属的类型。"
   ]
  },
  {
   "cell_type": "code",
   "execution_count": 47,
   "metadata": {},
   "outputs": [],
   "source": [
    "def classify(inputTree, featLabels, testVec):\n",
    "    '''决策树分类器\n",
    "    传入：\n",
    "    inputTree：构造好的决策树\n",
    "    featLabels：决策树真实类标\n",
    "    testVct：测试用例\n",
    "    返回：\n",
    "    classLabel：预测类标'''\n",
    "    firstStr = inputTree.keys()[0]    # 根节点\n",
    "    secondDict = inputTree[firstStr]    # 根节点的孩子节点\n",
    "    featIndex = featLabels.index(firstStr)\n",
    "    for key in secondDict.keys():\n",
    "        if testVec[featIndex] == key:\n",
    "            if type(secondDict[key]).__name__ == 'dict':\n",
    "                classLabel = classify(secondDict[key], featLabels, testVec)    # 递归直至叶节点\n",
    "            else:\n",
    "                classLabel = secondDict[key]    # 该分支的类标\n",
    "    return classLabel"
   ]
  },
  {
   "cell_type": "code",
   "execution_count": 48,
   "metadata": {},
   "outputs": [],
   "source": [
    "myDat, labels = createDataSet()\n",
    "myTree = retrieveTree(0)"
   ]
  },
  {
   "cell_type": "code",
   "execution_count": 49,
   "metadata": {},
   "outputs": [
    {
     "data": {
      "text/plain": [
       "'no'"
      ]
     },
     "execution_count": 49,
     "metadata": {},
     "output_type": "execute_result"
    }
   ],
   "source": [
    "classify(myTree,labels,[1,0])"
   ]
  },
  {
   "cell_type": "markdown",
   "metadata": {},
   "source": [
    "### 3.3.2 使用算法：决策树的存储\n",
    "构造决策树是很耗时的任务，即使处理很小的数据集。为了节省计算时间，最好能够在每次执行分类时调用一斤构造好的决策树。为了解决这个问题，需要使用Python模块pickle序列化对象，序列化对象可以在磁盘上保存对象，并在需要的时候读取出来。任何对象都可以执行序列化操作，字典对象也不例外。"
   ]
  },
  {
   "cell_type": "code",
   "execution_count": 24,
   "metadata": {},
   "outputs": [],
   "source": [
    "import pickle\n",
    "def storeTree(inputTree, filename):\n",
    "    fw = open(filename, 'w')\n",
    "    pickle.dump(inputTree, fw)\n",
    "    fw.close()\n",
    "def grabTree(filename):\n",
    "    fr = open(filename)\n",
    "    return pickle.load(fr)"
   ]
  },
  {
   "cell_type": "markdown",
   "metadata": {},
   "source": [
    "## 3.4 示例：使用决策树预测隐形眼镜类型\n",
    "1. 收集数据：提供的文本\n",
    "2. 准备数据：解析tab分隔的数据行\n",
    "3. 分析数据：快速检查数据，确保正确地解析数据内容，使用createPlot()函数绘制最终的树形图\n",
    "4. 训练算法：使用3.1节的createTree()函数\n",
    "5. 测试算法：编写测试函数验证决策树可以正确分类给定的数据类型\n",
    "6. 使用算法：存储树的数据结构，以便下次使用时无需重新构造树"
   ]
  },
  {
   "cell_type": "code",
   "execution_count": 25,
   "metadata": {},
   "outputs": [
    {
     "data": {
      "image/png": "[encoded data removed]",
      "text/plain": [
       "<Figure size 432x288 with 1 Axes>"
      ]
     },
     "metadata": {},
     "output_type": "display_data"
    }
   ],
   "source": [
    "# 收集数据\n",
    "fr = open('lenses.txt')\n",
    "# 准备数据\n",
    "lenses = [inst.strip().split('\\t') for inst in fr.readlines()]\n",
    "lensesLabels = ['age', 'prescript', 'astigmatic', 'tearRate']\n",
    "# 训练算法\n",
    "lensesTree = createTree(lenses, lensesLabels)\n",
    "# 分析数据\n",
    "createPlot(lensesTree)"
   ]
  },
  {
   "cell_type": "markdown",
   "metadata": {},
   "source": [
    "上图很好的匹配了实验数据， 然而这些匹配项可能太多了，出现过度匹配问题，为了缓解这个问题，我们可以对决策树进行裁剪，去掉一些不必要的叶子节点，第9章将讨论这个问题。"
   ]
  },
  {
   "cell_type": "markdown",
   "metadata": {},
   "source": [
    "## 本章小结\n",
    "决策树分类器就像带有终止块的流程图，终止块表示分类结果。开始处理数据的时候，我们先要测量集合数据的不一致性，也就是熵。基于信息增益的ID3算法可以用于划分标称型数据集，而无法直接处理数值数据。\n",
    "还有其他流行的决策树构造算法，C4.5、CART和基于基尼不纯度的决策树。"
   ]
  }
 ],
 "metadata": {
  "kernelspec": {
   "display_name": "Python [conda env:py2.7]",
   "language": "python",
   "name": "conda-env-py2.7-py"
  },
  "language_info": {
   "codemirror_mode": {
    "name": "ipython",
    "version": 2
   },
   "file_extension": ".py",
   "mimetype": "text/x-python",
   "name": "python",
   "nbconvert_exporter": "python",
   "pygments_lexer": "ipython2",
   "version": "2.7.16"
  },
  "toc": {
   "base_numbering": 1,
   "nav_menu": {},
   "number_sections": false,
   "sideBar": true,
   "skip_h1_title": true,
   "title_cell": "Table of Contents",
   "title_sidebar": "Contents",
   "toc_cell": true,
   "toc_position": {},
   "toc_section_display": true,
   "toc_window_display": true
  }
 },
 "nbformat": 4,
 "nbformat_minor": 2
}
