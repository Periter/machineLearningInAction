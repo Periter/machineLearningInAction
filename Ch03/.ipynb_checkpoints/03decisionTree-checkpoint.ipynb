{
 "cells": [
  {
   "cell_type": "markdown",
   "metadata": {
    "toc": true
   },
   "source": [
    "<h1>Table of Contents<span class=\"tocSkip\"></span></h1>\n",
    "<div class=\"toc\"><ul class=\"toc-item\"><li><span><a href=\"#3.1-决策树构造\" data-toc-modified-id=\"3.1-决策树构造-1\">3.1 决策树构造</a></span><ul class=\"toc-item\"><li><span><a href=\"#3.1.1-信息增益\" data-toc-modified-id=\"3.1.1-信息增益-1.1\">3.1.1 信息增益</a></span></li><li><span><a href=\"#3.1.2-划分数据集\" data-toc-modified-id=\"3.1.2-划分数据集-1.2\">3.1.2 划分数据集</a></span></li><li><span><a href=\"#3.1.3-递归构造决策树\" data-toc-modified-id=\"3.1.3-递归构造决策树-1.3\">3.1.3 递归构造决策树</a></span></li></ul></li><li><span><a href=\"#3.2-在Python中使用Matplotlib注解绘制树形图\" data-toc-modified-id=\"3.2-在Python中使用Matplotlib注解绘制树形图-2\">3.2 在Python中使用Matplotlib注解绘制树形图</a></span><ul class=\"toc-item\"><li><span><a href=\"#3.2.1-Matplotlib注解\" data-toc-modified-id=\"3.2.1-Matplotlib注解-2.1\">3.2.1 Matplotlib注解</a></span></li></ul></li></ul></div>"
   ]
  },
  {
   "cell_type": "markdown",
   "metadata": {},
   "source": [
    "# 决策树\n",
    "通过推断分析，逐步缩小待猜测事物的范围。前面介绍的KNN算法，最大的缺点是无法给出数据的内在含义，决策树主要优势是数据形式非常容易理解。"
   ]
  },
  {
   "cell_type": "markdown",
   "metadata": {},
   "source": [
    "## 3.1 决策树构造\n",
    "- 优点： 计算复杂度不高，输出结果易于理解，对中间值的缺失不敏感，可以处理不相关特征数据\n",
    "\n",
    "- 缺点： 可能会产生过度匹配问题\n",
    "\n",
    "- 适用数据类型： 数值型和标称型\n",
    "\n",
    "构建决策树时需要解决一个问题，当前数据集上那个特征在划分数据分类时起了决定性作用。为了找到决定性特征，我们需要对特征进行评估。训练和测试都需要对数据进行类型的划分分支操作。\n",
    "__决策树一般流程__\n",
    "1. 收集数据：可以使用任何方法\n",
    "2. 准备数据：树构造算法只适用于标称型数据，因此数字型数据必须离散化\n",
    "3. 分析数据：可以使用任何方法，构造树完成之后，我们应该检查图形是否符合预期\n",
    "4. 训练算法：构造树的数据结构\n",
    "5. 测试算法：使用经验树计算错误率\n",
    "6. 使用算法：适用于任何监督学习算法，使用决策树能够更好地理解数据内在含义。\n",
    "\n",
    "树的划分有二分法，如果根据属性的取值范围可以有n个分支。本书将使用ID3算法划分数据集，该算法如何划分数据集，何时停止划分数据，可以参考统计机器学习。\n",
    "\n",
    "现有如下数据：\n",
    "\n",
    "__表3-1 海洋生物数据__\n",
    "\n",
    "|序号| 不浮出水面能否生存|是否有脚趾|属于鱼类|\n",
    "|:-:|:-:              |:-:     |:-:   |\n",
    "|1  |是               |是       |是    |\n",
    "|2  |是               |是       |是    |\n",
    "|3  |是               |否       |否    |\n",
    "|4  |否               |是       |否    |\n",
    "|5  |否               |是       |否    |"
   ]
  },
  {
   "cell_type": "markdown",
   "metadata": {},
   "source": [
    "### 3.1.1 信息增益\n",
    "划分数据集的大致原则是：将无序对的数据变得更加有序。组织杂乱无章数据的一种方法是使用信息论度量信息，信息论是量化处理信息的分支科学。\n",
    "\n",
    "在划分数据集前后信息发生的变化称为信息增益，知道如何计算信息增益我们就知道每个特征值划分数据集获得的信息增益，获得增益最高的特征就是最好的选择。\n",
    "\n",
    "熵定义为信息的期望值，首先我们要知悉什么称为信息。如果待分类任务可划分在多个类别中，则类别$x_i$的信息定义为$$l(x_i)=-log_2p(x_i)$$\n",
    "其中$p(x_i)$是选择该类别的概率，有了信息之后，对所有信息求期望就得到了熵$$H=-\\sum_{i=1}^{n}{p(x_i)log_2p(x_i)}$$\n",
    "\n",
    "下面我们将用Python实现熵的计算。"
   ]
  },
  {
   "cell_type": "code",
   "execution_count": 1,
   "metadata": {},
   "outputs": [],
   "source": [
    "from math import log\n",
    "def calcShannonEnt(dataSet):\n",
    "    numEntries = len(dataSet)\n",
    "    labelCounts = {}\n",
    "    # 为所有分类可能创建字典\n",
    "    for featVec in dataSet:\n",
    "        currentLabel = featVec[-1]    # 每个数据最后一列也就是类别标记\n",
    "        if currentLabel not in labelCounts.keys():\n",
    "            labelCounts[currentLabel]=0\n",
    "        labelCounts[currentLabel] += 1\n",
    "    shannonEnt = 0.0\n",
    "    for key in labelCounts:\n",
    "        prob = float(labelCounts[key])/numEntries    # 某个类别占全部数据的比例\n",
    "        shannonEnt -= prob * log(prob, 2)\n",
    "    return shannonEnt"
   ]
  },
  {
   "cell_type": "code",
   "execution_count": 2,
   "metadata": {},
   "outputs": [],
   "source": [
    "# 创建表格3-1的数据\n",
    "def createDataSet():\n",
    "    dataSet =[\n",
    "        [1,1,'yes'],\n",
    "        [1,1,'yes'],\n",
    "        [1,0,'no'],\n",
    "        [0,1,'no'],\n",
    "        [0,1,'no']\n",
    "    ]\n",
    "    labels = ['no surfacing', 'flippers']\n",
    "    return dataSet, labels"
   ]
  },
  {
   "cell_type": "code",
   "execution_count": 3,
   "metadata": {},
   "outputs": [
    {
     "data": {
      "text/plain": [
       "[[1, 1, 'yes'], [1, 1, 'yes'], [1, 0, 'no'], [0, 1, 'no'], [0, 1, 'no']]"
      ]
     },
     "execution_count": 3,
     "metadata": {},
     "output_type": "execute_result"
    }
   ],
   "source": [
    "myDat,labels = createDataSet()\n",
    "myDat"
   ]
  },
  {
   "cell_type": "code",
   "execution_count": 4,
   "metadata": {},
   "outputs": [
    {
     "data": {
      "text/plain": [
       "0.9709505944546686"
      ]
     },
     "execution_count": 4,
     "metadata": {},
     "output_type": "execute_result"
    }
   ],
   "source": [
    "calcShannonEnt(myDat)"
   ]
  },
  {
   "cell_type": "code",
   "execution_count": 5,
   "metadata": {},
   "outputs": [
    {
     "name": "stdout",
     "output_type": "stream",
     "text": [
      "[[1, 1, 'maybe'], [1, 1, 'yes'], [1, 0, 'no'], [0, 1, 'no'], [0, 1, 'no']]\n"
     ]
    },
    {
     "data": {
      "text/plain": [
       "1.3709505944546687"
      ]
     },
     "execution_count": 5,
     "metadata": {},
     "output_type": "execute_result"
    }
   ],
   "source": [
    "# 加入更多的分类，观察熵的变化\n",
    "myDat[0][-1] = 'maybe'\n",
    "print myDat\n",
    "calcShannonEnt(myDat)"
   ]
  },
  {
   "cell_type": "markdown",
   "metadata": {},
   "source": [
    "通过这个变化，我们可以按照获取最大信息增益的方法划分数据集。另一个度量集合无序程度的方法是基尼不纯度(Gini impurity) 简单地说，就是从一个数据集中随机选取子项，度量其被错误分类的概率。"
   ]
  },
  {
   "cell_type": "markdown",
   "metadata": {},
   "source": [
    "### 3.1.2 划分数据集\n",
    "从上一节，我们知道了如何计算信息熵，这一节将利用这个度量来划分数据集。我们将对每个特征划分数据集的结果计算一次信息熵，然后判断按照哪个特征划分数据集最好的方式。"
   ]
  },
  {
   "cell_type": "code",
   "execution_count": 6,
   "metadata": {},
   "outputs": [],
   "source": [
    "def splitDataSet(dataSet, axis, value):\n",
    "    retDataSet = []\n",
    "    for featVec in dataSet:\n",
    "        if featVec[axis] == value:\n",
    "            # 按照第axis列属性，值为value的数据抽取出来，利用切片操作处理掉axis这一列\n",
    "            reducedFeatVec = featVec[:axis]\n",
    "            reducedFeatVec.extend(featVec[axis+1:])\n",
    "            retDataSet.append(reducedFeatVec)\n",
    "    return retDataSet"
   ]
  },
  {
   "cell_type": "code",
   "execution_count": 7,
   "metadata": {},
   "outputs": [
    {
     "name": "stdout",
     "output_type": "stream",
     "text": [
      "[[1, 1, 'maybe'], [1, 1, 'yes'], [1, 0, 'no'], [0, 1, 'no'], [0, 1, 'no']]\n"
     ]
    },
    {
     "data": {
      "text/plain": [
       "[[1, 'maybe'], [1, 'yes'], [0, 'no']]"
      ]
     },
     "execution_count": 7,
     "metadata": {},
     "output_type": "execute_result"
    }
   ],
   "source": [
    "# test\n",
    "print myDat\n",
    "splitDataSet(myDat, 0, 1)"
   ]
  },
  {
   "cell_type": "code",
   "execution_count": 8,
   "metadata": {},
   "outputs": [],
   "source": [
    "def chooseBestFeatureToSplit(dataSet):\n",
    "    numFeatures = len(dataSet[0])-1    # 最后一列是label需要减1\n",
    "    baseEntropy = calcShannonEnt(dataSet)\n",
    "    bestInfoGain, bestFeature = 0.0, -1\n",
    "    for i in range(numFeatures):    # i 是列数，也就是第i个属性\n",
    "        # 创建唯一的属性取值，用set()\n",
    "        featList = [example[i] for example in dataSet]\n",
    "        uniqueVals = set(featList)\n",
    "        # 去掉第i个属性计算每一个属性取值加起来的信息熵\n",
    "        newEntropy = 0.0\n",
    "        for value in uniqueVals:\n",
    "            subDataSet = splitDataSet(dataSet, i, value)\n",
    "            prob = len(subDataSet)/float(len(dataSet))\n",
    "            newEntropy += prob * calcShannonEnt(subDataSet)\n",
    "        infoGain = baseEntropy - newEntropy    # 用原始整个数据集的信息熵减去去掉第i个属性的信息熵就是信息增益\n",
    "        # 选取最大的信息增益，把第i列记为最佳属性\n",
    "        if (infoGain > bestInfoGain):\n",
    "            bestInfoGain = infoGain\n",
    "            bestFeature = i\n",
    "    return bestFeature"
   ]
  },
  {
   "cell_type": "code",
   "execution_count": 9,
   "metadata": {},
   "outputs": [
    {
     "data": {
      "text/plain": [
       "0"
      ]
     },
     "execution_count": 9,
     "metadata": {},
     "output_type": "execute_result"
    }
   ],
   "source": [
    "# test\n",
    "myDat,labels = createDataSet()\n",
    "chooseBestFeatureToSplit(myDat)"
   ]
  },
  {
   "cell_type": "markdown",
   "metadata": {},
   "source": [
    "### 3.1.3 递归构造决策树\n",
    "目前我们已经学习了从数据集构造决策树算法的子模块，其流程大致如下;\n",
    "\n",
    "后续还会介绍其他决策树算法，C4.5和CART，这些算法在划分时不总是消耗特征，在每次划分中特征数目不一定减小，因此在使用中可能会引起一定地问题。现在先不考虑这种情况的问题。\n",
    "\n",
    "下面来解决这样一种问题，如果所有特征都处理完了，但是类标签依然不是唯一的，此时我们要怎么定义叶节点，我们通常采用多数表决的方法。代码如下："
   ]
  },
  {
   "cell_type": "code",
   "execution_count": 10,
   "metadata": {},
   "outputs": [],
   "source": [
    "import operator\n",
    "def majorityCnt(classList):\n",
    "    classCount={}\n",
    "    for vote in classList:\n",
    "        if vote not in classCount.keys():\n",
    "            classCount[vote] = 0\n",
    "        classCount[vote] += 1\n",
    "    sortedClassCount = sorted(classCount.iteritems(), key=operator.itemgetter(1), reverse=True)\n",
    "    return sortedClassCount[0][0]    # sorted 函数会返回一个list，里边的元素是tuple[('yes', 3), ('no', 1)]"
   ]
  },
  {
   "cell_type": "code",
   "execution_count": 11,
   "metadata": {},
   "outputs": [],
   "source": [
    "def createTree(dataSet, labels):\n",
    "    classList = [example[-1] for example in dataSet]    # 数据集里class类别\n",
    "    # 两种递归基本情况\n",
    "    if classList.count(classList[0]) == len(classList):    # 类别完全相同则停止继续划分\n",
    "        return classList[0] \n",
    "    if len(dataSet[0]) == 1:    # 递归遍历剩最后一个特征返回出现次数最多的类别\n",
    "        return majorityCnt(classList)\n",
    "    bestFeat = chooseBestFeatureToSplit(dataSet)    # 当前最好的特征\n",
    "    bestFeatLabel = labels[bestFeat]    # 传入有labels字典,用作后续对策字典键\n",
    "    myTree = {bestFeatLabel:{}}    # 存树的所有信息\n",
    "    del(labels[bestFeat])    # 删除labels里的bestFeat\n",
    "    featValues = [example[bestFeat] for example in dataSet]    # bestFeat里存在的所有取值情况\n",
    "    uniqueVals = set(featValues)    # 获取无重复的取值\n",
    "    for value in uniqueVals:\n",
    "        subLabels = labels[:]   # 复制类的标签， python中是引用传递，使用[:]能够赋值而不会改变原始的labels\n",
    "        \n",
    "        myTree[bestFeatLabel][value] = createTree(splitDataSet(dataSet,bestFeat,value),\\\n",
    "                                                  subLabels)\n",
    "    return myTree"
   ]
  },
  {
   "cell_type": "code",
   "execution_count": 13,
   "metadata": {},
   "outputs": [
    {
     "name": "stdout",
     "output_type": "stream",
     "text": [
      "[[1, 1, 'yes'], [1, 1, 'yes'], [1, 0, 'no'], [0, 1, 'no'], [0, 1, 'no']]\n"
     ]
    },
    {
     "data": {
      "text/plain": [
       "{'no surfacing': {0: 'no', 1: {'flippers': {0: 'no', 1: 'yes'}}}}"
      ]
     },
     "execution_count": 13,
     "metadata": {},
     "output_type": "execute_result"
    }
   ],
   "source": [
    "myDat, labels = createDataSet()\n",
    "print myDat\n",
    "createTree(myDat, labels)"
   ]
  },
  {
   "cell_type": "markdown",
   "metadata": {},
   "source": [
    "## 3.2 在Python中使用Matplotlib注解绘制树形图\n",
    "### 3.2.1 Matplotlib注解\n",
    "Matplotlib里有一个非常有用的注解工具annotations，他可以在数据图形上添加文本注解。"
   ]
  },
  {
   "cell_type": "code",
   "execution_count": 22,
   "metadata": {},
   "outputs": [],
   "source": [
    "import matplotlib.pyplot as plt\n",
    "%matlistOfTr = retrieveTreeplotlib inline\n",
    "\n",
    "decisionNode = dict(boxstyle=\"sawtooth\", fc=\"0.8\")\n",
    "leafNode = dict(boxstyle=\"round4\", fc=\"0.8\")\n",
    "arrow_args = dict(arrowstyle=\"<-\")\n",
    "\n",
    "def plotNode(nodeTxt, centerPt, parentPt, nodeType):\n",
    "    createPlot.ax1.annotate(nodeTxt, xy=parentPt, xycoords='axes fraction',xytext=centerPt,\\\n",
    "                           textcoords='axes fraction', va=\"center\", ha=\"center\", bbox=nodeType,\\\n",
    "                           arrowprops=arrow_args)\n"
   ]
  },
  {
   "cell_type": "code",
   "execution_count": 35,
   "metadata": {},
   "outputs": [],
   "source": [
    "def createPlot():\n",
    "    fig = plt.figure(1, facecolor='white')\n",
    "    fig.clf()\n",
    "    createPlot.ax1 = plt.subplot(111, frameon=False)\n",
    "    plotNode('DecisionNode', (0.5, 0.1), (0.1, 0.5), decisionNode)\n",
    "    plotNode('LeafNode', (0.8, 0.1), (0.3, 0.8), leafNode)\n",
    "    plt.show()"
   ]
  },
  {
   "cell_type": "code",
   "execution_count": 37,
   "metadata": {},
   "outputs": [
    {
     "data": {
      "image/png": "[encoded data removed]",
      "text/plain": [
       "<Figure size 432x288 with 1 Axes>"
      ]
     },
     "metadata": {},
     "output_type": "display_data"
    }
   ],
   "source": [
    "createPlot()"
   ]
  },
  {
   "cell_type": "code",
   "execution_count": 38,
   "metadata": {},
   "outputs": [],
   "source": [
    "def getNumLeafs(myTree):\n",
    "    numLeafs = 0\n",
    "    firstStr = myTree.keys()[0]\n",
    "    secondDict = myTree[firstStr]\n",
    "    for key in secondDict.keys():\n",
    "        if type(secondDict[key]).__name__ == 'dict':\n",
    "            numLeafs += getNumLeafs(secondDict[key])\n",
    "        else:\n",
    "            numLeafs += 1\n",
    "    return numLeafs"
   ]
  },
  {
   "cell_type": "code",
   "execution_count": 39,
   "metadata": {},
   "outputs": [],
   "source": [
    "def getTreeDepth(myTree):\n",
    "    maxDepth = 0\n",
    "    firstStr = myTree.keys()[0]\n",
    "    secondDict = myTree[firstStr]\n",
    "    for key in secondDict.keys():\n",
    "        if type(secondDict[key]).__name__ == 'dict':\n",
    "            thisDepth = 1 + getTreeDepth(secondDict[key])\n",
    "        else:\n",
    "            thisDepth = 1\n",
    "        if thisDepth > maxDepth:\n",
    "            maxDepth = thisDepth\n",
    "    return maxDepth"
   ]
  },
  {
   "cell_type": "markdown",
   "metadata": {},
   "source": [
    "上述程序两个函数具有相同的结构，上面的代码说明了Python字典类型中存储的树的信息。第一个关键字是第一次划分数据集的类别标签，附带的数值表示字节点的取值。从第一个关键字出发，我们可以遍历整棵树的所有字节点。如果字节点的字典类型，则该节点也是一个判断节点，需要调用getNumLeafs()函数。"
   ]
  },
  {
   "cell_type": "code",
   "execution_count": 58,
   "metadata": {},
   "outputs": [],
   "source": [
    "def retrieveTree(i):\n",
    "    listOfTrees =[{'no surfacing': {0: 'no', 1: {'flippers': {0: 'no', 1: 'yes'}}}},\n",
    "                  {'no surfacing': {0: 'no', 1: {'flippers': {0: {'head': {0: 'no', 1: 'yes'}},\\\n",
    "                                                             1: 'no'}}}}]\n",
    "    print listOfTrees\n",
    "    return listOfTrees[i]"
   ]
  },
  {
   "cell_type": "code",
   "execution_count": 62,
   "metadata": {},
   "outputs": [
    {
     "name": "stdout",
     "output_type": "stream",
     "text": [
      "[{'no surfacing': {0: 'no', 1: {'flippers': {0: 'no', 1: 'yes'}}}}, {'no surfacing': {0: 'no', 1: {'flippers': {0: {'head': {0: 'no', 1: 'yes'}}, 1: 'no'}}}}]\n"
     ]
    }
   ],
   "source": [
    "a = retrieveTree(0)"
   ]
  },
  {
   "cell_type": "code",
   "execution_count": 63,
   "metadata": {},
   "outputs": [
    {
     "data": {
      "text/plain": [
       "<function __main__.retrieveTree>"
      ]
     },
     "execution_count": 63,
     "metadata": {},
     "output_type": "execute_result"
    }
   ],
   "source": [
    "listOfTr"
   ]
  },
  {
   "cell_type": "code",
   "execution_count": null,
   "metadata": {},
   "outputs": [],
   "source": []
  },
  {
   "cell_type": "code",
   "execution_count": null,
   "metadata": {},
   "outputs": [],
   "source": []
  }
 ],
 "metadata": {
  "kernelspec": {
   "display_name": "Python [conda env:py2.7]",
   "language": "python",
   "name": "conda-env-py2.7-py"
  },
  "language_info": {
   "codemirror_mode": {
    "name": "ipython",
    "version": 2
   },
   "file_extension": ".py",
   "mimetype": "text/x-python",
   "name": "python",
   "nbconvert_exporter": "python",
   "pygments_lexer": "ipython2",
   "version": "2.7.16"
  },
  "toc": {
   "base_numbering": 1,
   "nav_menu": {},
   "number_sections": false,
   "sideBar": true,
   "skip_h1_title": true,
   "title_cell": "Table of Contents",
   "title_sidebar": "Contents",
   "toc_cell": true,
   "toc_position": {},
   "toc_section_display": true,
   "toc_window_display": true
  }
 },
 "nbformat": 4,
 "nbformat_minor": 2
}
