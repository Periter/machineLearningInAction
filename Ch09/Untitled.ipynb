{
 "cells": [
  {
   "cell_type": "markdown",
   "metadata": {
    "toc": true
   },
   "source": [
    "<h1>Table of Contents<span class=\"tocSkip\"></span></h1>\n",
    "<div class=\"toc\"><ul class=\"toc-item\"><li><span><a href=\"#9.1-复杂数据的局部性建模\" data-toc-modified-id=\"9.1-复杂数据的局部性建模-1\">9.1 复杂数据的局部性建模</a></span></li><li><span><a href=\"#9.2-连续型和离散型特征的树的模型的构建\" data-toc-modified-id=\"9.2-连续型和离散型特征的树的模型的构建-2\">9.2 连续型和离散型特征的树的模型的构建</a></span></li><li><span><a href=\"#9.3-将CART算法用于回归\" data-toc-modified-id=\"9.3-将CART算法用于回归-3\">9.3 将CART算法用于回归</a></span></li><li><span><a href=\"#9.3.1-构建树\" data-toc-modified-id=\"9.3.1-构建树-4\">9.3.1 构建树</a></span><ul class=\"toc-item\"><li><span><a href=\"#9.3.2-运行代码\" data-toc-modified-id=\"9.3.2-运行代码-4.1\">9.3.2 运行代码</a></span></li></ul></li></ul></div>"
   ]
  },
  {
   "cell_type": "markdown",
   "metadata": {},
   "source": [
    "# 树回归\n",
    "现实生活中，很多问题都是非线性的，不可能使用全局现行模型来拟合任何数据，一种可行的方法是将数据集切分成很多块易建模的数据，然后利用前一章的线性回归技术来建模。"
   ]
  },
  {
   "cell_type": "markdown",
   "metadata": {},
   "source": [
    "## 9.1 复杂数据的局部性建模\n",
    "决策树不断地将数据切分成小的数据集，直到所有目标变量完全相同，或者数据数据不能再切分为止，决策树是一种贪心算法，它要在给定时间内作出最佳选择，但并不关心能否达到全局最优。\n",
    "\n",
    "- 优点：可以对复杂和非线性的数据建模\n",
    "- 缺点：结果不易理解\n",
    "- 适用数据类型：数值型和标称型数据\n",
    "\n",
    "二元切分法：每次把数据集切分成两份，如果数据的某特征值等于切分所要求的值，那么这些数据就进入树的左子树，反之则进入树的右子树。\n",
    "\n",
    "二元切分法易于对树构建过程进行调整以处理连续型特征，具体处理方法是：如果特征值大于给定值就走左子树，否则就走右子树。CART稍作修改能够处理回归问题。\n",
    "\n",
    "回归树和分类树的思路类似，但叶节点的数据类型不是离散型，而是连续型。\n",
    "\n",
    "1. 收集数据：采用任意方法收集数据\n",
    "2. 准备数据：需要数值型的数据，标称型的数据应该映射成二值型数据\n",
    "3. 分析数据：绘出数据的二维可视化显示结果，以字典方式生成树\n",
    "4. 训练算法：大部分时间都花费在叶节点树模型构建上\n",
    "5. 测试算法：使用测试数据集上的$R^2$值来分析模型效果\n",
    "6. 使用模型：使用训练出的树做预测\n",
    "\n",
    "## 9.2 连续型和离散型特征的树的模型的构建\n",
    "\n",
    "1. 使用字典存储树的结构\n",
    "2. 面向对象构造树节点\n",
    "```python\n",
    "class treeNode():\n",
    "    def __init__(self, feat, val, right, left):\n",
    "        featureToSplitOn = feat\n",
    "        valueOfSplit = val\n",
    "        rightBranch = right\n",
    "        leftBranch = left\n",
    "```\n",
    "createTree()伪代码：\n",
    "\n",
    "    找到最佳待切分特征：\n",
    "        如果该节点不能再分，将该节点存为叶节点\n",
    "        执行二元切分\n",
    "        在右子树调用createTree()方法\n",
    "        在左子树调用createTree()方法"
   ]
  },
  {
   "cell_type": "code",
   "execution_count": 188,
   "metadata": {},
   "outputs": [],
   "source": [
    "# CART算法\n",
    "from numpy import *\n",
    "def loadDataSet(fileName):\n",
    "    dataMat = []\n",
    "    fr = open(fileName)\n",
    "    for line in fr.readlines():\n",
    "        curLine = line.strip().split('\\t')\n",
    "        fltLine = map(float, curLine)    # 将每行映射成浮点数\n",
    "        dataMat.append(fltLine)\n",
    "    return dataMat\n",
    "# utils\n",
    "def regLeaf(dataSet):#returns the value used for each leaf\n",
    "    return mean(dataSet[:,-1])\n",
    "\n",
    "def regErr(dataSet):\n",
    "    return var(dataSet[:,-1]) * shape(dataSet)[0]\n",
    "\n",
    "def binSplitDataSet(dataSet, feature, value):\n",
    "\n",
    "    mat0 = dataSet[nonzero(dataSet[:,feature] > value)[0], :]\n",
    "    mat1 = dataSet[nonzero(dataSet[:,feature] <= value)[0], :]\n",
    "    return mat0, mat1\n",
    "\n",
    "def createTree(dataSet, leafType=regLeaf, errType=regErr, ops=(1, 4)):\n",
    "    feat, val = chooseBestSplit(dataSet, leafType, errType, ops)\n",
    "    if feat == None:    # 满足停止条件时返回叶节点值\n",
    "        return val\n",
    "    retTree = {}\n",
    "    retTree['spInd'] = feat\n",
    "    retTree['spVal'] = val\n",
    "    lSet, rSet = binSplitDataSet(dataSet, feat, val)\n",
    "    print lSet\n",
    "    retTree['left'] = createTree(lSet, leafType, errType, ops)\n",
    "    retTree['right'] = createTree(rSet, leafType, errType, ops)\n",
    "    return retTree, lSet\n",
    "        "
   ]
  },
  {
   "cell_type": "code",
   "execution_count": 189,
   "metadata": {},
   "outputs": [],
   "source": [
    "testMat = mat((eye(4)))\n",
    "mat0, mat1 = binSplitDataSet(testMat, 1, 0.5)"
   ]
  },
  {
   "cell_type": "code",
   "execution_count": null,
   "metadata": {},
   "outputs": [],
   "source": []
  },
  {
   "cell_type": "markdown",
   "metadata": {},
   "source": [
    "## 9.3 将CART算法用于回归\n",
    "为了成功构建以分段常数为叶节点的树，需要度量出数据的一致性。\n",
    "## 9.3.1 构建树\n",
    "chooseBestSplit()——给定某个误差计算方法，该函数会找到数据集上最佳二元切分方式。\n",
    "该函数的为代码大致如下：\n",
    "\n",
    "    对每个特征：\n",
    "        对每个特征：\n",
    "            将数据集分为两个部分\n",
    "            计算切分误差\n",
    "            如果当前误差小于最小误差，那么将当前且分设置为最佳切分，并更新最小误差\n",
    "    返回最佳切分特征和阈值"
   ]
  },
  {
   "cell_type": "code",
   "execution_count": 190,
   "metadata": {},
   "outputs": [],
   "source": [
    "# 回归树切分函数\n",
    "def chooseBestSplit(dataSet, leafType=regLeaf, errType=regErr, ops=(1,4)):\n",
    "    tolS = ops[0]\n",
    "    tolN = ops[1]\n",
    "    # 如果所有值相等，则退出\n",
    "    if len(set(dataSet[:,-1].T.tolist()[0])) == 1:\n",
    "        return None, leafType(dataSet)\n",
    "    m, n = shape(dataSet)\n",
    "    S = errType(dataSet)\n",
    "    bestS, bestIndex, bestValue = inf, 0, 0\n",
    "    for featIndex in range(n-1):\n",
    "        for splitVal in set(dataSet[:,featIndex].flat):\n",
    "            mat0, mat1 = binSplitDataSet(dataSet, featIndex, splitVal)\n",
    "            if (shape(mat0)[0] < tolN) or (shape(mat1)[0] < tolN):\n",
    "                continue\n",
    "            newS = errType(mat0) + errType(mat1)\n",
    "            if newS < bestS:\n",
    "                bestIndex = featIndex\n",
    "                bestValue = splitVal\n",
    "                bestS = newS\n",
    "    # 如果误差减少不大，则退出\n",
    "    if abs(S - bestS) < tolS:\n",
    "        return None, leafType(dataSet)\n",
    "    mat0, mat1 = binSplitDataSet(dataSet, bestIndex, bestValue)\n",
    "    # 如果切分出来的数据很小，则退出\n",
    "    if (shape(mat0)[0] < tolN) or (shape(mat1)[0] < tolN):\n",
    "        return None, leafType(dataSet)\n",
    "#     print bestIndex, bestValue\n",
    "    return bestIndex, bestValue"
   ]
  },
  {
   "cell_type": "markdown",
   "metadata": {},
   "source": [
    "### 9.3.2 运行代码\n"
   ]
  },
  {
   "cell_type": "code",
   "execution_count": 199,
   "metadata": {},
   "outputs": [
    {
     "name": "stdout",
     "output_type": "stream",
     "text": [
      "[[ 0.993349  1.077553]\n",
      " [ 0.530897  0.893462]\n",
      " [ 0.712386  0.564858]\n",
      " [ 0.691115  0.834391]\n",
      " [ 0.727098  1.000567]\n",
      " [ 0.951949  0.945255]\n",
      " [ 0.768596  0.760219]\n",
      " [ 0.541314  0.893748]\n",
      " [ 0.673195  0.915077]\n",
      " [ 0.517921  1.493586]\n",
      " [ 0.703755  1.101678]\n",
      " [ 0.837522  1.229373]\n",
      " [ 0.919384  1.029889]\n",
      " [ 0.814825  1.095206]\n",
      " [ 0.61127   0.982036]\n",
      " [ 0.869077  1.114825]\n",
      " [ 0.620599  1.334421]\n",
      " [ 0.820802  1.325907]\n",
      " [ 0.520044  0.961983]\n",
      " [ 0.819823  0.835264]\n",
      " [ 0.975022  0.673579]\n",
      " [ 0.953112  1.06469 ]\n",
      " [ 0.804586  0.924033]\n",
      " [ 0.625336  0.623696]\n",
      " [ 0.656218  0.958506]\n",
      " [ 0.834078  1.01058 ]\n",
      " [ 0.78193   1.074488]\n",
      " [ 0.678287  0.907727]\n",
      " [ 0.996757  1.035533]\n",
      " [ 0.59021   1.336661]\n",
      " [ 0.561362  1.070529]\n",
      " [ 0.539558  1.053846]\n",
      " [ 0.79024   0.533214]\n",
      " [ 0.89593   1.077275]\n",
      " [ 0.559763  1.253151]\n",
      " [ 0.643665  1.024241]\n",
      " [ 0.877241  0.797005]\n",
      " [ 0.613765  1.621091]\n",
      " [ 0.645762  1.026886]\n",
      " [ 0.651376  1.315384]\n",
      " [ 0.697718  1.212434]\n",
      " [ 0.742527  1.087056]\n",
      " [ 0.901056  1.0559  ]\n",
      " [ 0.948268  0.631862]\n",
      " [ 0.750078  0.906291]\n",
      " [ 0.726828  1.017112]\n",
      " [ 0.567704  0.969058]\n",
      " [ 0.750918  0.748104]\n",
      " [ 0.575805  0.89909 ]\n",
      " [ 0.50794   1.107265]\n",
      " [ 0.55352   1.391273]\n",
      " [ 0.652121  1.004346]\n",
      " [ 0.821648  1.280895]\n",
      " [ 0.773422  1.125943]\n",
      " [ 0.789625  0.552614]\n",
      " [ 0.625791  1.244731]\n",
      " [ 0.589575  1.185812]\n",
      " [ 0.822443  1.086648]\n",
      " [ 0.950153  1.022906]\n",
      " [ 0.527505  0.87956 ]\n",
      " [ 0.860049  0.71749 ]\n",
      " [ 0.574573  1.06613 ]\n",
      " [ 0.536689  0.867284]\n",
      " [ 0.782167  0.886049]\n",
      " [ 0.989888  0.744207]\n",
      " [ 0.761474  1.058262]\n",
      " [ 0.985425  1.227946]\n",
      " [ 0.768784  0.899705]\n",
      " [ 0.848921  1.170959]\n",
      " [ 0.813719  0.706601]\n",
      " [ 0.661923  0.76704 ]\n",
      " [ 0.529491  1.022206]\n",
      " [ 0.846455  0.72003 ]\n",
      " [ 0.795072  0.965721]\n",
      " [ 0.845815  0.952617]\n",
      " [ 0.576946  1.234129]\n",
      " [ 0.772083  1.299018]\n",
      " [ 0.696648  0.845423]\n",
      " [ 0.595012  1.213435]\n",
      " [ 0.648675  1.287407]\n",
      " [ 0.897094  1.240209]\n",
      " [ 0.55299   1.036158]\n",
      " [ 0.773168  1.140917]\n",
      " [ 0.988852  1.069062]\n",
      " [ 0.518735  1.037179]\n",
      " [ 0.514563  1.156648]\n",
      " [ 0.976414  0.862911]\n",
      " [ 0.919074  1.123413]\n",
      " [ 0.697777  0.827805]\n",
      " [ 0.928097  0.883225]\n",
      " [ 0.900272  0.996871]\n",
      " [ 0.936783  1.026258]\n",
      " [ 0.683921  1.414382]\n",
      " [ 0.622398  0.76633 ]\n",
      " [ 0.902532  0.861601]\n",
      " [ 0.712503  0.93349 ]\n",
      " [ 0.590062  0.705531]\n",
      " [ 0.72312   1.307248]\n",
      " [ 0.643601  0.782552]\n",
      " [ 0.520207  1.209557]\n",
      " [ 0.884512  1.117833]\n",
      " [ 0.6632    0.701634]\n",
      " [ 0.729234  0.931956]\n",
      " [ 0.737189  1.200781]\n",
      " [ 0.930173  1.035645]\n",
      " [ 0.774301  0.836763]\n",
      " [ 0.824442  1.082153]\n",
      " [ 0.626011  0.840544]\n",
      " [ 0.67939   1.307217]\n",
      " [ 0.578252  0.921885]\n",
      " [ 0.785541  1.165296]\n",
      " [ 0.597409  0.97477 ]\n",
      " [ 0.66387   1.187129]\n",
      " [ 0.552381  1.36963 ]\n",
      " [ 0.683886  0.999985]\n",
      " [ 0.604529  1.212685]]\n"
     ]
    },
    {
     "ename": "ValueError",
     "evalue": "too many values to unpack",
     "output_type": "error",
     "traceback": [
      "\u001b[0;31m---------------------------------------------------------------------------\u001b[0m",
      "\u001b[0;31mValueError\u001b[0m                                Traceback (most recent call last)",
      "\u001b[0;32m<ipython-input-199-fa71bda18fe7>\u001b[0m in \u001b[0;36m<module>\u001b[0;34m()\u001b[0m\n\u001b[1;32m      1\u001b[0m \u001b[0mmyDat\u001b[0m \u001b[0;34m=\u001b[0m \u001b[0mloadDataSet\u001b[0m\u001b[0;34m(\u001b[0m\u001b[0;34m'ex00.txt'\u001b[0m\u001b[0;34m)\u001b[0m\u001b[0;34m\u001b[0m\u001b[0m\n\u001b[1;32m      2\u001b[0m \u001b[0mmyMat\u001b[0m \u001b[0;34m=\u001b[0m \u001b[0mmat\u001b[0m\u001b[0;34m(\u001b[0m\u001b[0mmyDat\u001b[0m\u001b[0;34m)\u001b[0m\u001b[0;34m\u001b[0m\u001b[0m\n\u001b[0;32m----> 3\u001b[0;31m \u001b[0mprintInf\u001b[0m\u001b[0;34m,\u001b[0m \u001b[0mlset\u001b[0m \u001b[0;34m=\u001b[0m \u001b[0mcreateTree\u001b[0m\u001b[0;34m(\u001b[0m\u001b[0mmyMat\u001b[0m\u001b[0;34m)\u001b[0m\u001b[0;34m\u001b[0m\u001b[0m\n\u001b[0m\u001b[1;32m      4\u001b[0m \u001b[0;31m# print myMat\u001b[0m\u001b[0;34m\u001b[0m\u001b[0;34m\u001b[0m\u001b[0m\n\u001b[1;32m      5\u001b[0m \u001b[0mlsetC\u001b[0m \u001b[0;34m=\u001b[0m \u001b[0mlset\u001b[0m\u001b[0;34m.\u001b[0m\u001b[0mcopy\u001b[0m\u001b[0;34m(\u001b[0m\u001b[0;34m)\u001b[0m\u001b[0;34m\u001b[0m\u001b[0m\n",
      "\u001b[0;31mValueError\u001b[0m: too many values to unpack"
     ]
    }
   ],
   "source": [
    "myDat = loadDataSet('ex00.txt')\n",
    "myMat = mat(myDat)\n",
    "printInf, lset = createTree(myMat)\n",
    "# print myMat\n",
    "lsetC = lset.copy()\n",
    "# print printInf"
   ]
  },
  {
   "cell_type": "code",
   "execution_count": 201,
   "metadata": {},
   "outputs": [
    {
     "ename": "NameError",
     "evalue": "name 'lsetC' is not defined",
     "output_type": "error",
     "traceback": [
      "\u001b[0;31m---------------------------------------------------------------------------\u001b[0m",
      "\u001b[0;31mNameError\u001b[0m                                 Traceback (most recent call last)",
      "\u001b[0;32m<ipython-input-201-e2d045405c93>\u001b[0m in \u001b[0;36m<module>\u001b[0;34m()\u001b[0m\n\u001b[0;32m----> 1\u001b[0;31m \u001b[0mindex\u001b[0m\u001b[0;34m,\u001b[0m \u001b[0mval\u001b[0m \u001b[0;34m=\u001b[0m \u001b[0mchooseBestSplit\u001b[0m\u001b[0;34m(\u001b[0m\u001b[0mlsetC\u001b[0m\u001b[0;34m,\u001b[0m \u001b[0mleafType\u001b[0m\u001b[0;34m=\u001b[0m\u001b[0mregLeaf\u001b[0m\u001b[0;34m,\u001b[0m \u001b[0merrType\u001b[0m\u001b[0;34m=\u001b[0m\u001b[0mregErr\u001b[0m\u001b[0;34m,\u001b[0m \u001b[0mops\u001b[0m\u001b[0;34m=\u001b[0m\u001b[0;34m(\u001b[0m\u001b[0;36m1\u001b[0m\u001b[0;34m,\u001b[0m\u001b[0;36m4\u001b[0m\u001b[0;34m)\u001b[0m\u001b[0;34m)\u001b[0m\u001b[0;34m\u001b[0m\u001b[0m\n\u001b[0m",
      "\u001b[0;31mNameError\u001b[0m: name 'lsetC' is not defined"
     ]
    }
   ],
   "source": [
    "index, val = chooseBestSplit(lsetC, leafType=regLeaf, errType=regErr, ops=(1,4))"
   ]
  },
  {
   "cell_type": "code",
   "execution_count": 202,
   "metadata": {},
   "outputs": [
    {
     "ename": "NameError",
     "evalue": "name 'lset' is not defined",
     "output_type": "error",
     "traceback": [
      "\u001b[0;31m---------------------------------------------------------------------------\u001b[0m",
      "\u001b[0;31mNameError\u001b[0m                                 Traceback (most recent call last)",
      "\u001b[0;32m<ipython-input-202-4cc032f37e45>\u001b[0m in \u001b[0;36m<module>\u001b[0;34m()\u001b[0m\n\u001b[0;32m----> 1\u001b[0;31m \u001b[0;32mprint\u001b[0m \u001b[0mlset\u001b[0m\u001b[0;34m\u001b[0m\u001b[0m\n\u001b[0m",
      "\u001b[0;31mNameError\u001b[0m: name 'lset' is not defined"
     ]
    }
   ],
   "source": [
    "print lset"
   ]
  },
  {
   "cell_type": "code",
   "execution_count": null,
   "metadata": {},
   "outputs": [],
   "source": []
  }
 ],
 "metadata": {
  "kernelspec": {
   "display_name": "Python [conda env:py2.7]",
   "language": "python",
   "name": "conda-env-py2.7-py"
  },
  "language_info": {
   "codemirror_mode": {
    "name": "ipython",
    "version": 2
   },
   "file_extension": ".py",
   "mimetype": "text/x-python",
   "name": "python",
   "nbconvert_exporter": "python",
   "pygments_lexer": "ipython2",
   "version": "2.7.16"
  },
  "toc": {
   "base_numbering": 1,
   "nav_menu": {},
   "number_sections": false,
   "sideBar": true,
   "skip_h1_title": true,
   "title_cell": "Table of Contents",
   "title_sidebar": "Contents",
   "toc_cell": true,
   "toc_position": {
    "height": "calc(100% - 180px)",
    "left": "10px",
    "top": "150px",
    "width": "373px"
   },
   "toc_section_display": true,
   "toc_window_display": true
  }
 },
 "nbformat": 4,
 "nbformat_minor": 2
}
