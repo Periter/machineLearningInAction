{
 "cells": [
  {
   "cell_type": "markdown",
   "metadata": {
    "toc": true
   },
   "source": [
    "<h1>Table of Contents<span class=\"tocSkip\"></span></h1>\n",
    "<div class=\"toc\"><ul class=\"toc-item\"><li><span><a href=\"#9.1-复杂数据的局部性建模\" data-toc-modified-id=\"9.1-复杂数据的局部性建模-1\">9.1 复杂数据的局部性建模</a></span></li><li><span><a href=\"#9.2-连续型和离散型特征的树的模型的构建\" data-toc-modified-id=\"9.2-连续型和离散型特征的树的模型的构建-2\">9.2 连续型和离散型特征的树的模型的构建</a></span></li><li><span><a href=\"#9.3-将CART算法用于回归\" data-toc-modified-id=\"9.3-将CART算法用于回归-3\">9.3 将CART算法用于回归</a></span></li><li><span><a href=\"#9.3.1-构建树\" data-toc-modified-id=\"9.3.1-构建树-4\">9.3.1 构建树</a></span><ul class=\"toc-item\"><li><span><a href=\"#9.3.2-运行代码\" data-toc-modified-id=\"9.3.2-运行代码-4.1\">9.3.2 运行代码</a></span></li></ul></li></ul></div>"
   ]
  },
  {
   "cell_type": "markdown",
   "metadata": {},
   "source": [
    "# 树回归\n",
    "现实生活中，很多问题都是非线性的，不可能使用全局现行模型来拟合任何数据，一种可行的方法是将数据集切分成很多块易建模的数据，然后利用前一章的线性回归技术来建模。"
   ]
  },
  {
   "cell_type": "markdown",
   "metadata": {},
   "source": [
    "## 9.1 复杂数据的局部性建模\n",
    "决策树不断地将数据切分成小的数据集，直到所有目标变量完全相同，或者数据数据不能再切分为止，决策树是一种贪心算法，它要在给定时间内作出最佳选择，但并不关心能否达到全局最优。\n",
    "\n",
    "- 优点：可以对复杂和非线性的数据建模\n",
    "- 缺点：结果不易理解\n",
    "- 适用数据类型：数值型和标称型数据\n",
    "\n",
    "二元切分法：每次把数据集切分成两份，如果数据的某特征值等于切分所要求的值，那么这些数据就进入树的左子树，反之则进入树的右子树。\n",
    "\n",
    "二元切分法易于对树构建过程进行调整以处理连续型特征，具体处理方法是：如果特征值大于给定值就走左子树，否则就走右子树。CART稍作修改能够处理回归问题。\n",
    "\n",
    "回归树和分类树的思路类似，但叶节点的数据类型不是离散型，而是连续型。\n",
    "\n",
    "1. 收集数据：采用任意方法收集数据\n",
    "2. 准备数据：需要数值型的数据，标称型的数据应该映射成二值型数据\n",
    "3. 分析数据：绘出数据的二维可视化显示结果，以字典方式生成树\n",
    "4. 训练算法：大部分时间都花费在叶节点树模型构建上\n",
    "5. 测试算法：使用测试数据集上的$R^2$值来分析模型效果\n",
    "6. 使用模型：使用训练出的树做预测\n",
    "\n",
    "## 9.2 连续型和离散型特征的树的模型的构建\n",
    "\n",
    "1. 使用字典存储树的结构\n",
    "2. 面向对象构造树节点\n",
    "```python\n",
    "class treeNode():\n",
    "    def __init__(self, feat, val, right, left):\n",
    "        featureToSplitOn = feat\n",
    "        valueOfSplit = val\n",
    "        rightBranch = right\n",
    "        leftBranch = left\n",
    "```\n",
    "createTree()伪代码：\n",
    "\n",
    "    找到最佳待切分特征：\n",
    "        如果该节点不能再分，将该节点存为叶节点\n",
    "        执行二元切分\n",
    "        在右子树调用createTree()方法\n",
    "        在左子树调用createTree()方法"
   ]
  },
  {
   "cell_type": "code",
   "execution_count": 151,
   "metadata": {},
   "outputs": [],
   "source": [
    "# CART算法\n",
    "from numpy import *\n",
    "def loadDataSet(fileName):\n",
    "    dataMat = []\n",
    "    fr = open(fileName)\n",
    "    for line in fr.readlines():\n",
    "        curLine = line.strip().split('\\t')\n",
    "        fltLine = map(float, curLine)    # 将每行映射成浮点数\n",
    "        dataMat.append(fltLine)\n",
    "    return dataMat\n",
    "# utils\n",
    "def regLeaf(dataSet):#returns the value used for each leaf\n",
    "    return mean(dataSet[:,-1])\n",
    "\n",
    "def regErr(dataSet):\n",
    "    return var(dataSet[:,-1]) * shape(dataSet)[0]\n",
    "\n",
    "def binSplitDataSet(dataSet, feature, value):\n",
    "\n",
    "    mat0 = dataSet[nonzero(dataSet[:,feature] > value)[0], :]\n",
    "    mat1 = dataSet[nonzero(dataSet[:,feature] <= value)[0], :]\n",
    "    return mat0, mat1\n",
    "\n",
    "def createTree(dataSet, leafType=regLeaf, errType=regErr, ops=(1, 4)):\n",
    "    feat, val = chooseBestSplit(dataSet, leafType, errType, ops)\n",
    "    if feat == None:    # 满足停止条件时返回叶节点值\n",
    "        return val\n",
    "    retTree = {}\n",
    "    retTree['spInd'] = feat\n",
    "    retTree['spVal'] = val\n",
    "    lSet, rSet = binSplitDataSet(dataSet, feat, val)\n",
    "    retTree['left'] = createTree(lSet, leafType, errType, ops)\n",
    "    retTree['right'] = creatTree(rSet, leafType, errType, ops)\n",
    "    print retTree\n",
    "    return retTree\n",
    "        "
   ]
  },
  {
   "cell_type": "code",
   "execution_count": 152,
   "metadata": {},
   "outputs": [],
   "source": [
    "testMat = mat((eye(4)))\n",
    "mat0, mat1 = binSplitDataSet(testMat, 1, 0.5)"
   ]
  },
  {
   "cell_type": "code",
   "execution_count": null,
   "metadata": {},
   "outputs": [],
   "source": []
  },
  {
   "cell_type": "markdown",
   "metadata": {},
   "source": [
    "## 9.3 将CART算法用于回归\n",
    "为了成功构建以分段常数为叶节点的树，需要度量出数据的一致性。\n",
    "## 9.3.1 构建树\n",
    "chooseBestSplit()——给定某个误差计算方法，该函数会找到数据集上最佳二元切分方式。\n",
    "该函数的为代码大致如下：\n",
    "\n",
    "    对每个特征：\n",
    "        对每个特征：\n",
    "            将数据集分为两个部分\n",
    "            计算切分误差\n",
    "            如果当前误差小于最小误差，那么将当前且分设置为最佳切分，并更新最小误差\n",
    "    返回最佳切分特征和阈值"
   ]
  },
  {
   "cell_type": "code",
   "execution_count": 170,
   "metadata": {},
   "outputs": [],
   "source": [
    "# 回归树切分函数\n",
    "def chooseBestSplit(dataSet, leafType=regLeaf, errType=regErr, ops=(1,4)):\n",
    "    tolS = ops[0]\n",
    "    tolN = ops[1]\n",
    "    # 如果所有值相等，则退出\n",
    "    if len(set(dataSet[:,-1].T.tolist()[0])) == 1:\n",
    "        return None, leafType(dataSet)\n",
    "    m, n = shape(dataSet)\n",
    "    S = errType(dataSet)\n",
    "    bestS, bestIndex, bestValue = inf, 0, 0\n",
    "    for featIndex in range(n-1):\n",
    "        for splitVal in set(dataSet[:,featIndex].flat):\n",
    "            mat0, mat1 = binSplitDataSet(dataSet, featIndex, splitVal)\n",
    "            if (shape(mat0)[0] < tolN) or (shape(mat1)[0] < tolN):\n",
    "                continue\n",
    "            newS = errType(mat0) + errType(mat1)\n",
    "            if newS < bestS:\n",
    "                bestIndex = featIndex\n",
    "                bestValue = splitVal\n",
    "                bestS = newS\n",
    "    # 如果误差减少不大，则退出\n",
    "    if abs(S - bestS) < tolS:\n",
    "        return None, leafType(dataSet)\n",
    "    mat0, mat1 = binSplitDataSet(dataSet, bestIndex, bestValue)\n",
    "    # 如果切分出来的数据很小，则退出\n",
    "    if (shape(mat0)[0] < tolN) or (shape(mat1)[0] < tolN):\n",
    "        return None, leafType(dataSet)\n",
    "#     print bestIndex, bestValue\n",
    "    return bestIndex, bestValue"
   ]
  },
  {
   "cell_type": "markdown",
   "metadata": {},
   "source": [
    "### 9.3.2 运行代码\n"
   ]
  },
  {
   "cell_type": "code",
   "execution_count": 171,
   "metadata": {},
   "outputs": [
    {
     "name": "stdout",
     "output_type": "stream",
     "text": [
      "0.712386\n",
      "(1, 2) (5, 2)\n",
      "0.098016\n",
      "(4, 2) (2, 2)\n",
      "0.343554\n",
      "(3, 2) (3, 2)\n",
      "0.036098\n",
      "(5, 2) (1, 2)\n",
      "0.530897\n",
      "(2, 2) (4, 2)\n",
      "0.993349\n",
      "(0, 2) (6, 2)\n",
      "0 0.343554\n"
     ]
    },
    {
     "data": {
      "text/plain": [
       "(0, 0.34355400000000003)"
      ]
     },
     "execution_count": 171,
     "metadata": {},
     "output_type": "execute_result"
    }
   ],
   "source": [
    "chooseBestSplit(dataSet, leafType=regLeaf, errType=regErr, ops=(1,1))"
   ]
  },
  {
   "cell_type": "code",
   "execution_count": 156,
   "metadata": {},
   "outputs": [
    {
     "name": "stdout",
     "output_type": "stream",
     "text": [
      "0.571743005\n"
     ]
    }
   ],
   "source": [
    "myDat = loadDataSet('ex00.txt')\n",
    "myMat = mat(myDat)\n",
    "a = createTree(myMat)\n",
    "print a"
   ]
  },
  {
   "cell_type": "code",
   "execution_count": 157,
   "metadata": {},
   "outputs": [
    {
     "name": "stdout",
     "output_type": "stream",
     "text": [
      "[[ 0.036098  0.155096]\n",
      " [ 0.993349  1.077553]\n",
      " [ 0.530897  0.893462]\n",
      " [ 0.712386  0.564858]\n",
      " [ 0.343554 -0.3717  ]\n",
      " [ 0.098016 -0.33276 ]] \n",
      "\n",
      "[[ 0.993349  1.077553]\n",
      " [ 0.530897  0.893462]\n",
      " [ 0.712386  0.564858]] \n",
      "\n",
      "[[ 0.036098  0.155096]\n",
      " [ 0.343554 -0.3717  ]\n",
      " [ 0.098016 -0.33276 ]]\n"
     ]
    }
   ],
   "source": [
    "dataSet = myMat[0:6, :]\n",
    "print dataSet ,'\\n'\n",
    "matl, matr = binSplitDataSet(dataSet, 0, 0.5)\n",
    "print matl , '\\n'\n",
    "print matr"
   ]
  },
  {
   "cell_type": "code",
   "execution_count": 134,
   "metadata": {},
   "outputs": [
    {
     "data": {
      "text/plain": [
       "(None, 0.33108483333333333)"
      ]
     },
     "execution_count": 134,
     "metadata": {},
     "output_type": "execute_result"
    }
   ],
   "source": [
    "# printInf = createTree(dataSet, leafType=regLeaf, errType=regErr, ops=(1, 4))\n"
   ]
  },
  {
   "cell_type": "code",
   "execution_count": null,
   "metadata": {},
   "outputs": [],
   "source": []
  }
 ],
 "metadata": {
  "kernelspec": {
   "display_name": "Python [conda env:py2.7]",
   "language": "python",
   "name": "conda-env-py2.7-py"
  },
  "language_info": {
   "codemirror_mode": {
    "name": "ipython",
    "version": 2
   },
   "file_extension": ".py",
   "mimetype": "text/x-python",
   "name": "python",
   "nbconvert_exporter": "python",
   "pygments_lexer": "ipython2",
   "version": "2.7.16"
  },
  "toc": {
   "base_numbering": 1,
   "nav_menu": {},
   "number_sections": false,
   "sideBar": true,
   "skip_h1_title": true,
   "title_cell": "Table of Contents",
   "title_sidebar": "Contents",
   "toc_cell": true,
   "toc_position": {
    "height": "calc(100% - 180px)",
    "left": "10px",
    "top": "150px",
    "width": "373px"
   },
   "toc_section_display": true,
   "toc_window_display": true
  }
 },
 "nbformat": 4,
 "nbformat_minor": 2
}
