{
 "cells": [
  {
   "cell_type": "markdown",
   "metadata": {
    "toc": true
   },
   "source": [
    "<h1>Table of Contents<span class=\"tocSkip\"></span></h1>\n",
    "<div class=\"toc\"><ul class=\"toc-item\"><li><span><a href=\"#5.1-基于Logistic-回归和Sigmoid-函数的分类\" data-toc-modified-id=\"5.1-基于Logistic-回归和Sigmoid-函数的分类-1\">5.1 基于Logistic 回归和Sigmoid 函数的分类</a></span></li><li><span><a href=\"#5.2-基于最优化方法的最佳回归系数确定\" data-toc-modified-id=\"5.2-基于最优化方法的最佳回归系数确定-2\">5.2 基于最优化方法的最佳回归系数确定</a></span><ul class=\"toc-item\"><li><span><a href=\"#5.2.1-梯度上升法\" data-toc-modified-id=\"5.2.1-梯度上升法-2.1\">5.2.1 梯度上升法</a></span></li><li><span><a href=\"#5.2.2-训练算法：使用梯度上升找到最佳参数\" data-toc-modified-id=\"5.2.2-训练算法：使用梯度上升找到最佳参数-2.2\">5.2.2 训练算法：使用梯度上升找到最佳参数</a></span></li><li><span><a href=\"#5.2.3分析数据：画出决策边界\" data-toc-modified-id=\"5.2.3分析数据：画出决策边界-2.3\">5.2.3分析数据：画出决策边界</a></span></li><li><span><a href=\"#5.2.4-训练算法：随机梯度上升\" data-toc-modified-id=\"5.2.4-训练算法：随机梯度上升-2.4\">5.2.4 训练算法：随机梯度上升</a></span></li></ul></li><li><span><a href=\"#5.3-从氙气病预测病马的死亡率\" data-toc-modified-id=\"5.3-从氙气病预测病马的死亡率-3\">5.3 从氙气病预测病马的死亡率</a></span><ul class=\"toc-item\"><li><span><a href=\"#5.3.1-准备数据：处理数据中的缺失值\" data-toc-modified-id=\"5.3.1-准备数据：处理数据中的缺失值-3.1\">5.3.1 准备数据：处理数据中的缺失值</a></span></li><li><span><a href=\"#5.3.2-逻辑回归进行分类\" data-toc-modified-id=\"5.3.2-逻辑回归进行分类-3.2\">5.3.2 逻辑回归进行分类</a></span></li></ul></li><li><span><a href=\"#5.4-本章小结\" data-toc-modified-id=\"5.4-本章小结-4\">5.4 本章小结</a></span></li></ul></div>"
   ]
  },
  {
   "cell_type": "markdown",
   "metadata": {},
   "source": [
    "# Logistic 回归\n",
    "**中心思想**\n",
    "\n",
    "+ 根据现有数据集对分类边界建立回归公式，以此进行分类\n",
    "\n",
    "**一般过程**\n",
    "1. 收集数据：采用任何方法\n",
    "2. 准备数据：由于需要计算距离，因此要求数据是数值型的，另外结构化数据最佳\n",
    "3. 分析数据：采用任意方法对数据进行分析\n",
    "4. 训练算法：大部分时间都用于训练，训练的目的是为了找到最佳的分类回归系数\n",
    "5. 测试算法：一旦训练步骤完成，分类将会很快\n",
    "6. 使用算法：首先需要输入一些数据，将其转化为结构化数值;然后基于回归系数进行简单的回归计算，判定属于哪个类别，在这之后进行一些其他的分析工作"
   ]
  },
  {
   "cell_type": "markdown",
   "metadata": {},
   "source": [
    "## 5.1 基于Logistic 回归和Sigmoid 函数的分类\n",
    "- 优点：计算代价不高，易于理解和实现\n",
    "- 缺点：容易欠拟合，分类精度可能不高\n",
    "- 适用数据类型：数值型和标称型数据\n",
    "\n",
    "我们想要的函数是，能够接收输入然后输出类别，在Logistic回归中，我们把每个特征都乘上一个回归系数，然后把所有的结果相加输入到Sigmoid函数中，对于输出大于0.5,划分为1类，反之为0类。Sigmoid函数公式为：\n",
    "$$\\sigma(z)={1\\over{1+e^{-z}}}$$"
   ]
  },
  {
   "cell_type": "markdown",
   "metadata": {},
   "source": [
    "## 5.2 基于最优化方法的最佳回归系数确定\n",
    "Sigmoid输入z具有以下形式：\n",
    "$$z = W^TX$$\n",
    "为了寻找最佳参数，需要用到最优化理论的一些知识。"
   ]
  },
  {
   "cell_type": "markdown",
   "metadata": {},
   "source": [
    "### 5.2.1 梯度上升法\n",
    "梯度上升法基于思想是：要找到某函数的最大值，最好的方法是沿着该函数梯度方向寻找。如果梯度记为$\\nabla$， 则函数$f(x,y)$的梯度由下式表示：$$\\nabla f(x,y)=\\begin{pmatrix}\n",
    "\\frac{\\partial f(x,y)}{\\partial x} \\\\\n",
    "\\frac{\\partial f(x,y)}{\\partial y}\n",
    "\\end{pmatrix}\n",
    "$$\n",
    "在理论中，梯度算子总是指向函数增长最快的方向。所以沿着梯度方向，按照步长为$\\alpha$梯度上升算法的迭代公式如下：$$w:=w+\\alpha \\nabla _w f(w)$$"
   ]
  },
  {
   "cell_type": "markdown",
   "metadata": {},
   "source": [
    "### 5.2.2 训练算法：使用梯度上升找到最佳参数\n",
    "1000个样本点，每个点包含两个特征值$X_1$和$X_2$，通过梯度上升发找到最优的回归系数。"
   ]
  },
  {
   "cell_type": "code",
   "execution_count": 1,
   "metadata": {},
   "outputs": [],
   "source": [
    "from numpy import *\n",
    "def loadDataSet():\n",
    "    '''加载数据集\n",
    "    '''\n",
    "    dataMat, labelMat = [], []\n",
    "    fr = open('testSet.txt')\n",
    "    for line in fr.readlines():\n",
    "        lineArr = line.strip().split()    # 去首位回车按空格划分数据\n",
    "        dataMat.append([1.0, float(lineArr[0]), float(lineArr[1])])    # 1.0 作为bias合并入数据矩阵\n",
    "        labelMat.append(int(lineArr[2]))    # 最后一列为类标\n",
    "    return dataMat, labelMat    # shape (100, 3), (100,)\n",
    "def sigmoid(inX):\n",
    "    '''sigmoid函数\n",
    "    '''\n",
    "    return 1.0/(1.0 + exp(-inX))\n",
    "\n",
    "def gradAscent(dataMatIn, classLabels):\n",
    "    '''梯度上升法\n",
    "    传入：\n",
    "    dataMatiIn：数据矩阵\n",
    "    classLabels：数据类标\n",
    "    返回：\n",
    "    weights：学习的权重和偏置\n",
    "    '''\n",
    "    dataMatrix = mat(dataMatIn)\n",
    "    labelMat = mat(classLabels).transpose()\n",
    "    m, n = shape(dataMatrix)\n",
    "    alpha = 0.001    # 学习率\n",
    "    maxCycles = 500    # 最大迭代次数\n",
    "    weights = ones((n,1))    # 初始化一个权重（3,1）\n",
    "    for k in range(maxCycles):\n",
    "        h = sigmoid(dataMatrix * weights)\n",
    "        error = (labelMat - h)    # 计算错误率\n",
    "        weights = weights + alpha * dataMatrix.transpose() * error\n",
    "    return weights"
   ]
  },
  {
   "cell_type": "code",
   "execution_count": 2,
   "metadata": {},
   "outputs": [
    {
     "data": {
      "text/plain": [
       "matrix([[ 4.12414349],\n",
       "        [ 0.48007329],\n",
       "        [-0.6168482 ]])"
      ]
     },
     "execution_count": 2,
     "metadata": {},
     "output_type": "execute_result"
    }
   ],
   "source": [
    "dataArr, labelMat = loadDataSet()\n",
    "gradAscent(dataArr, labelMat)"
   ]
  },
  {
   "cell_type": "markdown",
   "metadata": {},
   "source": [
    "### 5.2.3分析数据：画出决策边界\n",
    "决策边界：\n",
    "\n",
    "因为$$0 = w_1x_1 + w_2x_2 + b$$\n",
    "那么$$x_2 = \\frac{-b - w_1x_1}{x_2}$$"
   ]
  },
  {
   "cell_type": "code",
   "execution_count": 3,
   "metadata": {},
   "outputs": [],
   "source": [
    "import numpy as np\n",
    "def plotBestFit(weight, stocgrad=False):\n",
    "    import matplotlib.pyplot as plt\n",
    "    %matplotlib inline\n",
    "    dataMat, labelMat = loadDataSet()\n",
    "    dataArr = array(dataMat)\n",
    "    n = shape(dataArr)[0]\n",
    "    xcord1, xcord2, ycord1, ycord2 = [], [], [], []\n",
    "    # 构建散点坐标\n",
    "    for i in range(n):\n",
    "        if int(labelMat[i]) == 1:\n",
    "            xcord1.append(dataArr[i,1])\n",
    "            ycord1.append(dataArr[i,2])\n",
    "        else:\n",
    "            xcord2.append(dataArr[i,1])\n",
    "            ycord2.append(dataArr[i,2])\n",
    "    fig = plt.figure()\n",
    "    ax = fig.add_subplot(111)    # 绘图区域\n",
    "    ax.scatter(xcord1, ycord1, s=30, c='red', marker='s')\n",
    "    ax.scatter(xcord2, ycord2, s=30, c='green')\n",
    "    x = arange(-3.0, 3.0, 0.1)\n",
    "    x2 = (-weights[0] - weights[1]*x) / weights[2]\n",
    "    if not stocgrad:    # 随机梯度上升weights 是（60，）而梯度上升是（1, 60）\n",
    "        x2 = np.squeeze(np.asarray(x2))\n",
    "    ax.plot(x, x2)\n",
    "    plt.xlabel('X1')\n",
    "    plt.ylabel('X2')\n",
    "    plt.show()"
   ]
  },
  {
   "cell_type": "code",
   "execution_count": 4,
   "metadata": {},
   "outputs": [],
   "source": [
    "weights = gradAscent(array(dataArr), labelMat)"
   ]
  },
  {
   "cell_type": "code",
   "execution_count": 5,
   "metadata": {},
   "outputs": [
    {
     "data": {
      "image/png": "[encoded data removed]",
      "text/plain": [
       "<Figure size 432x288 with 1 Axes>"
      ]
     },
     "metadata": {
      "needs_background": "light"
     },
     "output_type": "display_data"
    }
   ],
   "source": [
    "plotBestFit(weights)"
   ]
  },
  {
   "cell_type": "markdown",
   "metadata": {},
   "source": [
    "### 5.2.4 训练算法：随机梯度上升\n",
    "一次只用一个样本点来更新回归系数，该方法称为随机梯度上升法。"
   ]
  },
  {
   "cell_type": "code",
   "execution_count": 6,
   "metadata": {},
   "outputs": [],
   "source": [
    "def stocGradAscent0(dataMatrix, classLabels):\n",
    "    '''随机梯度下降\n",
    "    传入：\n",
    "    dataMatrix：输入数据矩阵\n",
    "    classLabels：数据类标\n",
    "    返回：\n",
    "    weights：权重\n",
    "    '''\n",
    "    m, n = shape(dataMatrix)\n",
    "    alpha = 0.01\n",
    "    weights = ones(n)    # 构造权重\n",
    "    for i in range(m):    # 遍历所有样本\n",
    "        h = sigmoid(sum(dataMatrix[i]*weights))    # 每个样本都更新一次weights\n",
    "        error = classLabels[i] - h\n",
    "        weights =weights + alpha * error * dataMatrix[i]\n",
    "    return weights"
   ]
  },
  {
   "cell_type": "code",
   "execution_count": 7,
   "metadata": {},
   "outputs": [],
   "source": [
    "weights = stocGradAscent0(array(dataArr), labelMat)"
   ]
  },
  {
   "cell_type": "code",
   "execution_count": 8,
   "metadata": {},
   "outputs": [
    {
     "data": {
      "image/png": "[encoded data removed]",
      "text/plain": [
       "<Figure size 432x288 with 1 Axes>"
      ]
     },
     "metadata": {
      "needs_background": "light"
     },
     "output_type": "display_data"
    }
   ],
   "source": [
    "plotBestFit(weights, stocgrad=True)"
   ]
  },
  {
   "cell_type": "markdown",
   "metadata": {},
   "source": [
    "在大的波动停止之后，还有小的周期性波动。产生这种现象的原因是存在一些不能正确分类的样本点，我们期望算法能够规避这些波动，从而收敛到某个值，另外，收敛速度也会更快。修改如下代码："
   ]
  },
  {
   "cell_type": "code",
   "execution_count": 9,
   "metadata": {},
   "outputs": [],
   "source": [
    "def stocGradAscent1(dataMatrix, classLabels, numIter=150):\n",
    "    m, n = shape(dataMatrix)\n",
    "    weights = ones(n)\n",
    "    for j in range(numIter):\n",
    "        dataIndex = range(m)\n",
    "        for i in range(m):\n",
    "            alpha = 4/(1.0+j+i)+0.01    # 每次迭代，学习率需要调整\n",
    "            randIndex = int(random.uniform(0,len(dataIndex)))    # 随机选取一个样本\n",
    "            h = sigmoid(sum(dataMatrix[randIndex]*weights))\n",
    "            error = classLabels[randIndex] - h\n",
    "            weights = weights + alpha * error * dataMatrix[randIndex]\n",
    "            del(dataIndex[randIndex])\n",
    "    return weights"
   ]
  },
  {
   "cell_type": "code",
   "execution_count": 10,
   "metadata": {},
   "outputs": [
    {
     "data": {
      "image/png": "[encoded data removed]",
      "text/plain": [
       "<Figure size 432x288 with 1 Axes>"
      ]
     },
     "metadata": {
      "needs_background": "light"
     },
     "output_type": "display_data"
    }
   ],
   "source": [
    "weights = stocGradAscent1(array(dataArr), labelMat)\n",
    "plotBestFit(weights, stocgrad=True)"
   ]
  },
  {
   "cell_type": "markdown",
   "metadata": {},
   "source": [
    "## 5.3 从氙气病预测病马的死亡率\n",
    "1. 收集数据：给定数据文件\n",
    "2. 准备数据：用Python解析文本并填充缺失值\n",
    "3. 分析数据：可视化并观察数据\n",
    "4. 训练算法：使用优化算法，找到最佳系数\n",
    "5. 测试算法：为了量化回归效果，需要观察错误率，根据错误率判断是否回退到重新训练\n",
    "6. 使用算法：实现一个简单的命令行程序来收集马的病症并输出预测结果\n",
    "\n",
    "该数据集中有30%的数据是缺失的。"
   ]
  },
  {
   "cell_type": "markdown",
   "metadata": {},
   "source": [
    "### 5.3.1 准备数据：处理数据中的缺失值\n",
    "面对数据缺失的时候可以采用以下方法：\n",
    "\n",
    "- 使用可用特征的均值来填补缺失值\n",
    "- 使用特殊值来填补，例如-1\n",
    "- 忽略有缺失值的样本\n",
    "- 使用相似的样本的均值填补缺失值\n",
    "- 使用另外的机器学习算法预测缺失值\n",
    "\n",
    "在处理数据的过程中，缺失值必须用一个实数值来替换，这里选择0替换所有缺失值，恰好能适用于Logistic 回归。\n",
    "因为， 回归系数更新公式为：\n",
    "$$weights = weights + alpha * error * dataMatrix[randIndex]$$\n",
    "当特征值为0时，$weights = weights$ 不进行更新，对结果不造成影响。\n",
    "\n",
    "另外， sigmoid(0) = 0.5, 它对预测的结果不具备任何倾向性，此外，该数据集中一般不具备0,所以填充的0具备“特殊性”。\n",
    "\n",
    "预处理的第二件事，如果发现数据集里的某条数据的类别标签错误，我们就需要丢弃这条数据。\n",
    "\n",
    "原始数据经过预处理之后保存为两个文件：horseColicTest.txt 和 horseColicTraining.txt。"
   ]
  },
  {
   "cell_type": "markdown",
   "metadata": {},
   "source": [
    "### 5.3.2 逻辑回归进行分类"
   ]
  },
  {
   "cell_type": "code",
   "execution_count": 11,
   "metadata": {},
   "outputs": [],
   "source": [
    "def classifyVector(inX, weights):\n",
    "    '''比较器\n",
    "    传入：\n",
    "    inX：输入特征\n",
    "    weights：学习到的权重\n",
    "    返回：\n",
    "    类别\n",
    "    '''\n",
    "    prob = sigmoid(sum(inX*weights))\n",
    "    if prob > 0.5:\n",
    "        return 1.0\n",
    "    else:\n",
    "        return 0.0\n",
    "def colicTest():\n",
    "    frTrain = open('horseColicTraining.txt')\n",
    "    frTest = open('horseColicTest.txt')\n",
    "    trainingSet, trainingLabels = [], []\n",
    "    for line in frTrain.readlines():    # readlines 读取一整行，readline读取一个数\n",
    "        currLine = line.strip().split('\\t')\n",
    "        lineArr = []\n",
    "        for i in range(21):    # 遍历构造21个属性行\n",
    "            lineArr.append(float(currLine[i]))\n",
    "        trainingSet.append(lineArr)\n",
    "        trainingLabels.append(float(currLine[21]))\n",
    "    trainWeights = stocGradAscent1(array(trainingSet), trainingLabels, 500)\n",
    "    errorCount, numTestVec = 0, 0.0\n",
    "    for line in frTest.readlines():\n",
    "        numTestVec += 1.0\n",
    "        currLine = line.strip().split('\\t')\n",
    "        lineArr = []\n",
    "        for i in range(21):\n",
    "            lineArr.append(float(currLine[i]))\n",
    "        if int(classifyVector(array(lineArr), trainWeights)) != int(currLine[21]):\n",
    "            errorCount +=1\n",
    "    errorRate = float(errorCount)/numTestVec\n",
    "    print \"the error rate of this test is: %f\" % errorRate\n",
    "    return errorRate\n",
    "def multiTest():\n",
    "    numTests, errorSum = 10, 0\n",
    "    for k in range(numTests):\n",
    "        errorSum += colicTest()\n",
    "    print \"after %d iterations the average error rate is: %f\" %(numTests, errorSum/float(numTests))"
   ]
  },
  {
   "cell_type": "code",
   "execution_count": 12,
   "metadata": {},
   "outputs": [
    {
     "name": "stderr",
     "output_type": "stream",
     "text": [
      "/home/tane/4T/.pyenv/versions/anaconda3-5.3.0/envs/py2.7/lib/python2.7/site-packages/ipykernel_launcher.py:15: RuntimeWarning: overflow encountered in exp\n",
      "  from ipykernel import kernelapp as app\n"
     ]
    },
    {
     "name": "stdout",
     "output_type": "stream",
     "text": [
      "the error rate of this test is: 0.268657\n",
      "the error rate of this test is: 0.343284\n",
      "the error rate of this test is: 0.343284\n",
      "the error rate of this test is: 0.402985\n",
      "the error rate of this test is: 0.432836\n",
      "the error rate of this test is: 0.373134\n",
      "the error rate of this test is: 0.388060\n",
      "the error rate of this test is: 0.402985\n",
      "the error rate of this test is: 0.268657\n",
      "the error rate of this test is: 0.373134\n",
      "after 10 iterations the average error rate is: 0.359701\n"
     ]
    }
   ],
   "source": [
    "multiTest()"
   ]
  },
  {
   "cell_type": "markdown",
   "metadata": {},
   "source": [
    "## 5.4 本章小结\n",
    "Logistic回归是找到非线性Sigmoid函数的最佳拟合参数，求解过程可以由最优化算法完成。"
   ]
  }
 ],
 "metadata": {
  "kernelspec": {
   "display_name": "Python [conda env:py2.7]",
   "language": "python",
   "name": "conda-env-py2.7-py"
  },
  "language_info": {
   "codemirror_mode": {
    "name": "ipython",
    "version": 2
   },
   "file_extension": ".py",
   "mimetype": "text/x-python",
   "name": "python",
   "nbconvert_exporter": "python",
   "pygments_lexer": "ipython2",
   "version": "2.7.16"
  },
  "toc": {
   "base_numbering": 1,
   "nav_menu": {},
   "number_sections": false,
   "sideBar": true,
   "skip_h1_title": true,
   "title_cell": "Table of Contents",
   "title_sidebar": "Contents",
   "toc_cell": true,
   "toc_position": {},
   "toc_section_display": true,
   "toc_window_display": true
  }
 },
 "nbformat": 4,
 "nbformat_minor": 2
}
