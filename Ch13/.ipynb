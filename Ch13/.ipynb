{
 "cells": [
  {
   "cell_type": "markdown",
   "metadata": {
    "toc": true
   },
   "source": [
    "<h1>Table of Contents<span class=\"tocSkip\"></span></h1>\n",
    "<div class=\"toc\"><ul class=\"toc-item\"><li><span><a href=\"#降维技术\" data-toc-modified-id=\"降维技术-1\">降维技术</a></span></li><li><span><a href=\"#3.2-PCA\" data-toc-modified-id=\"3.2-PCA-2\">3.2 PCA</a></span><ul class=\"toc-item\"><li><span><a href=\"#3.2.1-移动坐标轴\" data-toc-modified-id=\"3.2.1-移动坐标轴-2.1\">3.2.1 移动坐标轴</a></span></li><li><span><a href=\"#在Numpy中实现PCA\" data-toc-modified-id=\"在Numpy中实现PCA-2.2\">在Numpy中实现PCA</a></span></li></ul></li></ul></div>"
   ]
  },
  {
   "cell_type": "markdown",
   "metadata": {},
   "source": [
    "# 利用PCA来简化数据\n",
    "在低维下，数据更容易进行处理，另外，其相关特征可能在数据中明确地显示出来。通常而言，在进行机器算法之前，我们都要应用**特征工程**识别出其相关特征。"
   ]
  },
  {
   "cell_type": "markdown",
   "metadata": {},
   "source": [
    "## 降维技术\n",
    "真实世界中数据的维度很大，对数据和模型结果的展示成为了一个挑战。同时，对数据进行简化还有以下原因：\n",
    "- 使得数据更易使用\n",
    "- 降低很多算法的计算开销\n",
    "- 去除噪声\n",
    "- 使得结果更易懂\n",
    "\n",
    "降为技术：\n",
    "- 主成份分析\\PCA(Principal Component Analysis)\n",
    "- 因子分析(Factor Analysis)\n",
    "- 独立成分分析\\ICA(Independent Component Analysis)\n",
    "\n",
    "## 3.2 PCA\n",
    "- 优点：降低数据的复杂性，识别最重要的多个特征\n",
    "- 缺点：不一定需要，且可能损失有用信息\n",
    "- 适用数据：数值型数据"
   ]
  },
  {
   "cell_type": "markdown",
   "metadata": {},
   "source": [
    "### 3.2.1 移动坐标轴\n",
    "- [ ] 补充图片内容\n"
   ]
  },
  {
   "cell_type": "markdown",
   "metadata": {},
   "source": [
    "### 在Numpy中实现PCA\n",
    "伪代码如下：\n",
    "\n",
    "    去除平均值\n",
    "    计算协方差矩阵\n",
    "    计算协方差矩阵的特征值和特征向量\n",
    "    将特征值从大到小排序\n",
    "    保留最上面的N个特征向量\n",
    "    将数据转换到上述N个特征向量构建的新空间当中"
   ]
  },
  {
   "cell_type": "code",
   "execution_count": 1,
   "metadata": {},
   "outputs": [],
   "source": [
    "# PCA算法\n",
    "from numpy import *\n",
    "def loadDataSet(fileName, delim='\\t'):\n",
    "    fr = open(fileName)\n",
    "    stringArr = [line.strip().split(delim) for line in fr.readlines()]    # 按照tab划分数据\n",
    "    datArr = [mat(float, line) for line in stringArr]    # line转换为浮点类型\n",
    "    return mat(datArr)    # 返回numpy mat类型\n",
    "\n",
    "def pca(dataMat, topNfeat = 9999999):\n",
    "    '''pca 降维\n",
    "    传入：\n",
    "    dataMat：数据\n",
    "    返回：\n",
    "    lowDDataMat：原始数据\n",
    "    reconMat：降低维度的数据\n",
    "    '''\n",
    "    meanVals = mean(dataMat, axis=0)    # 计算样本均值，第0维度是n个样本\n",
    "    meanRemoved = dataMat - meanVals    # 减去均值 \n",
    "    covMat = conv(meanRemoved, rowvar=0)    # 计算协方差矩阵\n",
    "    print \"covMat shape \", shape(conMat)    # 检查特征矩阵维度\n",
    "    eigVals, eigVects = linalg.eig(mat(covMat))    # 计算协方差矩阵的特征值和特征向量\n",
    "    eigValInd = argsort(eigVals)    # 特征值排序\n",
    "    eigValInd = eigValInd[:-(topNfeat+1):-1]    # \n",
    "    redEigVects = eigVects[:,eigValInd]    # 保留最上面的特征\n",
    "    lowDDataMat = meanRemoved * redEigVects    # 映射到新的空间\n",
    "    reconMat = (lowDDataMat * redEigVects.T) + meanVals    # 映射到特征空间\n",
    "    return lowDDataMat, reconMat\n"
   ]
  },
  {
   "cell_type": "code",
   "execution_count": 3,
   "metadata": {},
   "outputs": [
    {
     "ename": "IOError",
     "evalue": "[Errno 2] No such file or directory: 'testSet.txt'",
     "output_type": "error",
     "traceback": [
      "\u001b[0;31m---------------------------------------------------------------------------\u001b[0m",
      "\u001b[0;31mIOError\u001b[0m                                   Traceback (most recent call last)",
      "\u001b[0;32m<ipython-input-3-752ab36d85cf>\u001b[0m in \u001b[0;36m<module>\u001b[0;34m()\u001b[0m\n\u001b[1;32m      1\u001b[0m \u001b[0;31m# 读取数据\u001b[0m\u001b[0;34m\u001b[0m\u001b[0;34m\u001b[0m\u001b[0m\n\u001b[0;32m----> 2\u001b[0;31m \u001b[0mdataMat\u001b[0m \u001b[0;34m=\u001b[0m \u001b[0mloadDataSet\u001b[0m\u001b[0;34m(\u001b[0m\u001b[0;34m'testSet.txt'\u001b[0m\u001b[0;34m)\u001b[0m\u001b[0;34m\u001b[0m\u001b[0m\n\u001b[0m\u001b[1;32m      3\u001b[0m \u001b[0;31m# pca算法, 压缩到1的维度\u001b[0m\u001b[0;34m\u001b[0m\u001b[0;34m\u001b[0m\u001b[0m\n\u001b[1;32m      4\u001b[0m \u001b[0mlowDMat\u001b[0m\u001b[0;34m,\u001b[0m \u001b[0mreconMat\u001b[0m \u001b[0;34m=\u001b[0m \u001b[0mpca\u001b[0m\u001b[0;34m(\u001b[0m\u001b[0mdataMat\u001b[0m\u001b[0;34m,\u001b[0m \u001b[0;36m1\u001b[0m\u001b[0;34m)\u001b[0m\u001b[0;34m\u001b[0m\u001b[0m\n\u001b[1;32m      5\u001b[0m \u001b[0;34m\u001b[0m\u001b[0m\n",
      "\u001b[0;32m<ipython-input-1-952331f96971>\u001b[0m in \u001b[0;36mloadDataSet\u001b[0;34m(fileName, delim)\u001b[0m\n\u001b[1;32m      2\u001b[0m \u001b[0;32mfrom\u001b[0m \u001b[0mnumpy\u001b[0m \u001b[0;32mimport\u001b[0m \u001b[0;34m*\u001b[0m\u001b[0;34m\u001b[0m\u001b[0m\n\u001b[1;32m      3\u001b[0m \u001b[0;32mdef\u001b[0m \u001b[0mloadDataSet\u001b[0m\u001b[0;34m(\u001b[0m\u001b[0mfileName\u001b[0m\u001b[0;34m,\u001b[0m \u001b[0mdelim\u001b[0m\u001b[0;34m=\u001b[0m\u001b[0;34m'\\t'\u001b[0m\u001b[0;34m)\u001b[0m\u001b[0;34m:\u001b[0m\u001b[0;34m\u001b[0m\u001b[0m\n\u001b[0;32m----> 4\u001b[0;31m     \u001b[0mfr\u001b[0m \u001b[0;34m=\u001b[0m \u001b[0mopen\u001b[0m\u001b[0;34m(\u001b[0m\u001b[0mfileName\u001b[0m\u001b[0;34m)\u001b[0m\u001b[0;34m\u001b[0m\u001b[0m\n\u001b[0m\u001b[1;32m      5\u001b[0m     \u001b[0mstringArr\u001b[0m \u001b[0;34m=\u001b[0m \u001b[0;34m[\u001b[0m\u001b[0mline\u001b[0m\u001b[0;34m.\u001b[0m\u001b[0mstrip\u001b[0m\u001b[0;34m(\u001b[0m\u001b[0;34m)\u001b[0m\u001b[0;34m.\u001b[0m\u001b[0msplit\u001b[0m\u001b[0;34m(\u001b[0m\u001b[0mdelim\u001b[0m\u001b[0;34m)\u001b[0m \u001b[0;32mfor\u001b[0m \u001b[0mline\u001b[0m \u001b[0;32min\u001b[0m \u001b[0mfr\u001b[0m\u001b[0;34m.\u001b[0m\u001b[0mreadlines\u001b[0m\u001b[0;34m(\u001b[0m\u001b[0;34m)\u001b[0m\u001b[0;34m]\u001b[0m    \u001b[0;31m# 按照tab划分数据\u001b[0m\u001b[0;34m\u001b[0m\u001b[0m\n\u001b[1;32m      6\u001b[0m     \u001b[0mdatArr\u001b[0m \u001b[0;34m=\u001b[0m \u001b[0;34m[\u001b[0m\u001b[0mmat\u001b[0m\u001b[0;34m(\u001b[0m\u001b[0mfloat\u001b[0m\u001b[0;34m,\u001b[0m \u001b[0mline\u001b[0m\u001b[0;34m)\u001b[0m \u001b[0;32mfor\u001b[0m \u001b[0mline\u001b[0m \u001b[0;32min\u001b[0m \u001b[0mstringArr\u001b[0m\u001b[0;34m]\u001b[0m    \u001b[0;31m# line转换为浮点类型\u001b[0m\u001b[0;34m\u001b[0m\u001b[0m\n",
      "\u001b[0;31mIOError\u001b[0m: [Errno 2] No such file or directory: 'testSet.txt'"
     ]
    }
   ],
   "source": [
    "# 读取数据\n",
    "dataMat = loadDataSet('testSet.txt')\n",
    "# pca算法, 压缩到1的维度\n",
    "lowDMat, reconMat = pca(dataMat, 1)\n",
    "\n",
    "\n"
   ]
  },
  {
   "cell_type": "code",
   "execution_count": null,
   "metadata": {},
   "outputs": [],
   "source": [
    "#绘制数据\n",
    "import matplotlib.pyplot as plt\n",
    "%matplotlib inline\n",
    "fig = plt.figure()\n",
    "ax = fig.add_subplot(111)\n",
    "ax.scatter(dataMat[:,0].flatten().A[0], dataMat[:,1].flatten().A[0], marker='^', s=90)\n",
    "ax.scatter(reconMat[:,0].flatten().A[0], reconMat[:,1].flatten().A[0], marker='0', s=50, c='red')"
   ]
  }
 ],
 "metadata": {
  "kernelspec": {
   "display_name": "Python [conda env:py2.7]",
   "language": "python",
   "name": "conda-env-py2.7-py"
  },
  "language_info": {
   "codemirror_mode": {
    "name": "ipython",
    "version": 2
   },
   "file_extension": ".py",
   "mimetype": "text/x-python",
   "name": "python",
   "nbconvert_exporter": "python",
   "pygments_lexer": "ipython2",
   "version": "2.7.16"
  },
  "toc": {
   "base_numbering": 1,
   "nav_menu": {},
   "number_sections": false,
   "sideBar": true,
   "skip_h1_title": true,
   "title_cell": "Table of Contents",
   "title_sidebar": "Contents",
   "toc_cell": true,
   "toc_position": {},
   "toc_section_display": true,
   "toc_window_display": true
  }
 },
 "nbformat": 4,
 "nbformat_minor": 2
}
