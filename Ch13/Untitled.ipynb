{
 "cells": [
  {
   "cell_type": "markdown",
   "metadata": {
    "toc": true
   },
   "source": [
    "<h1>Table of Contents<span class=\"tocSkip\"></span></h1>\n",
    "<div class=\"toc\"><ul class=\"toc-item\"><li><span><a href=\"#降维技术\" data-toc-modified-id=\"降维技术-1\">降维技术</a></span></li><li><span><a href=\"#3.2-PCA\" data-toc-modified-id=\"3.2-PCA-2\">3.2 PCA</a></span><ul class=\"toc-item\"><li><span><a href=\"#3.2.1-移动坐标轴\" data-toc-modified-id=\"3.2.1-移动坐标轴-2.1\">3.2.1 移动坐标轴</a></span></li><li><span><a href=\"#在Numpy中实现PCA\" data-toc-modified-id=\"在Numpy中实现PCA-2.2\">在Numpy中实现PCA</a></span></li></ul></li><li><span><a href=\"#13.3-示例：利用PCA对半导体制造数据降维\" data-toc-modified-id=\"13.3-示例：利用PCA对半导体制造数据降维-3\">13.3 示例：利用PCA对半导体制造数据降维</a></span></li></ul></div>"
   ]
  },
  {
   "cell_type": "markdown",
   "metadata": {},
   "source": [
    "# 利用PCA来简化数据\n",
    "在低维下，数据更容易进行处理，另外，其相关特征可能在数据中明确地显示出来。通常而言，在进行机器算法之前，我们都要应用**特征工程**识别出其相关特征。"
   ]
  },
  {
   "cell_type": "markdown",
   "metadata": {},
   "source": [
    "## 降维技术\n",
    "真实世界中数据的维度很大，对数据和模型结果的展示成为了一个挑战。同时，对数据进行简化还有以下原因：\n",
    "- 使得数据更易使用\n",
    "- 降低很多算法的计算开销\n",
    "- 去除噪声\n",
    "- 使得结果更易懂\n",
    "\n",
    "降为技术：\n",
    "- 主成份分析\\PCA(Principal Component Analysis)\n",
    "- 因子分析(Factor Analysis)\n",
    "- 独立成分分析\\ICA(Independent Component Analysis)\n",
    "\n",
    "## 3.2 PCA\n",
    "- 优点：降低数据的复杂性，识别最重要的多个特征\n",
    "- 缺点：不一定需要，且可能损失有用信息\n",
    "- 适用数据：数值型数据"
   ]
  },
  {
   "cell_type": "markdown",
   "metadata": {},
   "source": [
    "### 3.2.1 移动坐标轴\n",
    "- [ ] 补充图片内容\n"
   ]
  },
  {
   "cell_type": "markdown",
   "metadata": {},
   "source": [
    "### 在Numpy中实现PCA\n",
    "伪代码如下：\n",
    "\n",
    "    去除平均值\n",
    "    计算协方差矩阵\n",
    "    计算协方差矩阵的特征值和特征向量\n",
    "    将特征值从大到小排序\n",
    "    保留最上面的N个特征向量\n",
    "    将数据转换到上述N个特征向量构建的新空间当中"
   ]
  },
  {
   "cell_type": "code",
   "execution_count": 76,
   "metadata": {},
   "outputs": [],
   "source": [
    "# PCA算法\n",
    "from numpy import *\n",
    "def loadDataSet(fileName, delim='\\t'):\n",
    "    fr = open(fileName)\n",
    "    stringArr = [line.strip().split(delim) for line in fr.readlines()]    # 按照tab划分数据\n",
    "    datArr = [map(float, line) for line in stringArr]    # line转换为浮点类型\n",
    "    return mat(datArr)    # 返回numpy mat类型\n",
    "\n",
    "def pca(dataMat, topNfeat = 9999999):\n",
    "    '''pca 降维\n",
    "    传入：\n",
    "    dataMat：数据\n",
    "    返回：\n",
    "    lowDDataMat：压缩到低维空间\n",
    "    reconMat：压缩后再还原回高纬空间\n",
    "    '''\n",
    "    meanVals = mean(dataMat, axis=0)    # 计算样本均值，第0维度是n个样本\n",
    "    meanRemoved = dataMat - meanVals    # 减去均值 \n",
    "    covMat = cov(meanRemoved, rowvar=0) # 计算协方差矩阵,按照列取向量[X,Y],\n",
    "                                        # 协方差矩阵输出[[sum（（X-X.mean）(X-X.mean)）, sum（（Y-Y.mean）(X-X.mean)）「\n",
    "                                        #             sum（（X-X.mean）(Y-Y.mean)），sum（（Y-Y.mean）(Y-Y.mean)）]\n",
    "    eigVals, eigVects = linalg.eig(mat(covMat))    # 计算协方差矩阵的特征值和特征向量\n",
    "    eigValInd = argsort(eigVals)    # 特征值从小到大排序\n",
    "    eigValInd = eigValInd[:-(topNfeat+1):-1]    # 倒序着从大到小取topNfeat个，步长为-1\n",
    "    redEigVects = eigVects[:,eigValInd]    # 保留最上面的特征\n",
    "    lowDDataMat = meanRemoved * redEigVects    # 转换到低维空间，压缩\n",
    "    print lowDDataMat\n",
    "    reconMat = (lowDDataMat * redEigVects.T) + meanVals    # 转换回高维空间，去除了噪声\n",
    "    print shape(reconMat)\n",
    "    return lowDDataMat, reconMat\n"
   ]
  },
  {
   "cell_type": "code",
   "execution_count": 77,
   "metadata": {},
   "outputs": [
    {
     "name": "stdout",
     "output_type": "stream",
     "text": [
      "[[ 10.235186  11.321997]\n",
      " [ 10.122339  11.810993]\n",
      " [  9.190236   8.904943]\n",
      " [  9.306371   9.847394]\n",
      " [  8.330131   8.340352]]\n",
      "[[-1.49934778]\n",
      " [-1.88565854]\n",
      " [ 1.12957083]\n",
      " [ 0.23527086]\n",
      " [ 2.02016463]]\n",
      "(5, 2)\n",
      "[[-1.49934778]\n",
      " [-1.88565854]\n",
      " [ 1.12957083]\n",
      " [ 0.23527086]\n",
      " [ 2.02016463]] \n",
      "[[ 10.10986902  11.38494648]\n",
      " [ 10.28327341  11.7301521 ]\n",
      " [  8.92981899   9.0357562 ]\n",
      " [  9.33124591   9.83489878]\n",
      " [  8.53005566   8.23992544]]\n"
     ]
    }
   ],
   "source": [
    "# 读取数据\n",
    "dataMat = loadDataSet('testSet.txt')\n",
    "# pca算法, 压缩到1的维度\n",
    "lowDMat, reconMat = pca(dataMat, 1)"
   ]
  },
  {
   "cell_type": "code",
   "execution_count": 72,
   "metadata": {},
   "outputs": [
    {
     "data": {
      "text/plain": [
       "<matplotlib.collections.PathCollection at 0x7f683e052e50>"
      ]
     },
     "execution_count": 72,
     "metadata": {},
     "output_type": "execute_result"
    },
    {
     "data": {
      "image/png": "[encoded data removed]",
      "text/plain": [
       "<Figure size 432x288 with 1 Axes>"
      ]
     },
     "metadata": {
      "needs_background": "light"
     },
     "output_type": "display_data"
    }
   ],
   "source": [
    "#绘制数据\n",
    "import matplotlib.pyplot as plt\n",
    "%matplotlib inline\n",
    "fig = plt.figure()\n",
    "ax = fig.add_subplot(111)\n",
    "ax.scatter(dataMat[:,0].flatten().A[0], dataMat[:,1].flatten().A[0], marker='^', s=90)\n",
    "ax.scatter(reconMat[:,0].flatten().A[0], reconMat[:,1].flatten().A[0], marker='o', s=50, c='red')"
   ]
  },
  {
   "cell_type": "markdown",
   "metadata": {},
   "source": [
    "## 13.3 示例：利用PCA对半导体制造数据降维\n"
   ]
  },
  {
   "cell_type": "code",
   "execution_count": 96,
   "metadata": {},
   "outputs": [],
   "source": [
    "# 将NaN替换成平均值的函数\n",
    "def replaceNanWithMean():\n",
    "    datMat = loadDataSet('secom.data', ' ')\n",
    "    print shape(datMat)\n",
    "    numFeat = shape(datMat)[1]\n",
    "    for i in range(numFeat):\n",
    "#         print nonzero(~isnan(datMat[:,i].A))\n",
    "        meanVal = mean(datMat[nonzero(~isnan(datMat[:,i].A))[0], i])\n",
    "        datMat[nonzero(isnan(datMat[:,i].A))[0],i] = meanVal\n",
    "    return datMat"
   ]
  },
  {
   "cell_type": "code",
   "execution_count": 97,
   "metadata": {},
   "outputs": [
    {
     "name": "stdout",
     "output_type": "stream",
     "text": [
      "(1567, 590)\n",
      "[  5.34151979e+07   2.17466719e+07   8.24837662e+06   2.07388086e+06\n",
      "   1.31540439e+06   4.67693557e+05   2.90863555e+05   2.83668601e+05\n",
      "   2.37155830e+05   2.08513836e+05   1.96098849e+05   1.86856549e+05\n",
      "   1.52422354e+05   1.13215032e+05   1.08493848e+05   1.02849533e+05\n",
      "   1.00166164e+05   8.33473762e+04   8.15850591e+04   7.76560524e+04\n",
      "   6.66060410e+04   6.52620058e+04   5.96776503e+04   5.16269933e+04\n",
      "   5.03324580e+04   4.54661746e+04   4.41914029e+04   4.15532551e+04\n",
      "   3.55294040e+04   3.31436743e+04   2.67385181e+04   1.47123429e+04\n",
      "   1.44089194e+04   1.09321187e+04   1.04841308e+04   9.48876548e+03\n",
      "   8.34665462e+03   7.22765535e+03   5.34196392e+03   4.95614671e+03\n",
      "   4.23060022e+03   4.10673182e+03   3.41199406e+03   3.24193522e+03\n",
      "   2.74523635e+03   2.35027999e+03   2.16835314e+03   1.86414157e+03\n",
      "   1.76741826e+03   1.70492093e+03   1.66199683e+03   1.53948465e+03\n",
      "   1.33096008e+03   1.25591691e+03   1.15509389e+03   1.12410108e+03\n",
      "   1.03213798e+03   1.00972093e+03   9.50542179e+02   9.09791361e+02\n",
      "   8.32001551e+02   8.08898242e+02   7.37343627e+02   6.87596830e+02\n",
      "   5.64452104e+02   5.51812250e+02   5.37209115e+02   4.93029995e+02\n",
      "   4.13720573e+02   3.90222119e+02   3.37288784e+02   3.27558605e+02\n",
      "   3.08869553e+02   2.46285839e+02   2.28893093e+02   1.96447852e+02\n",
      "   1.75559820e+02   1.65795169e+02   1.56428052e+02   1.39671194e+02\n",
      "   1.28662864e+02   1.15624070e+02   1.10318239e+02   1.08663541e+02\n",
      "   1.00695416e+02   9.80687852e+01   8.34968275e+01   7.53025397e+01\n",
      "   6.89260158e+01   6.67786503e+01   6.09412873e+01   5.30974002e+01\n",
      "   4.71797825e+01   4.50701108e+01   4.41349593e+01   4.03313416e+01\n",
      "   3.95741636e+01   3.74000035e+01   3.44211326e+01   3.30031584e+01\n",
      "   3.03317756e+01   2.88994580e+01   2.76478754e+01   2.57708695e+01\n",
      "   2.44506430e+01   2.31640106e+01   2.26956957e+01   2.16925102e+01\n",
      "   2.10114869e+01   2.00984697e+01   1.86489543e+01   1.83733216e+01\n",
      "   1.72517802e+01   1.60481189e+01   1.54406997e+01   1.48356499e+01\n",
      "   1.44273357e+01   1.42318192e+01   1.35592064e+01   1.30696836e+01\n",
      "   1.28193512e+01   1.22093626e+01   1.15228376e+01   1.12141738e+01\n",
      "   1.02585936e+01   9.86906139e+00   9.58794460e+00   9.41686288e+00\n",
      "   9.20276340e+00   8.63791398e+00   8.20622561e+00   8.01020114e+00\n",
      "   7.53391290e+00   7.33168361e+00   7.09960245e+00   7.02149364e+00\n",
      "   6.76557324e+00   6.34504733e+00   6.01919292e+00   5.81680918e+00\n",
      "   5.44653788e+00   5.12338463e+00   4.79593185e+00   4.47851795e+00\n",
      "   4.50369987e+00   4.27479386e+00   3.89124198e+00   3.56466892e+00\n",
      "   3.32248982e+00   2.97665360e+00   2.61425544e+00   2.31802829e+00\n",
      "   2.17171124e+00   1.99239284e+00   1.96616566e+00   1.88149281e+00\n",
      "   1.79228288e+00   1.71378363e+00   1.68028783e+00   1.60686268e+00\n",
      "   1.47158244e+00   1.40656712e+00   1.37808906e+00   1.27967672e+00\n",
      "   1.22803716e+00   1.18531109e+00   9.38857180e-01   9.18222054e-01\n",
      "   8.26265393e-01   7.96585842e-01   7.74597255e-01   7.14002770e-01\n",
      "   6.79457797e-01   6.37928310e-01   6.24646758e-01   5.34605353e-01\n",
      "   4.60658687e-01   4.24265893e-01   4.08634622e-01   3.70321764e-01\n",
      "   3.67016386e-01   3.35858033e-01   3.29780397e-01   2.94348753e-01\n",
      "   2.84154176e-01   2.72703994e-01   2.63265991e-01   2.45227786e-01\n",
      "   2.25805135e-01   2.22331919e-01   2.13514673e-01   1.93961935e-01\n",
      "   1.91647269e-01   1.83668491e-01   1.82518017e-01   1.65310922e-01\n",
      "   1.57447909e-01   1.51263974e-01   1.39427297e-01   1.32638882e-01\n",
      "   1.28000027e-01   1.13559952e-01   1.12576237e-01   1.08809771e-01\n",
      "   1.07136355e-01   8.60839655e-02   8.50467792e-02   8.29254355e-02\n",
      "   7.03701660e-02   6.44475619e-02   6.09866327e-02   6.05709478e-02\n",
      "   5.93963958e-02   5.22163549e-02   4.92729703e-02   4.80022983e-02\n",
      "   4.51487439e-02   4.30180504e-02   4.13368324e-02   4.03281604e-02\n",
      "   3.91576587e-02   3.54198873e-02   3.31199510e-02   3.13547234e-02\n",
      "   3.07226509e-02   2.98354196e-02   2.81949091e-02   2.49158051e-02\n",
      "   2.36374781e-02   2.28360210e-02   2.19602047e-02   2.00166957e-02\n",
      "   1.86597535e-02   1.80415918e-02   1.72261012e-02   1.60703860e-02\n",
      "   1.49566735e-02   1.40165444e-02   1.31296856e-02   1.21358005e-02\n",
      "   1.07166503e-02   1.01045695e-02   9.76055340e-03   9.16740926e-03\n",
      "   8.78108857e-03   8.67465278e-03   8.30918514e-03   8.05104488e-03\n",
      "   7.56152126e-03   7.31508852e-03   7.26347037e-03   6.65728354e-03\n",
      "   6.50769617e-03   6.28009879e-03   6.19160730e-03   5.64130272e-03\n",
      "   5.30195373e-03   5.07453702e-03   4.47372286e-03   4.32543895e-03\n",
      "   4.22006582e-03   3.97065729e-03   3.75292741e-03   3.64861290e-03\n",
      "   3.38915810e-03   3.27965962e-03   3.06633825e-03   2.99206786e-03\n",
      "   2.83586784e-03   2.74987243e-03   2.31066313e-03   2.26782347e-03\n",
      "   1.82206662e-03   1.74955624e-03   1.69305161e-03   1.66624597e-03\n",
      "   1.55346749e-03   1.51278404e-03   1.47296800e-03   1.33617458e-03\n",
      "   1.30517592e-03   1.24056353e-03   1.19823961e-03   1.14381059e-03\n",
      "   1.13027458e-03   1.11081803e-03   1.08359152e-03   1.03517496e-03\n",
      "   1.00164593e-03   9.50024605e-04   8.94981182e-04   8.74363843e-04\n",
      "   7.98497545e-04   7.51612220e-04   6.63964302e-04   6.21097649e-04\n",
      "   6.18098605e-04   5.72611404e-04   5.57509231e-04   5.47002382e-04\n",
      "   5.27195077e-04   5.11487997e-04   4.87787872e-04   4.74249071e-04\n",
      "   4.52367688e-04   4.24431101e-04   4.19119025e-04   3.72489906e-04\n",
      "   3.38125455e-04   3.34002143e-04   2.97951371e-04   2.84845901e-04\n",
      "   2.79038287e-04   2.77054477e-04   2.54815126e-04   2.67962796e-04\n",
      "   2.29230595e-04   1.99245436e-04   1.90381389e-04   1.84497914e-04\n",
      "   1.77415682e-04   1.68160613e-04   1.63992030e-04   1.58025552e-04\n",
      "   1.54226003e-04   1.46890640e-04   1.46097434e-04   1.40079891e-04\n",
      "   1.35736724e-04   1.22704035e-04   1.16752515e-04   1.14080848e-04\n",
      "   1.04252870e-04   9.90265113e-05   9.66039063e-05   9.60766570e-05\n",
      "   9.16166336e-05   9.07003478e-05   8.60212634e-05   8.32654024e-05\n",
      "   7.70526085e-05   7.36470023e-05   7.24998306e-05   6.80209910e-05\n",
      "   6.68682706e-05   6.14500435e-05   5.99843182e-05   2.42608885e-05\n",
      "   2.72388358e-05   2.98089202e-05   5.49918004e-05   3.43901591e-05\n",
      "   3.57776537e-05   5.24646954e-05   5.13403848e-05   5.02336260e-05\n",
      "   4.89288502e-05   3.80307293e-05   3.94822842e-05   4.51104473e-05\n",
      "   4.29823762e-05   4.18869714e-05   4.14341565e-05   2.30962279e-05\n",
      "   2.27807559e-05   2.14440814e-05   1.96208174e-05   1.91217363e-05\n",
      "   1.88276186e-05   1.66549051e-05   1.46846459e-05   1.43753346e-05\n",
      "   1.39779892e-05   1.21760519e-05   1.20295835e-05   8.34247986e-06\n",
      "   1.13426750e-05   1.09258905e-05   8.93991858e-06   9.23630203e-06\n",
      "   1.02782992e-05   1.01021809e-05   9.64538300e-06   9.72678794e-06\n",
      "   7.36188591e-06   7.20354827e-06   6.69282813e-06   6.49477814e-06\n",
      "   5.91044559e-06   6.00244889e-06   5.67034893e-06   5.31392220e-06\n",
      "   5.09342484e-06   2.78847699e-06   4.65422047e-06   4.45482134e-06\n",
      "   4.11265577e-06   3.77558985e-06   3.65202838e-06   3.48065952e-06\n",
      "   2.66299629e-06   2.57492503e-06   2.39210233e-06   2.06298821e-06\n",
      "   2.00824521e-06   1.76373602e-06   1.58273270e-06   1.32211395e-06\n",
      "   1.49813697e-06   1.44003524e-06   1.42489429e-06   1.10002716e-06\n",
      "   9.01008863e-07   8.49881106e-07   7.62521869e-07   6.57641102e-07\n",
      "   5.85636641e-07   5.33937361e-07   4.16077216e-07   3.33765858e-07\n",
      "   2.95575265e-07   2.54744632e-07   2.20144574e-07   1.86314535e-07\n",
      "   1.77370973e-07   1.54794346e-07   1.47331690e-07   1.39738552e-07\n",
      "   1.04110968e-07   1.00786519e-07   9.10853310e-08   9.38635088e-08\n",
      "   8.71546319e-08   7.48338889e-08   6.06817433e-08   5.66479201e-08\n",
      "   5.24576911e-08   4.57020629e-08   2.89942625e-08   2.60449444e-08\n",
      "   2.10987990e-08   2.17618741e-08   1.75542294e-08   1.34637030e-08\n",
      "   1.27167434e-08   1.23258199e-08   1.04987513e-08   9.86367938e-09\n",
      "   8.49421881e-09   9.33428120e-09   7.42189741e-09   6.46870568e-09\n",
      "   6.84633792e-09   5.76456074e-09   5.01137757e-09   3.48686486e-09\n",
      "   2.91267162e-09   2.77880626e-09   1.73093435e-09   1.42391145e-09\n",
      "   9.24974130e-10   1.11815877e-09   1.16454978e-09   6.95071282e-10\n",
      "   6.13061091e-10   1.80003438e-10   1.97062001e-10   2.61894202e-10\n",
      "   5.27583900e-10   4.15042839e-15  -1.55320582e-15  -3.12884020e-16\n",
      "   1.65249807e-17  -5.35285153e-18   0.00000000e+00   0.00000000e+00\n",
      "   0.00000000e+00   0.00000000e+00   0.00000000e+00   0.00000000e+00\n",
      "   0.00000000e+00   0.00000000e+00   0.00000000e+00   0.00000000e+00\n",
      "   0.00000000e+00   0.00000000e+00   0.00000000e+00   0.00000000e+00\n",
      "   0.00000000e+00   0.00000000e+00   0.00000000e+00   0.00000000e+00\n",
      "   0.00000000e+00   0.00000000e+00   0.00000000e+00   0.00000000e+00\n",
      "   0.00000000e+00   0.00000000e+00   0.00000000e+00   0.00000000e+00\n",
      "   0.00000000e+00   0.00000000e+00   0.00000000e+00   0.00000000e+00\n",
      "   0.00000000e+00   0.00000000e+00   0.00000000e+00   0.00000000e+00\n",
      "   0.00000000e+00   0.00000000e+00   0.00000000e+00   0.00000000e+00\n",
      "   0.00000000e+00   0.00000000e+00   0.00000000e+00   0.00000000e+00\n",
      "   0.00000000e+00   0.00000000e+00   0.00000000e+00   0.00000000e+00\n",
      "   0.00000000e+00   0.00000000e+00   0.00000000e+00   0.00000000e+00\n",
      "   0.00000000e+00   0.00000000e+00   0.00000000e+00   0.00000000e+00\n",
      "   0.00000000e+00   0.00000000e+00   0.00000000e+00   0.00000000e+00\n",
      "   0.00000000e+00   0.00000000e+00   0.00000000e+00   0.00000000e+00\n",
      "   0.00000000e+00   0.00000000e+00   0.00000000e+00   0.00000000e+00\n",
      "   0.00000000e+00   0.00000000e+00   0.00000000e+00   0.00000000e+00\n",
      "   0.00000000e+00   0.00000000e+00   0.00000000e+00   0.00000000e+00\n",
      "   0.00000000e+00   0.00000000e+00   0.00000000e+00   0.00000000e+00\n",
      "   0.00000000e+00   0.00000000e+00   0.00000000e+00   0.00000000e+00\n",
      "   0.00000000e+00   0.00000000e+00   0.00000000e+00   0.00000000e+00\n",
      "   0.00000000e+00   0.00000000e+00   0.00000000e+00   0.00000000e+00\n",
      "   0.00000000e+00   0.00000000e+00   0.00000000e+00   0.00000000e+00\n",
      "   0.00000000e+00   0.00000000e+00   0.00000000e+00   0.00000000e+00\n",
      "   0.00000000e+00   0.00000000e+00   0.00000000e+00   0.00000000e+00\n",
      "   0.00000000e+00   0.00000000e+00   0.00000000e+00   0.00000000e+00\n",
      "   0.00000000e+00   0.00000000e+00   0.00000000e+00   0.00000000e+00\n",
      "   0.00000000e+00   0.00000000e+00   0.00000000e+00   0.00000000e+00\n",
      "   0.00000000e+00   0.00000000e+00]\n"
     ]
    }
   ],
   "source": [
    "dataMat = replaceNanWithMean()    # 读取数据并替换NaN值\n",
    "meanVals = mean(dataMat, axis=0)    # 每列属性均值\n",
    "meanRemoved = dataMat - meanVals    # 数据集减均值\n",
    "covMat = cov(meanRemoved, rowvar=0)    # 数据集的自协方差矩阵\n",
    "eigVals, eigVects = linalg.eig(mat(covMat))    # 矩阵分解\n",
    "print eigVals    # 可视化分析特征值"
   ]
  },
  {
   "cell_type": "code",
   "execution_count": 95,
   "metadata": {},
   "outputs": [
    {
     "data": {
      "text/plain": [
       "(array([0, 1]),)"
      ]
     },
     "execution_count": 95,
     "metadata": {},
     "output_type": "execute_result"
    }
   ],
   "source": [
    "nonzero([12,12\n",
    "        ])"
   ]
  },
  {
   "cell_type": "code",
   "execution_count": null,
   "metadata": {},
   "outputs": [],
   "source": []
  }
 ],
 "metadata": {
  "kernelspec": {
   "display_name": "Python [conda env:py2.7]",
   "language": "python",
   "name": "conda-env-py2.7-py"
  },
  "language_info": {
   "codemirror_mode": {
    "name": "ipython",
    "version": 2
   },
   "file_extension": ".py",
   "mimetype": "text/x-python",
   "name": "python",
   "nbconvert_exporter": "python",
   "pygments_lexer": "ipython2",
   "version": "2.7.16"
  },
  "toc": {
   "base_numbering": 1,
   "nav_menu": {},
   "number_sections": false,
   "sideBar": true,
   "skip_h1_title": true,
   "title_cell": "Table of Contents",
   "title_sidebar": "Contents",
   "toc_cell": true,
   "toc_position": {},
   "toc_section_display": true,
   "toc_window_display": true
  }
 },
 "nbformat": 4,
 "nbformat_minor": 2
}
