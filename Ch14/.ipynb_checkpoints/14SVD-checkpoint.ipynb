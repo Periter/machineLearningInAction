{
 "cells": [
  {
   "cell_type": "markdown",
   "metadata": {
    "toc": true
   },
   "source": [
    "<h1>Table of Contents<span class=\"tocSkip\"></span></h1>\n",
    "<div class=\"toc\"><ul class=\"toc-item\"><li><span><a href=\"#14.1-SVD的应用\" data-toc-modified-id=\"14.1-SVD的应用-1\">14.1 SVD的应用</a></span><ul class=\"toc-item\"><li><span><a href=\"#14.1.1-隐形语义索引\" data-toc-modified-id=\"14.1.1-隐形语义索引-1.1\">14.1.1 隐形语义索引</a></span></li><li><span><a href=\"#14.1.2-推荐系统\" data-toc-modified-id=\"14.1.2-推荐系统-1.2\">14.1.2 推荐系统</a></span></li></ul></li><li><span><a href=\"#14.2-矩阵分解\" data-toc-modified-id=\"14.2-矩阵分解-2\">14.2 矩阵分解</a></span></li><li><span><a href=\"#14.4-基于协同过滤的推荐系统\" data-toc-modified-id=\"14.4-基于协同过滤的推荐系统-3\">14.4 基于协同过滤的推荐系统</a></span><ul class=\"toc-item\"><li><span><a href=\"#14.4.1-相似读计算\" data-toc-modified-id=\"14.4.1-相似读计算-3.1\">14.4.1 相似读计算</a></span></li><li><span><a href=\"#14.4.2-基于物品还是基于用户的相似度\" data-toc-modified-id=\"14.4.2-基于物品还是基于用户的相似度-3.2\">14.4.2 基于物品还是基于用户的相似度</a></span></li><li><span><a href=\"#14.5.2-利用SVD提高推荐效果\" data-toc-modified-id=\"14.5.2-利用SVD提高推荐效果-3.3\">14.5.2 利用SVD提高推荐效果</a></span></li></ul></li></ul></div>"
   ]
  },
  {
   "cell_type": "markdown",
   "metadata": {},
   "source": [
    "# 利用SVD简化数据"
   ]
  },
  {
   "cell_type": "markdown",
   "metadata": {},
   "source": [
    "## 14.1 SVD的应用\n",
    "- 优点：简化数据，去除噪声，提高算法结果\n",
    "- 缺点：数据的转化可能很难理解\n",
    "- 适用数据类型：数值型数据\n",
    "\n",
    "利用SVD， 我们能够用小很多的数据集表示原始数据，从某个视角上，我们可以把SVD看成是从噪声数据中抽取相关特征。\n",
    "### 14.1.1 隐形语义索引\n",
    "最早的SVD应用之一是信息检索，我们利用SVD的方法为隐性语义索引（Latent Semantic Indexing, LSI）或隐形语义分析（Latent Semantic Analysis, LSA）。\n",
    "在LSI中，一个矩阵是由文档和词语组成的，当我们在该矩阵上应用SVD时，就会构建出多个奇异值。这些奇异值代表一些文档中的概念或主题，这一特点可以用于更高效的文档搜索。\n",
    "\n",
    "### 14.1.2 推荐系统\n",
    "SVD的另一个应用就是推荐系统，简单版本的推荐系统能够计算项或者人之间的相似度。更先进的方法则利用SVD从数据中构建一个主题空间，然后在该空间下计算相似度。\n",
    "- [ ] add image"
   ]
  },
  {
   "cell_type": "markdown",
   "metadata": {},
   "source": [
    "## 14.2 矩阵分解\n",
    "在线性代数中有很多矩阵分解方法，不同的矩阵分解技术具有不同的性质，常用的SVD将原始数据矩阵$Data$分解成三个矩阵$U$、$\\Sigma$和$V^T$：\n",
    "$$Data_{mxn} = U_{mxm} \\Sigma _{mxn} V^T_{nxn}$$\n",
    "$Data$矩阵的奇异值$\\Sigma$是矩阵$Data × Data^T$特征值$\\lambda$的平方根，解决$Data$不能特征分解的问题"
   ]
  },
  {
   "cell_type": "code",
   "execution_count": 2,
   "metadata": {},
   "outputs": [
    {
     "name": "stdout",
     "output_type": "stream",
     "text": [
      "U:  [[-0.14142136 -0.98994949]\n",
      " [-0.98994949  0.14142136]]\n",
      "Sigma:  [ 10.   0.]\n",
      "VT:  [[-0.70710678 -0.70710678]\n",
      " [-0.70710678  0.70710678]]\n"
     ]
    }
   ],
   "source": [
    "# SVD例子\n",
    "from numpy import *\n",
    "U,Sigma,VT = linalg.svd([[1,1],[7,7]])\n",
    "print \"U: \",U\n",
    "print \"Sigma: \",Sigma\n",
    "print \"VT: \", VT"
   ]
  },
  {
   "cell_type": "markdown",
   "metadata": {},
   "source": [
    "这里的Sigma输出[ 10.   0.]，实则是一个对角矩阵，非主对角线上元素为零。"
   ]
  },
  {
   "cell_type": "code",
   "execution_count": 3,
   "metadata": {},
   "outputs": [],
   "source": [
    "from numpy import *\n",
    "from numpy import linalg as la\n",
    "\n",
    "def loadExData():\n",
    "    return[[0, 0, 0, 2, 2],\n",
    "           [0, 0, 0, 3, 3],\n",
    "           [0, 0, 0, 1, 1],\n",
    "           [1, 1, 1, 0, 0],\n",
    "           [2, 2, 2, 0, 0],\n",
    "           [5, 5, 5, 0, 0],\n",
    "           [1, 1, 1, 0, 0]]"
   ]
  },
  {
   "cell_type": "code",
   "execution_count": 4,
   "metadata": {},
   "outputs": [
    {
     "name": "stdout",
     "output_type": "stream",
     "text": [
      "[  9.64365076e+00   5.29150262e+00   8.36478329e-16   6.91811207e-17\n",
      "   1.11917251e-33]\n",
      "[[  4.47427211e-17   1.57774942e-15   2.08638397e-15   2.00000000e+00\n",
      "    2.00000000e+00]\n",
      " [ -7.56974048e-16   5.27282824e-16   2.29691224e-16   3.00000000e+00\n",
      "    3.00000000e+00]\n",
      " [ -2.27747782e-16   1.76121044e-16   5.16267387e-17   1.00000000e+00\n",
      "    1.00000000e+00]\n",
      " [  1.00000000e+00   1.00000000e+00   1.00000000e+00   1.03851855e-16\n",
      "    1.03851855e-16]\n",
      " [  2.00000000e+00   2.00000000e+00   2.00000000e+00   2.07703709e-16\n",
      "    2.07703709e-16]\n",
      " [  5.00000000e+00   5.00000000e+00   5.00000000e+00  -6.69808260e-33\n",
      "   -5.02356195e-33]\n",
      " [  1.00000000e+00   1.00000000e+00   1.00000000e+00   1.03851855e-16\n",
      "    1.03851855e-16]]\n"
     ]
    }
   ],
   "source": [
    "Data = loadExData()\n",
    "U, Sigma, VT = linalg.svd(Data)\n",
    "# 输出Sigma发现前三个奇异值能够保留大量信息\n",
    "print Sigma\n",
    "# 重构3×3的矩阵\n",
    "Sig3 = mat([[Sigma[0], 0, 0],\n",
    "           [0, Sigma[1], 0],\n",
    "           [0, 0, Sigma[2]]])\n",
    "print U[:,:3]*Sig3*VT[:3,:]"
   ]
  },
  {
   "cell_type": "markdown",
   "metadata": {},
   "source": [
    "## 14.4 基于协同过滤的推荐系统\n",
    "比较用户和物品之间的相似度，如果相似度很高，就会给用户推荐这个物品。接下来介绍相似读计算。\n",
    "### 14.4.1 相似读计算\n",
    "1. 欧式距离\n",
    "2. 皮尔逊相关系数（Pearson correlation）\n",
    "\n",
    "        度量两个向量之间的相似度，对评分数值不敏感，\n",
    "        corrcoef()函数用于该相似度计算，输出取值范围从-1到1。\n",
    "     \n",
    "3. 余弦相似度\n",
    "\n",
    "       计算两个向量夹角的余弦值，取值范围也是-1到1。\n",
    "   $$con\\theta=\\frac{A\\cdot B}{||A||||B||}$$\n",
    "   $||A||$表示向量2范数，numpy中用linalg.norm()实现"
   ]
  },
  {
   "cell_type": "code",
   "execution_count": 5,
   "metadata": {},
   "outputs": [],
   "source": [
    "def ecludSim(inA,inB):\n",
    "    '''欧式距离\n",
    "    '''\n",
    "    return 1.0/(1.0 + la.norm(inA - inB))\n",
    "\n",
    "def pearsSim(inA,inB):\n",
    "    '''皮尔逊相关系数\n",
    "    '''\n",
    "    if len(inA) < 3 : \n",
    "        return 1.0\n",
    "    return 0.5+0.5*corrcoef(inA, inB, rowvar = 0)[0][1]\n",
    "\n",
    "def cosSim(inA,inB):\n",
    "    '''余弦相似度\n",
    "    '''\n",
    "    num = float(inA.T*inB)\n",
    "    denom = la.norm(inA)*la.norm(inB)\n",
    "    return 0.5+0.5*(num/denom)"
   ]
  },
  {
   "cell_type": "code",
   "execution_count": 7,
   "metadata": {},
   "outputs": [
    {
     "name": "stdout",
     "output_type": "stream",
     "text": [
      "0.129731907557\n",
      "1.0\n",
      "0.205965381738\n",
      "1.0\n",
      "0.5\n",
      "1.0\n"
     ]
    }
   ],
   "source": [
    "myMat = mat(loadExData())\n",
    "# 欧式距离\n",
    "print ecludSim(myMat[:,0], myMat[:,4])\n",
    "print ecludSim(myMat[:,0], myMat[:,0])\n",
    "# 皮尔逊相关系数\n",
    "print pearsSim(myMat[:,0], myMat[:,4])\n",
    "print pearsSim(myMat[:,0], myMat[:,0])\n",
    "# 余弦相似度\n",
    "print cosSim(myMat[:,0], myMat[:,4])\n",
    "print cosSim(myMat[:,0], myMat[:,0])"
   ]
  },
  {
   "cell_type": "markdown",
   "metadata": {},
   "source": [
    "### 14.4.2 基于物品还是基于用户的相似度\n",
    "取决于用户或物品的数目，基于物品的相似度会随着物品数增加而增加，基于用户的相似度会随着用户数增加而增加。所以，对于物品数目多的，倾向于选择计算用户相似度，相反则选物品相似度。"
   ]
  },
  {
   "cell_type": "markdown",
   "metadata": {},
   "source": [
    "## 14.5 示例：餐馆菜肴推荐系统\n"
   ]
  },
  {
   "cell_type": "code",
   "execution_count": null,
   "metadata": {},
   "outputs": [],
   "source": [
    "#基于物品相似度的推荐引擎\n",
    "def standEst(dataMat, user, simMeas, item):\n",
    "    '''用户对物品的估计评分值\n",
    "    传入：\n",
    "    dataMat：数据集\n",
    "    user：用户编号\n",
    "    simMeas：相似度评价指标\n",
    "    item：物品编号\n",
    "    返回：\n",
    "    a. 0 相似得分为0\n",
    "    b. ratSimTotal/simTotal 估计评——加权累加相似度与累加相似度之比\n",
    "    '''\n",
    "    n = shape(dataMat)[1]    # 物品数目\n",
    "    simTotal, ratSimTotal = 0.0, 0.0    # 计算评估得分变量\n",
    "    for j in range(n):    # 便利每一个物品\n",
    "        userRating = dataMat[user,j]    # 获取用户打分\n",
    "        if userRating == 0:     # 用户未对该物品评分\n",
    "            continue    # 继续遍历下一个物品\n",
    "        overLap = nonzero(logical_and(dataMat[:,item].A>0, dataMat[:,j].A>0))[0]    # 用户都评价的两个商品\n",
    "        if len(overLap) == 0:     # 没有重合的物品，相似度为0\n",
    "            similarity = 0\n",
    "        else: \n",
    "            similarity = simMeas(dataMat[overLap,item], dataMat[overLap,j])    # 计算两个物品的相似度\n",
    "        print 'the %d and %d similarity is: %f' % (item, j, similarity)    # 相似度可视化输出\n",
    "        simTotal += similarity    # 相似度累加\n",
    "        ratSimTotal += similarity * userRating    # 评分加权相似度累加\n",
    "    if simTotal == 0: \n",
    "        return 0    # 总相似度为0，返回0 \n",
    "    else: return ratSimTotal/simTotal    # 加权累加相似度与累加相似度之比\n",
    "    \n",
    "\n",
    "\n",
    "def recommend(dataMat, user, N=3, simMeas=cosSim, estMethod=standEst):\n",
    "    '''推荐系统\n",
    "    传入：\n",
    "    dataMat：数据矩阵\n",
    "    user：用户列表\n",
    "    N：推荐数目\n",
    "    simMeas：相似度指标\n",
    "    estMethod：推荐算法\n",
    "    输出：\n",
    "    推荐的N个商品\n",
    "    '''\n",
    "    unratedItems = nonzero(dataMat[user,:].A==0)[1]    # 未评分商品列表\n",
    "    if len(unratedItems) == 0:     # 可视化提示所有商品都已经评分，不需要再推荐了\n",
    "        return 'you rated everything'\n",
    "    itemScores = []    # 记录推荐得分\n",
    "    for item in unratedItems:    # 遍历未评分商品列表\n",
    "        estimatedScore = estMethod(dataMat, user, simMeas, item)    # 获取推荐得分\n",
    "        itemScores.append((item, estimatedScore))    # 以元组形式追加到推荐得分列表\n",
    "    return sorted(itemScores, key=lambda jj: jj[1], reverse=True)[:N] # 以estimatedScore为key逆序排序输出前N个商品推荐\n",
    "\n"
   ]
  },
  {
   "cell_type": "markdown",
   "metadata": {},
   "source": [
    "### 14.5.2 利用SVD提高推荐效果\n",
    "实际获取的数据矩阵很稀疏"
   ]
  },
  {
   "cell_type": "code",
   "execution_count": null,
   "metadata": {},
   "outputs": [],
   "source": [
    "def loadExData2():\n",
    "    return[[0, 0, 0, 0, 0, 4, 0, 0, 0, 0, 5],\n",
    "           [0, 0, 0, 3, 0, 4, 0, 0, 0, 0, 3],\n",
    "           [0, 0, 0, 0, 4, 0, 0, 1, 0, 4, 0],\n",
    "           [3, 3, 4, 0, 0, 0, 0, 2, 2, 0, 0],\n",
    "           [5, 4, 5, 0, 0, 0, 0, 5, 5, 0, 0],\n",
    "           [0, 0, 0, 0, 5, 0, 1, 0, 0, 5, 0],\n",
    "           [4, 3, 4, 0, 0, 0, 0, 5, 5, 0, 1],\n",
    "           [0, 0, 0, 4, 0, 4, 0, 0, 0, 0, 4],\n",
    "           [0, 0, 0, 2, 0, 2, 5, 0, 0, 1, 2],\n",
    "           [0, 0, 0, 0, 5, 0, 0, 0, 0, 4, 0],\n",
    "           [1, 0, 0, 0, 0, 0, 0, 1, 2, 0, 0]]\n",
    "# 计算奇异值的能量占比\n",
    "U, Sigma, VT = linalg.svd(mat(loadExData2))\n",
    "# 由Sigma计算总能量\n",
    "Sig2 = Sigma**2\n",
    "energyTotal = sum(Sig2)\n",
    "# 总能量的九成\n",
    "niPerEnergyTotal = 0.9 * energyTotal\n",
    "# 前两个元素的能量\n",
    "Energy2 = sum(Sig2[:2])\n",
    "# 前三个元素的能量\n",
    "Energy3 = sum(Sig2[:3])\n",
    "print 'NightPercentEnergy: %f,  front 2 items\\' energy: %f, front 3 items\\' energy: %f' %\\\n",
    "      (energyTotal, Energy2, Energy3)"
   ]
  },
  {
   "cell_type": "code",
   "execution_count": null,
   "metadata": {},
   "outputs": [],
   "source": [
    "def svdEst(dataMat, user, simMeas, item):\n",
    "    '''svd推荐算法\n",
    "    传入：\n",
    "    dataMat：数据集\n",
    "    user：用户编号\n",
    "    simMeas：相似度评价指标\n",
    "    item：物品编号\n",
    "    返回：\n",
    "    a. 0 相似得分为0\n",
    "    b. ratSimTotal/simTotal 估计评——加权累加相似度与累加相似度之比\n",
    "    '''\n",
    "    n = shape(dataMat)[1]\n",
    "    simTotal = 0.0; ratSimTotal = 0.0\n",
    "    U,Sigma,VT = la.svd(dataMat)\n",
    "    Sig4 = mat(eye(4)*Sigma[:4]) #arrange Sig4 into a diagonal matrix\n",
    "    xformedItems = dataMat.T * U[:,:4] * Sig4.I  #create transformed items\n",
    "    for j in range(n):\n",
    "        userRating = dataMat[user,j]\n",
    "        if userRating == 0 or j==item: continue\n",
    "        similarity = simMeas(xformedItems[item,:].T,\\\n",
    "                             xformedItems[j,:].T)\n",
    "        print 'the %d and %d similarity is: %f' % (item, j, similarity)\n",
    "        simTotal += similarity\n",
    "        ratSimTotal += similarity * userRating\n",
    "    if simTotal == 0: return 0\n",
    "    else: return ratSimTotal/simTotal\n",
    "def printMat(inMat, thresh=0.8):\n",
    "    for i in range(32):\n",
    "        for k in range(32):\n",
    "            if float(inMat[i,k]) > thresh:\n",
    "                print 1,\n",
    "            else: print 0,\n",
    "        print ''\n",
    "\n"
   ]
  },
  {
   "cell_type": "code",
   "execution_count": null,
   "metadata": {},
   "outputs": [],
   "source": [
    "def imgCompress(numSV=3, thresh=0.8):\n",
    "    myl = []\n",
    "    for line in open('0_5.txt').readlines():\n",
    "        newRow = []\n",
    "        for i in range(32):\n",
    "            newRow.append(int(line[i]))\n",
    "        myl.append(newRow)\n",
    "    myMat = mat(myl)\n",
    "    print \"****original matrix******\"\n",
    "    printMat(myMat, thresh)\n",
    "    U,Sigma,VT = la.svd(myMat)\n",
    "    SigRecon = mat(zeros((numSV, numSV)))\n",
    "    for k in range(numSV):#construct diagonal matrix from vector\n",
    "        SigRecon[k,k] = Sigma[k]\n",
    "    reconMat = U[:,:numSV]*SigRecon*VT[:numSV,:]\n",
    "    print \"****reconstructed matrix using %d singular values******\" % numSV\n",
    "    printMat(reconMat, thresh)"
   ]
  }
 ],
 "metadata": {
  "kernelspec": {
   "display_name": "Python [conda env:py2.7]",
   "language": "python",
   "name": "conda-env-py2.7-py"
  },
  "language_info": {
   "codemirror_mode": {
    "name": "ipython",
    "version": 2
   },
   "file_extension": ".py",
   "mimetype": "text/x-python",
   "name": "python",
   "nbconvert_exporter": "python",
   "pygments_lexer": "ipython2",
   "version": "2.7.16"
  },
  "toc": {
   "base_numbering": 1,
   "nav_menu": {},
   "number_sections": false,
   "sideBar": true,
   "skip_h1_title": true,
   "title_cell": "Table of Contents",
   "title_sidebar": "Contents",
   "toc_cell": true,
   "toc_position": {},
   "toc_section_display": true,
   "toc_window_display": true
  }
 },
 "nbformat": 4,
 "nbformat_minor": 2
}
