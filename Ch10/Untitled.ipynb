{
 "cells": [
  {
   "cell_type": "markdown",
   "metadata": {
    "toc": true
   },
   "source": [
    "<h1>Table of Contents<span class=\"tocSkip\"></span></h1>\n",
    "<div class=\"toc\"><ul class=\"toc-item\"><li><span><a href=\"#10.1-K-Means聚类算法\" data-toc-modified-id=\"10.1-K-Means聚类算法-1\">10.1 K-Means聚类算法</a></span></li><li><span><a href=\"#10.3-二分K-Means算法\" data-toc-modified-id=\"10.3-二分K-Means算法-2\">10.3 二分K-Means算法</a></span></li></ul></div>"
   ]
  },
  {
   "cell_type": "markdown",
   "metadata": {},
   "source": [
    "# 利用K-Means聚类算法对未标注数据分组\n",
    "聚类分析试图将相似的对象归为同一簇，将不相似的对象归为不同簇。相似这一概念取决于所选的相似度算法。"
   ]
  },
  {
   "cell_type": "markdown",
   "metadata": {},
   "source": [
    "## 10.1 K-Means聚类算法\n",
    "- 优点：容易实现\n",
    "- 缺点：可能收敛到局部最小值，在大规模数据上收敛得慢\n",
    "- 适用数据集：数值型数据\n",
    "\n",
    "伪代码：\n",
    "\n",
    "    创建k个起始质心（经常是随机选择）\n",
    "    当任意一个点的簇分配结果发生变化时\n",
    "        对数据集中每个数据点\n",
    "            对每个质心\n",
    "                计算质心与数据点的距离\n",
    "            将数据点分配到距离最近的簇\n",
    "        对每一个簇，计算簇中所有点的均值作为质心\n",
    "        \n",
    "1. 收集数据：任意方法\n",
    "2. 准备数据：需要数值型数据来计算距离，也可以将标称型数据映射为二值型数据再计算距离\n",
    "3. 分析数据：使用任何方法\n",
    "4. 训练算法：不适应于无监督学习，即无监督学习没有训练过程\n",
    "5. 测试算法：应用聚类算法，观察结果，可以使用量化的误差指标如平方和来评价算法结果\n",
    "6. 使用算法：可以用于所希望的任何应用\n",
    "  "
   ]
  },
  {
   "cell_type": "code",
   "execution_count": 1,
   "metadata": {},
   "outputs": [],
   "source": [
    "# K-Means聚类支持函数\n",
    "def loadDataSet(fileName):\n",
    "    dataMat = []\n",
    "    fr = open(fileName)\n",
    "    for line in fr.readlines():\n",
    "        curLine = line.strip.split('\\t')\n",
    "        fltLine = mat(float, curLine)\n",
    "        dataMat.append(fltLine)\n",
    "    return dataMat\n",
    "\n",
    "def distEclud(vecA, vecB):\n",
    "    '''计算两个向量的欧式距离\n",
    "    '''\n",
    "    return sqrt(sum(power(vecA - vecB, 2)))\n",
    "\n",
    "def randCent(dataSet, k):\n",
    "    n = shape(dataSet)[1]\n",
    "    centroids = mat(zeros((k,n)))\n",
    "    for j in range(n):\n",
    "        minJ = min(dataSet[:,j])\n",
    "        rangeJ = float(max(dataSet[:,j]) - minJ)\n",
    "        centroids[:,j] = minJ + rangeJ * random.rand(k, 1)\n",
    "    return centroids"
   ]
  },
  {
   "cell_type": "code",
   "execution_count": 2,
   "metadata": {},
   "outputs": [],
   "source": [
    "# K-Means 聚类算法\n",
    "def kMeans(dataSet, k, distMeas=distEclud, createCent=randCent):\n",
    "    m = shape(dataSet)[0]\n",
    "    clusterAssment = mat(zeros((m,2)))\n",
    "    centroids = createCent(dataSet, k)\n",
    "    clusterChanged = True\n",
    "    while clusterChanged:\n",
    "        clusterChanged = False\n",
    "        for i in range(m):\n",
    "            minDist = inf\n",
    "            minIndex = -1\n",
    "            for j in range(k):\n",
    "                distJI = distMeas(centroids[j,:], dataSet[i,:])\n",
    "                if distJI < minDist:\n",
    "                    minDist = jistJI\n",
    "                    MINiNDEX = j\n",
    "            if clusterAssment[i,0] != minIndex:\n",
    "                clusterChanged = True\n",
    "            clusterAssment[i,:] = minIndex, minDist**2\n",
    "        print centroids\n",
    "        for cent in range(k):\n",
    "            ptsInClust = dataSet[nonzero(clusterAssment[:,0].A==cent)[0]]\n",
    "            centroids[cent,:] = mean(ptsInClust, axis=0)\n",
    "    return centroids, clusterAssment"
   ]
  },
  {
   "cell_type": "markdown",
   "metadata": {},
   "source": [
    "## 10.2 使用后处理提高聚类性能"
   ]
  },
  {
   "cell_type": "markdown",
   "metadata": {},
   "source": [
    "## 10.3 二分K-Means算法\n",
    "克服K-Means收敛于局部最优的问题，二分K-Means首先将所有点作为一个簇，然后将这个簇一分为二。之后选择其中一个簇进行继续划分，选择哪一个簇进行划分取决于对其划分时候可以最大程度降低SSE的值。上述基于SSE的划分不断重复，直到用户指定的簇数目为止。伪代码如下：\n",
    "\n",
    "    将所有点看成一个簇\n",
    "    当簇数目小于K时\n",
    "        对于每一个簇\n",
    "            计算总误差\n",
    "            在给定的簇上面进行K-Means（k=2）\n",
    "            计算该簇一分为二之后的总误差\n",
    "        选择使得误差最小的那个簇进行划分操作"
   ]
  },
  {
   "cell_type": "code",
   "execution_count": 7,
   "metadata": {},
   "outputs": [],
   "source": [
    "# 而分K-Means聚类算法\n",
    "def biKmeans(dataSets, k, distMeans=distEclud):\n",
    "    m = shape(dataSet)[0]\n",
    "    clusterAssment = mat(zeros((m,2)))\n",
    "    centroid0 = mean(dataSet, axis=0).tolist()[0]    # 创建一个初始簇\n",
    "    centList = [centroid0]\n",
    "    while (len(centList) < k):\n",
    "        # 尝试更新每一个簇\n",
    "        for j in range(m):\n",
    "            lowestSSE = inf\n",
    "            for i in range(len(centList)):\n",
    "                ptsInCurrCluster = dataSet[nonzero(clusterAssment[:,0].A==i)[0],:]\n",
    "                centroidMat, splitClustAss = kMeans(ptsInCurrCluster, 2, distMeas)\n",
    "                sseSplit = sum(splitClustAss[:,1])\n",
    "                sseNotSplit = sum(clusterAssment[nonzero(clusterAssment[:,0].A !=i)[0],1])\n",
    "                print \"sseSplit and notSplit:\" ,sseSplit, sseNotSplit\n",
    "                if (sseSplit + sseNotSplit) < lowestSSE:\n",
    "                    bestCentToSplit = i\n",
    "                    bestNewCents = centroidMat\n",
    "                    bestClustAss = splitClusAss.copy()\n",
    "                    lowestSSE = sseSplit + sseNotSplit\n",
    "        # 更新簇的分配结果\n",
    "        bestClustAss[nonzero(bestClustAss[:,0].A == 1)[0],0] = len(centList)\n",
    "        bestClustAss[nonzero(bestClustAss[:,0].A == 0)[0],0] = len(centList)\n",
    "        print \"the bestCentTosplit is \", bestCentToSplit\n",
    "        print \"the len of bestClustAss \", bestClustAss\n",
    "        centList[bestCentToSplit] = bestNewCents[0,:]\n",
    "        centList.append(bestNewCents[1,:])\n",
    "        clusterAssment[nonzero(clusterAssment[:,0].A == bestCentToSplit)[0],:] = bestClustAss\n",
    "    return mat(centList), clusterAssment\n"
   ]
  },
  {
   "cell_type": "code",
   "execution_count": null,
   "metadata": {},
   "outputs": [],
   "source": []
  }
 ],
 "metadata": {
  "kernelspec": {
   "display_name": "Python [conda env:py2.7]",
   "language": "python",
   "name": "conda-env-py2.7-py"
  },
  "language_info": {
   "codemirror_mode": {
    "name": "ipython",
    "version": 2
   },
   "file_extension": ".py",
   "mimetype": "text/x-python",
   "name": "python",
   "nbconvert_exporter": "python",
   "pygments_lexer": "ipython2",
   "version": "2.7.16"
  },
  "toc": {
   "base_numbering": 1,
   "nav_menu": {},
   "number_sections": false,
   "sideBar": true,
   "skip_h1_title": true,
   "title_cell": "Table of Contents",
   "title_sidebar": "Contents",
   "toc_cell": true,
   "toc_position": {},
   "toc_section_display": true,
   "toc_window_display": true
  }
 },
 "nbformat": 4,
 "nbformat_minor": 2
}
