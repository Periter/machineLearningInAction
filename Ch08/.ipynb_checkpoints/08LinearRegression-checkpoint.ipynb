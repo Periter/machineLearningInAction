{
 "cells": [
  {
   "cell_type": "markdown",
   "metadata": {
    "toc": true
   },
   "source": [
    "<h1>Table of Contents<span class=\"tocSkip\"></span></h1>\n",
    "<div class=\"toc\"><ul class=\"toc-item\"><li><span><a href=\"#8.1-用线性回归找到最佳拟合直线\" data-toc-modified-id=\"8.1-用线性回归找到最佳拟合直线-1\">8.1 用线性回归找到最佳拟合直线</a></span></li><li><span><a href=\"#8.3-示例：预测鲍鱼年龄\" data-toc-modified-id=\"8.3-示例：预测鲍鱼年龄-2\">8.3 示例：预测鲍鱼年龄</a></span></li><li><span><a href=\"#8.4-缩减系数来“理解”数据\" data-toc-modified-id=\"8.4-缩减系数来“理解”数据-3\">8.4 缩减系数来“理解”数据</a></span><ul class=\"toc-item\"><li><span><a href=\"#8.4.1-岭回归\" data-toc-modified-id=\"8.4.1-岭回归-3.1\">8.4.1 岭回归</a></span></li><li><span><a href=\"#8.4.2-lasso\" data-toc-modified-id=\"8.4.2-lasso-3.2\">8.4.2 lasso</a></span></li><li><span><a href=\"#前向逐步回归\" data-toc-modified-id=\"前向逐步回归-3.3\">前向逐步回归</a></span></li></ul></li></ul></div>"
   ]
  },
  {
   "cell_type": "markdown",
   "metadata": {},
   "source": [
    "# 预测数值类型数据：回归\n",
    "前面介绍了分类模型，分类的目标是标称型数据，而本章将会对连续型数据作出预测。\n",
    "## 8.1 用线性回归找到最佳拟合直线\n",
    "- 优点：结果易于理解，计算上不复杂\n",
    "- 缺点：对非线性数据拟合不好\n",
    "- 适用数据类型：数值型和标称型数据\n",
    "\n",
    "回归方程：\n",
    "\n",
    "Y = AX + b，其中A和b称为回归系数。\n",
    "\n",
    "平方误差：\n",
    "$$\\sum_{i=1}^{m}(y_i-x_i^Tw)^2$$\n",
    "用矩阵表示$(y-Xw)^T(y-Xw)$,对$w$求导的到$X^T(Y-Xw)$,令其等于零，解出$w$:\n",
    "$$\\hat{w} = (X^TX)^{-1}X^Ty$$"
   ]
  },
  {
   "cell_type": "code",
   "execution_count": 27,
   "metadata": {},
   "outputs": [],
   "source": [
    "# 标准回归函数和数据导入函数\n",
    "from numpy import *\n",
    "def loadDataSet(fileName):\n",
    "    numFeat = len(open(fileName).readline().split('\\t')) - 1\n",
    "    dataMat, labelMat = [], []\n",
    "    fr = open(fileName)\n",
    "    for line in fr.readlines():\n",
    "        lineArr = []\n",
    "        curLine = line.strip().split('\\t')\n",
    "        for i in range(numFeat):\n",
    "            lineArr.append(float(curLine[i]))\n",
    "        dataMat.append(lineArr)\n",
    "        labelMat.append(float(curLine[-1]))\n",
    "    print shape(dataMat), shape(labelMat)\n",
    "    return dataMat, labelMat\n",
    "\n",
    "def standRegres(xArr, yArr):\n",
    "    xMat = mat(xArr)\n",
    "    yMat = mat(yArr).T\n",
    "    xTx = xMat.T*xMat\n",
    "    print shape(xMat.T)\n",
    "    if linalg.det(xTx) == 0.0:\n",
    "        print \"This matrix is singular, cannot do inverse\"\n",
    "        return\n",
    "    ws = xTx.I * (xMat.T*yMat)\n",
    "    return ws\n",
    "    "
   ]
  },
  {
   "cell_type": "code",
   "execution_count": 28,
   "metadata": {},
   "outputs": [
    {
     "name": "stdout",
     "output_type": "stream",
     "text": [
      "(200, 2) (200,)\n"
     ]
    }
   ],
   "source": [
    "xArr, yArr = loadDataSet('ex0.txt')"
   ]
  },
  {
   "cell_type": "code",
   "execution_count": 31,
   "metadata": {},
   "outputs": [
    {
     "name": "stdout",
     "output_type": "stream",
     "text": [
      "(200, 1)\n",
      "(2, 200)\n"
     ]
    },
    {
     "data": {
      "text/plain": [
       "matrix([[ 3.00774324],\n",
       "        [ 1.69532264]])"
      ]
     },
     "execution_count": 31,
     "metadata": {},
     "output_type": "execute_result"
    }
   ],
   "source": [
    "ws = standRegres(xArr,yArr)\n",
    "ws"
   ]
  },
  {
   "cell_type": "markdown",
   "metadata": {},
   "source": [
    "# New heading"
   ]
  },
  {
   "cell_type": "code",
   "execution_count": 36,
   "metadata": {},
   "outputs": [
    {
     "data": {
      "image/png": "[encoded data removed]",
      "text/plain": [
       "<Figure size 432x288 with 1 Axes>"
      ]
     },
     "metadata": {
      "needs_background": "light"
     },
     "output_type": "display_data"
    }
   ],
   "source": [
    "xMat, yMat = mat(xArr), mat(yArr)\n",
    "yHat = xMat*ws\n",
    "import matplotlib.pyplot as plt\n",
    "%matplotlib inline\n",
    "fig = plt.figure()\n",
    "ax = fig.add_subplot(111)\n",
    "ax.scatter(xMat[:,1].flatten().A[0], yMat.T[:,0].flatten().A[0])\n",
    "xCopy = xMat.copy()\n",
    "yCopy = yMat.copy()\n",
    "yHat = xCopy*ws\n",
    "ax.plot(xCopy[:,1], yHat)\n",
    "plt.show()"
   ]
  },
  {
   "cell_type": "code",
   "execution_count": 37,
   "metadata": {},
   "outputs": [
    {
     "data": {
      "text/plain": [
       "array([[ 1.        ,  0.98647356],\n",
       "       [ 0.98647356,  1.        ]])"
      ]
     },
     "execution_count": 37,
     "metadata": {},
     "output_type": "execute_result"
    }
   ],
   "source": [
    "corrcoef(yHat.T, yMat)"
   ]
  },
  {
   "cell_type": "markdown",
   "metadata": {},
   "source": [
    "# 8.2 局部加权线性回归\n",
    "在该算法，我们给待预测点附近的每个点赋予一定的权重，这种算法每次预测均需要事先选出对应的数据子集。该算法解出的$\\hat{w}$如下：\n",
    "$$\\hat{w}=(X^TWX)^{-1}W_Y$$\n",
    "其中，$w$是一个矩阵，用来给每个数据点赋予权重。通过“核”来赋予附近点更高的权重，常用的是高斯核，对应权重如下：\n",
    "$$w(i,i)=exp\\left(\\frac{|x^{(i)-x}|}{-2k^2}\\right)$$"
   ]
  },
  {
   "cell_type": "code",
   "execution_count": 44,
   "metadata": {},
   "outputs": [],
   "source": [
    "# 局部加权线性回归函数\n",
    "def lwlr(testPoint, xArr, yArr, k=1.0):\n",
    "    xMat, yMat = mat(xArr), mat(yArr).T\n",
    "    m = shape(xMat)[0]\n",
    "    weights = mat(eye(m))\n",
    "    for j in range(m):\n",
    "        diffMat = testPoint - xMat[j,:]\n",
    "        weights[j,j] = exp(diffMat*diffMat.T/(-2.0*k**2))\n",
    "    xTx = xMat.T * (weights * xMat)\n",
    "    if linalg.det(xTx) == 0.0:\n",
    "        print \"This matrix is singular, cannot do inverse\"\n",
    "        return\n",
    "    ws = xTx.I * (xMat.T*(weights*yMat))\n",
    "    return testPoint * ws\n",
    "def lwlrTest(testArr, xArr, yArr, k=1.0):\n",
    "    m = shape(testArr)[0]\n",
    "    yHat = zeros((m))\n",
    "    for i in range(m):\n",
    "        yHat[i] = lwlr(testArr[i], xArr, yArr, k)\n",
    "    return yHat"
   ]
  },
  {
   "cell_type": "code",
   "execution_count": 45,
   "metadata": {},
   "outputs": [
    {
     "name": "stdout",
     "output_type": "stream",
     "text": [
      "(200, 2) (200,)\n",
      "[1.0, 0.067732]\n"
     ]
    },
    {
     "data": {
      "text/plain": [
       "matrix([[ 3.12204471]])"
      ]
     },
     "execution_count": 45,
     "metadata": {},
     "output_type": "execute_result"
    }
   ],
   "source": [
    "xArr, yArr = loadDataSet('ex0.txt')\n",
    "print xArr[0]\n",
    "lwlr(xArr[0], xArr, yArr, 1.0)"
   ]
  },
  {
   "cell_type": "code",
   "execution_count": 49,
   "metadata": {},
   "outputs": [
    {
     "data": {
      "image/png": "[encoded data removed]",
      "text/plain": [
       "<Figure size 432x288 with 1 Axes>"
      ]
     },
     "metadata": {
      "needs_background": "light"
     },
     "output_type": "display_data"
    }
   ],
   "source": [
    "yHat_over = lwlrTest(xArr, xArr, yArr, 0.003)\n",
    "yHat_less = lwlrTest(xArr, xArr, yArr, 1.0)\n",
    "yHat_fit = lwlrTest(xArr, xArr, yArr, 0.01)\n",
    "xMat = mat(xArr)\n",
    "srtInd = xMat[:,1].argsort(0)\n",
    "xSort = xMat[srtInd][:,0,:]\n",
    "fig = plt.figure()\n",
    "ax_over = fig.add_subplot(111)\n",
    "ax_over.plot(xSort[:,1], yHat_over[srtInd])\n",
    "ax_over.scatter(xMat[:,1].flatten().A[0], mat(yArr).T.flatten().A[0], s=2, c='red')\n",
    "ax_less = fig.add_subplot(111)\n",
    "ax_less.plot(xSort[:,1], yHat_less[srtInd])\n",
    "ax_fit = fig.add_subplot(111)\n",
    "ax_fit.plot(xSort[:,1], yHat_fit[srtInd])\n",
    "plt.show()"
   ]
  },
  {
   "cell_type": "markdown",
   "metadata": {},
   "source": [
    "## 8.3 示例：预测鲍鱼年龄\n",
    "鲍鱼的年龄可以从鲍鱼壳的层数推算"
   ]
  },
  {
   "cell_type": "code",
   "execution_count": null,
   "metadata": {},
   "outputs": [],
   "source": [
    "def rssError(yArr, yHatArr):\n",
    "    return ((yArr-yHatArr)**2).sum()"
   ]
  },
  {
   "cell_type": "markdown",
   "metadata": {},
   "source": [
    "## 8.4 缩减系数来“理解”数据\n",
    "数据的特征比样本点还多的时候，因为非满秩矩阵在求逆时候会出错，为了解决这个问题，统计学家引入了岭回归（ridge regression）\n",
    "### 8.4.1 岭回归\n",
    "简单来说，岭回归就是在矩阵$W^TW$上加入一个$\\lambda I$从而使得矩阵非奇异，进而能够求逆。在这种情况下回归系数将会变成：\n",
    "$$\\hat{w}= (X^TX+\\lambda I)^{-1}X^Ty$$\n",
    "\n",
    "岭回归最先用来处理特征数多于样本数的问题，现在也用于估计中加入偏差，从而的到更好的估计。这里通过引入$\\lambda$限制了所有$w$之和，通过引入该惩罚项，能够减少不重要的参数，这个技术在统计学上也叫做缩减。\n",
    "> 岭回归中的岭是什么？\n",
    "岭回归是哟给你了单位矩阵乘以常量$\\lambda$，我们观察其中的单位矩阵$I$，可以看到值为1贯穿整个对角线，其余元素都为0,形象地，在0构成的平面内出现了一条“岭”。"
   ]
  },
  {
   "cell_type": "code",
   "execution_count": 52,
   "metadata": {},
   "outputs": [],
   "source": [
    "# 岭回归\n",
    "def ridgeRegres(xMat, yMat, lam=0.2):\n",
    "    xTx = xMat.T*xMat\n",
    "    denom = xTx + eye(shape(xMat)[1])*lam\n",
    "    if linalg.det(denom) == 0.0:\n",
    "        print \"This matrix is singular, cannot do inverse\"\n",
    "        return\n",
    "    ws = denom.I *(xMat.T*yMat)\n",
    "    return ws\n",
    "\n",
    "def ridgeTest(xArr, yArr):\n",
    "    xMat = mat(xArr)\n",
    "    yMat = mat(yArr).T\n",
    "    yMean = mean(yMat, 0)\n",
    "    yMat = yMat -yMean\n",
    "    xMeans = mean(xMat, 0)\n",
    "    xVar = var(xMat, 0)    # 方差\n",
    "    xMat = (xMat-xMeans)/xVar    # 减均值除以方差\n",
    "    numTestPts = 30\n",
    "    wMat = zeros((numTestPts, shape(xMat)[1]))\n",
    "    for i in range(numTestPts):\n",
    "        ws = ridgeRegres(xMat, yMat, exp(i-10))\n",
    "        wMat[i,:]= ws.T\n",
    "    return wMat"
   ]
  },
  {
   "cell_type": "code",
   "execution_count": 53,
   "metadata": {},
   "outputs": [
    {
     "name": "stdout",
     "output_type": "stream",
     "text": [
      "(4177, 8) (4177,)\n"
     ]
    }
   ],
   "source": [
    "abX, abY = loadDataSet('abalone.txt')\n",
    "ridgeWeights = ridgeTest(abX, abY)"
   ]
  },
  {
   "cell_type": "code",
   "execution_count": 54,
   "metadata": {},
   "outputs": [
    {
     "data": {
      "image/png": "[encoded data removed]",
      "text/plain": [
       "<Figure size 432x288 with 1 Axes>"
      ]
     },
     "metadata": {
      "needs_background": "light"
     },
     "output_type": "display_data"
    }
   ],
   "source": [
    "fig = plt.figure()\n",
    "ax = fig.add_subplot(111)\n",
    "ax.plot(ridgeWeights)\n",
    "plt.show()"
   ]
  },
  {
   "cell_type": "markdown",
   "metadata": {},
   "source": [
    "### 8.4.2 lasso\n",
    "在增加如下约束时，普通的最小二乘回归会得到和岭回归一样的公式：\n",
    "$$\\sum_{k=1}^{n}w_k^w\\leq \\lambda$$\n",
    "另一个缩放方法，lasso也对回归系数做了约束：\n",
    "$$\\sum_{k=1}^{n}|w_k| \\leq \\lambda$$,一般使用二次规划求解，更简单的方法是使用前向逐步回归。"
   ]
  },
  {
   "cell_type": "markdown",
   "metadata": {},
   "source": [
    "### 前向逐步回归\n",
    "前向逐步回归算法可以得到与lasso差不多的效果，但更加简单，它属于一种贪心算法，即每一步都尽可能减少误差。一开始，所有权重都设为1，然后每一步所做的决策是对某个权重增加或减小一个很小的值。\n",
    "该代码的伪代码如下：\n",
    "\n",
    "    数据标准化，使其分布满足0均值和单位方差\n",
    "    在每轮迭代中：\n",
    "        设置当前最小误差lowestError为正无穷\n",
    "        对每个特征：\n",
    "            改变一个系数得到一个新的W\n",
    "            计算新的W下的误差\n",
    "            如果误差Error小于当前误差lowestError：\n",
    "                设置Wbest等于当前W\n",
    "            将W设置为新的Wbest"
   ]
  },
  {
   "cell_type": "code",
   "execution_count": 57,
   "metadata": {},
   "outputs": [],
   "source": [
    "def regularize(xMat):#regularize by columns\n",
    "    inMat = xMat.copy()\n",
    "    inMeans = mean(inMat,0)   #calc mean then subtract it off\n",
    "    inVar = var(inMat,0)      #calc variance of Xi then divide by it\n",
    "    inMat = (inMat - inMeans)/inVar\n",
    "    return inMat\n",
    "\n",
    "def rssError(yArr,yHatArr): #yArr and yHatArr both need to be arrays\n",
    "    return ((yArr-yHatArr)**2).sum()\n",
    "\n",
    "def stageWise(xArr, yArr, eps=0.01, numIt=100):\n",
    "    xMat, yMat = mat(xArr),mat(yArr).T\n",
    "    yMean = mean(yMat, 0)\n",
    "    yMat= yMat - yMean\n",
    "    xMat = regularize(xMat)\n",
    "    m,n = shape(xMat)\n",
    "    returnMat = zeros((numIt, n))\n",
    "    ws = zeros((n,1))\n",
    "    wsTest = ws.copy()\n",
    "    wsMax = ws.copy()\n",
    "    for i in range(numIt):\n",
    "        print ws.T\n",
    "        lowestError = inf\n",
    "        for j in range(n):\n",
    "            for sign in [-1,1]:\n",
    "                wsTest = ws.copy()\n",
    "                wsTest[j] += eps*sign\n",
    "                yTest = xMat*wsTest\n",
    "                rssE = rssError(yMat.A, yTest.A)\n",
    "                if rssE < lowestError:\n",
    "                    lowestError = rssE\n",
    "                    wsMax = wsTest\n",
    "        ws = wsMax.copy()\n",
    "        returnMat[i,:]=ws.T\n",
    "    return returnMat"
   ]
  },
  {
   "cell_type": "code",
   "execution_count": 58,
   "metadata": {},
   "outputs": [
    {
     "name": "stdout",
     "output_type": "stream",
     "text": [
      "(4177, 8) (4177,)\n",
      "[[ 0.  0.  0.  0.  0.  0.  0.  0.]]\n"
     ]
    },
    {
     "ename": "NameError",
     "evalue": "global name 'rssError' is not defined",
     "output_type": "error",
     "traceback": [
      "\u001b[0;31m---------------------------------------------------------------------------\u001b[0m",
      "\u001b[0;31mNameError\u001b[0m                                 Traceback (most recent call last)",
      "\u001b[0;32m<ipython-input-58-94bdd5614c19>\u001b[0m in \u001b[0;36m<module>\u001b[0;34m()\u001b[0m\n\u001b[1;32m      1\u001b[0m \u001b[0mxArr\u001b[0m\u001b[0;34m,\u001b[0m\u001b[0myArr\u001b[0m \u001b[0;34m=\u001b[0m \u001b[0mloadDataSet\u001b[0m\u001b[0;34m(\u001b[0m\u001b[0;34m'abalone.txt'\u001b[0m\u001b[0;34m)\u001b[0m\u001b[0;34m\u001b[0m\u001b[0m\n\u001b[0;32m----> 2\u001b[0;31m \u001b[0mstageWise\u001b[0m\u001b[0;34m(\u001b[0m\u001b[0mxArr\u001b[0m\u001b[0;34m,\u001b[0m\u001b[0myArr\u001b[0m\u001b[0;34m,\u001b[0m\u001b[0;36m0.01\u001b[0m\u001b[0;34m,\u001b[0m\u001b[0;36m200\u001b[0m\u001b[0;34m)\u001b[0m\u001b[0;34m\u001b[0m\u001b[0m\n\u001b[0m",
      "\u001b[0;32m<ipython-input-57-72db555538e7>\u001b[0m in \u001b[0;36mstageWise\u001b[0;34m(xArr, yArr, eps, numIt)\u001b[0m\n\u001b[1;32m     23\u001b[0m                 \u001b[0mwsTest\u001b[0m\u001b[0;34m[\u001b[0m\u001b[0mj\u001b[0m\u001b[0;34m]\u001b[0m \u001b[0;34m+=\u001b[0m \u001b[0meps\u001b[0m\u001b[0;34m*\u001b[0m\u001b[0msign\u001b[0m\u001b[0;34m\u001b[0m\u001b[0m\n\u001b[1;32m     24\u001b[0m                 \u001b[0myTest\u001b[0m \u001b[0;34m=\u001b[0m \u001b[0mxMat\u001b[0m\u001b[0;34m*\u001b[0m\u001b[0mwsTest\u001b[0m\u001b[0;34m\u001b[0m\u001b[0m\n\u001b[0;32m---> 25\u001b[0;31m                 \u001b[0mrssE\u001b[0m \u001b[0;34m=\u001b[0m \u001b[0mrssError\u001b[0m\u001b[0;34m(\u001b[0m\u001b[0myMat\u001b[0m\u001b[0;34m.\u001b[0m\u001b[0mA\u001b[0m\u001b[0;34m,\u001b[0m \u001b[0myTest\u001b[0m\u001b[0;34m.\u001b[0m\u001b[0mA\u001b[0m\u001b[0;34m)\u001b[0m\u001b[0;34m\u001b[0m\u001b[0m\n\u001b[0m\u001b[1;32m     26\u001b[0m                 \u001b[0;32mif\u001b[0m \u001b[0mrssE\u001b[0m \u001b[0;34m<\u001b[0m \u001b[0mlowestError\u001b[0m\u001b[0;34m:\u001b[0m\u001b[0;34m\u001b[0m\u001b[0m\n\u001b[1;32m     27\u001b[0m                     \u001b[0mlowestError\u001b[0m \u001b[0;34m=\u001b[0m \u001b[0mrssE\u001b[0m\u001b[0;34m\u001b[0m\u001b[0m\n",
      "\u001b[0;31mNameError\u001b[0m: global name 'rssError' is not defined"
     ]
    }
   ],
   "source": [
    "xArr,yArr = loadDataSet('abalone.txt')\n",
    "stageWise(xArr,yArr,0.01,200)"
   ]
  },
  {
   "cell_type": "code",
   "execution_count": null,
   "metadata": {},
   "outputs": [],
   "source": []
  }
 ],
 "metadata": {
  "kernelspec": {
   "display_name": "Python [conda env:py2.7]",
   "language": "python",
   "name": "conda-env-py2.7-py"
  },
  "language_info": {
   "codemirror_mode": {
    "name": "ipython",
    "version": 2
   },
   "file_extension": ".py",
   "mimetype": "text/x-python",
   "name": "python",
   "nbconvert_exporter": "python",
   "pygments_lexer": "ipython2",
   "version": "2.7.16"
  },
  "toc": {
   "base_numbering": 1,
   "nav_menu": {},
   "number_sections": false,
   "sideBar": true,
   "skip_h1_title": true,
   "title_cell": "Table of Contents",
   "title_sidebar": "Contents",
   "toc_cell": true,
   "toc_position": {},
   "toc_section_display": true,
   "toc_window_display": true
  }
 },
 "nbformat": 4,
 "nbformat_minor": 2
}
